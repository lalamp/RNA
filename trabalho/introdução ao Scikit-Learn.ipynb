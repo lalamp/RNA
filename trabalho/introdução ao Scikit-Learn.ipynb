{
 "cells": [
  {
   "cell_type": "markdown",
   "id": "prepared-intranet",
   "metadata": {
    "id": "prepared-intranet"
   },
   "source": [
    "# Introdução ao Scikit-Learn"
   ]
  },
  {
   "cell_type": "markdown",
   "id": "administrative-fighter",
   "metadata": {
    "id": "administrative-fighter"
   },
   "source": [
    "<img src=\"https://upload.wikimedia.org/wikipedia/commons/thumb/0/05/Scikit_learn_logo_small.svg/1280px-Scikit_learn_logo_small.svg.png\" width=200, height=100 alt=\"image info\" />"
   ]
  },
  {
   "cell_type": "markdown",
   "id": "solved-intelligence",
   "metadata": {
    "id": "solved-intelligence"
   },
   "source": [
    "O Scikit-Learn é uma biblioteca de aprendizado de máquina de código aberto para a linguagem de programação Python. De acordo com a sua [documentação](https://scikit-learn.org/stable/getting_started.html), o Scikit-Learn é uma biblioteca que suporta aprendizado supervisionado e não supervisionado, além de prover várias ferramentas para *model fitting*, pré-processamento de dados, seleção de modelos e avaliação, entre outras várias utilidades. Ela é projetada para interagir com as bibliotecas Python numéricas e científicas como *NumPy* e *SciPy*.\n",
    "\n",
    "Para mais informações sobre a arquitetura da biblioteca, recomendo esse paper [API design for machine learning software: experiences from the scikit-learn project](https://arxiv.org/abs/1309.0238)."
   ]
  },
  {
   "cell_type": "markdown",
   "id": "charming-surrey",
   "metadata": {
    "id": "charming-surrey"
   },
   "source": [
    "## Interfaces do `Scikit-learn`\n",
    "\n",
    "O design da biblioteca é organizado em volta de [três APIs fundamentais (interfaces)](https://towardsdatascience.com/scikit-learn-design-principles-d1371958059b), pilares básicos do `Scikit-learn`: ***Estimator, Predictor*** e ***Transformer***.\n",
    "\n",
    "### Estimator API \n",
    "\n",
    "Qualquer objeto que pode estimar alguns parâmetros com base em um conjunto de dados é chamado de *estimador* (por exemplo os modelos de Machine Learning como: Árvore de Decisão, KNN e Redes Neurais). A estimativa em si é realizada pelo método `fit()` e leva apenas um conjunto de dados como parâmetro (ou dois para algoritmos de aprendizado supervisionado; o segundo conjunto de dados contém os rótulos). Qualquer outro parâmetro necessário para orientar o processo de estimativa é considerado um hiperparâmetro e deve ser definido como uma variável de instância (geralmente por meio de um parâmetro do construtor).\n",
    "\n",
    "### Predictor API \n",
    "\n",
    "Alguns estimadores são capazes de fazer previsões dado um conjunto de dados; eles são chamados de preditores. Por exemplo, um modelo de Rede Neural é um preditor: ele preve a classe de um exemplo dado os atributos daquele exemplo. Um preditor tem um método `predict()` que pega um conjunto de dados de novas instâncias e retorna um conjunto de dados de predições correspondentes. Ele também tem um método `score()` que mede a qualidade das previsões dado um conjunto de teste (e os rótulos correspondentes no caso de algoritmos de aprendizado supervisionado)\n",
    "\n",
    "### Transformer API \n",
    "\n",
    "Alguns estimadores (como por exemplo o MinMaxScaler) também podem transformar um conjunto de dados; estes são chamados de transformadores. A API é bastante simples: a transformação é realizada pelo método `transform()` com o conjunto de dados a ser transformado como parâmetro. Ele retorna o conjunto de dados transformado. Esta transformação geralmente depende dos parâmetros aprendidos, como é o caso do MinMaxScaler que deve calcular qual o valor máximo e mínimo de cada coluna do conjunto de dados. Todos os transformadores também têm um método de conveniência chamado `fit_transform()` que é equivalente a chamar o método `fit()` e depois `transform()` (mas às vezes `fit_transform()` é otimizado e executa muito mais rápido).\n"
   ]
  },
  {
   "cell_type": "markdown",
   "id": "hindu-ordinance",
   "metadata": {
    "id": "hindu-ordinance"
   },
   "source": [
    "## Exemplo de Aplicação"
   ]
  },
  {
   "cell_type": "code",
   "execution_count": 1,
   "id": "declared-woman",
   "metadata": {
    "ExecuteTime": {
     "end_time": "2021-11-05T16:54:24.548677Z",
     "start_time": "2021-11-05T16:54:22.136825Z"
    },
    "executionInfo": {
     "elapsed": 935,
     "status": "ok",
     "timestamp": 1636127330416,
     "user": {
      "displayName": "Sergio Baldo Junior",
      "photoUrl": "https://lh3.googleusercontent.com/a-/AOh14Gi2otI0IZRjpoY3uoM55ZI_QS5wC4KGsRtL_Nle1A=s64",
      "userId": "10630088078956449092"
     },
     "user_tz": 180
    },
    "id": "declared-woman"
   },
   "outputs": [],
   "source": [
    "# Bibliotecas\n",
    "import pandas as pd \n",
    "import numpy as np\n",
    "import seaborn as sns\n",
    "import matplotlib.pyplot as plt\n",
    "import matplotlib as mpl\n",
    "from sklearn.neural_network import MLPClassifier\n",
    "from sklearn.metrics import accuracy_score, confusion_matrix\n",
    "from sklearn.preprocessing import MinMaxScaler, OneHotEncoder, OrdinalEncoder, LabelEncoder\n",
    "from sklearn.pipeline import Pipeline\n",
    "from sklearn.impute import SimpleImputer\n",
    "from sklearn.compose import ColumnTransformer\n",
    "from sklearn.model_selection import StratifiedShuffleSplit\n",
    "\n",
    "# Faz com que os resultados sejam mantidos sempre que executar esse jupyter notebook\n",
    "SET_SEED = 42\n",
    "np.random.seed(SET_SEED)\n",
    "\n",
    "# Set parâmetros para figuras\n",
    "%matplotlib inline\n",
    "mpl.rc('axes', labelsize=14)\n",
    "mpl.rc('xtick', labelsize=12)\n",
    "mpl.rc('ytick', labelsize=12)\n",
    "\n",
    "import warnings\n",
    "warnings.filterwarnings('ignore')"
   ]
  },
  {
   "cell_type": "code",
   "execution_count": 2,
   "id": "emotional-shade",
   "metadata": {
    "ExecuteTime": {
     "end_time": "2021-11-05T16:54:33.437991Z",
     "start_time": "2021-11-05T16:54:33.351249Z"
    },
    "colab": {
     "base_uri": "https://localhost:8080/"
    },
    "executionInfo": {
     "elapsed": 282,
     "status": "ok",
     "timestamp": 1636125404292,
     "user": {
      "displayName": "Sergio Baldo Junior",
      "photoUrl": "https://lh3.googleusercontent.com/a-/AOh14Gi2otI0IZRjpoY3uoM55ZI_QS5wC4KGsRtL_Nle1A=s64",
      "userId": "10630088078956449092"
     },
     "user_tz": 180
    },
    "id": "emotional-shade",
    "outputId": "6dc2b485-84bf-49c1-d377-4ddf1ab2ba7b"
   },
   "outputs": [
    {
     "name": "stdout",
     "output_type": "stream",
     "text": [
      "Número de exemplos: 32561\n",
      "Número de atributos: 15\n"
     ]
    }
   ],
   "source": [
    "# Carrega o dataset\n",
    "# Biblioteca necessária: pandas -> import pandas as pd\n",
    "\n",
    "df = pd.read_csv('census.csv', sep = ',')\n",
    "print(f'Número de exemplos: {df.shape[0]}')\n",
    "print(f'Número de atributos: {df.shape[1]}')"
   ]
  },
  {
   "cell_type": "markdown",
   "id": "compatible-horizontal",
   "metadata": {
    "id": "compatible-horizontal"
   },
   "source": [
    "**Atributos**\n",
    "\n",
    "* **age:** Idade\n",
    "* **workclass:** Classe de trabalho. Valores: (Private, Self-emp-not-inc, Self-emp-inc, Federal-gov, Local-gov, State-gov, Without-pay, Never-worked)\n",
    "* **final-weight:** Peso final determinado pelo Census Org\n",
    "* **education**: Educação do indivíduo. Valores: (10th, 11th, 12th, 1st-4th, 5th-6th, 7th-8th, 9th, Assoc-acdm, Assoc-voc, Bachelors, Doctorate, HS-grad, Masters, Preschool, Prof-school, Some-college)\n",
    "* **education-num**: Educação do indivíduo representada por número de anos de educação\n",
    "* **marital-status**: Estado civil. Valores: (Divorced, Married-AF-spouse, Married-civ-spouse, Married-spouse-absent, Never-married, Separated) \n",
    "* **occupation**: Profissão. Valores: (Adm-clerical, Armed-Forces, Craft-repair, Exec-managerial, Farming-fishing, Handlers-cleaners, Machine-op-inspct, Other-service, Priv-house-serv, Prof-specialty, Protective-serv, Sales, Tech-support, Transport-moving)\n",
    "* **relationship**: Parentesco. Valores: (Husband, Not-in-family, Other-relative, Own-child, Unmarried, Wife)\n",
    "* **race**: Raça. Valores: (Amer-Indian-Eskimo, Asian-Pac-Islander, Black, Other, White)\n",
    "* **sex**: Sexo. Valores: (Female, Male)\n",
    "* **capital-gain**: Ganho de capital\n",
    "* **capital-loos**: Perda de capital\n",
    "* **hour-per-week**: Média de horas de trabalho por semana\n",
    "* **native-country**: País nativo. Valores: (Cambodia, Canada, China, Columbia, Cuba, Dominican-Republic, Ecuador, El-Salvador, England, France, Germany, Greece, Guatemala, Haiti, Holand-Netherlands, Honduras, Hong, Hungary, India, Iran, Ireland, Italy, Jamaica, Japan, Laos, Mexico, Nicaragua, Outlying-US(Guam-USVI-etc), Peru, Philippines, Poland, Portugal, Puerto-Rico, Scotland, South, Taiwan, Thailand, Trinadad&Tobago, United-States, Vietnam, Yugoslavia)\n",
    "* **income**: renda. Valores: (<= 50K, > 50K)\n"
   ]
  },
  {
   "cell_type": "code",
   "execution_count": 3,
   "id": "manual-officer",
   "metadata": {
    "ExecuteTime": {
     "end_time": "2021-11-05T16:54:36.862215Z",
     "start_time": "2021-11-05T16:54:36.835106Z"
    },
    "colab": {
     "base_uri": "https://localhost:8080/",
     "height": 514
    },
    "executionInfo": {
     "elapsed": 402,
     "status": "ok",
     "timestamp": 1636125444478,
     "user": {
      "displayName": "Sergio Baldo Junior",
      "photoUrl": "https://lh3.googleusercontent.com/a-/AOh14Gi2otI0IZRjpoY3uoM55ZI_QS5wC4KGsRtL_Nle1A=s64",
      "userId": "10630088078956449092"
     },
     "user_tz": 180
    },
    "id": "manual-officer",
    "outputId": "d49cad2e-5fc8-4368-ed24-e3426f337442"
   },
   "outputs": [
    {
     "data": {
      "text/html": [
       "<div>\n",
       "<style scoped>\n",
       "    .dataframe tbody tr th:only-of-type {\n",
       "        vertical-align: middle;\n",
       "    }\n",
       "\n",
       "    .dataframe tbody tr th {\n",
       "        vertical-align: top;\n",
       "    }\n",
       "\n",
       "    .dataframe thead th {\n",
       "        text-align: right;\n",
       "    }\n",
       "</style>\n",
       "<table border=\"1\" class=\"dataframe\">\n",
       "  <thead>\n",
       "    <tr style=\"text-align: right;\">\n",
       "      <th></th>\n",
       "      <th>age</th>\n",
       "      <th>workclass</th>\n",
       "      <th>final-weight</th>\n",
       "      <th>education</th>\n",
       "      <th>education-num</th>\n",
       "      <th>marital-status</th>\n",
       "      <th>occupation</th>\n",
       "      <th>relationship</th>\n",
       "      <th>race</th>\n",
       "      <th>sex</th>\n",
       "      <th>capital-gain</th>\n",
       "      <th>capital-loos</th>\n",
       "      <th>hour-per-week</th>\n",
       "      <th>native-country</th>\n",
       "      <th>income</th>\n",
       "    </tr>\n",
       "  </thead>\n",
       "  <tbody>\n",
       "    <tr>\n",
       "      <th>0</th>\n",
       "      <td>39</td>\n",
       "      <td>State-gov</td>\n",
       "      <td>77516</td>\n",
       "      <td>Bachelors</td>\n",
       "      <td>13</td>\n",
       "      <td>Never-married</td>\n",
       "      <td>Adm-clerical</td>\n",
       "      <td>Not-in-family</td>\n",
       "      <td>White</td>\n",
       "      <td>Male</td>\n",
       "      <td>2174</td>\n",
       "      <td>0</td>\n",
       "      <td>40</td>\n",
       "      <td>United-States</td>\n",
       "      <td>&lt;=50K</td>\n",
       "    </tr>\n",
       "    <tr>\n",
       "      <th>1</th>\n",
       "      <td>50</td>\n",
       "      <td>Self-emp-not-inc</td>\n",
       "      <td>83311</td>\n",
       "      <td>Bachelors</td>\n",
       "      <td>13</td>\n",
       "      <td>Married-civ-spouse</td>\n",
       "      <td>Exec-managerial</td>\n",
       "      <td>Husband</td>\n",
       "      <td>White</td>\n",
       "      <td>Male</td>\n",
       "      <td>0</td>\n",
       "      <td>0</td>\n",
       "      <td>13</td>\n",
       "      <td>United-States</td>\n",
       "      <td>&lt;=50K</td>\n",
       "    </tr>\n",
       "    <tr>\n",
       "      <th>2</th>\n",
       "      <td>38</td>\n",
       "      <td>Private</td>\n",
       "      <td>215646</td>\n",
       "      <td>HS-grad</td>\n",
       "      <td>9</td>\n",
       "      <td>Divorced</td>\n",
       "      <td>Handlers-cleaners</td>\n",
       "      <td>Not-in-family</td>\n",
       "      <td>White</td>\n",
       "      <td>Male</td>\n",
       "      <td>0</td>\n",
       "      <td>0</td>\n",
       "      <td>40</td>\n",
       "      <td>United-States</td>\n",
       "      <td>&lt;=50K</td>\n",
       "    </tr>\n",
       "    <tr>\n",
       "      <th>3</th>\n",
       "      <td>53</td>\n",
       "      <td>Private</td>\n",
       "      <td>234721</td>\n",
       "      <td>11th</td>\n",
       "      <td>7</td>\n",
       "      <td>Married-civ-spouse</td>\n",
       "      <td>Handlers-cleaners</td>\n",
       "      <td>Husband</td>\n",
       "      <td>Black</td>\n",
       "      <td>Male</td>\n",
       "      <td>0</td>\n",
       "      <td>0</td>\n",
       "      <td>40</td>\n",
       "      <td>United-States</td>\n",
       "      <td>&lt;=50K</td>\n",
       "    </tr>\n",
       "    <tr>\n",
       "      <th>4</th>\n",
       "      <td>28</td>\n",
       "      <td>Private</td>\n",
       "      <td>338409</td>\n",
       "      <td>Bachelors</td>\n",
       "      <td>13</td>\n",
       "      <td>Married-civ-spouse</td>\n",
       "      <td>Prof-specialty</td>\n",
       "      <td>Wife</td>\n",
       "      <td>Black</td>\n",
       "      <td>Female</td>\n",
       "      <td>0</td>\n",
       "      <td>0</td>\n",
       "      <td>40</td>\n",
       "      <td>Cuba</td>\n",
       "      <td>&lt;=50K</td>\n",
       "    </tr>\n",
       "    <tr>\n",
       "      <th>5</th>\n",
       "      <td>37</td>\n",
       "      <td>Private</td>\n",
       "      <td>284582</td>\n",
       "      <td>Masters</td>\n",
       "      <td>14</td>\n",
       "      <td>Married-civ-spouse</td>\n",
       "      <td>Exec-managerial</td>\n",
       "      <td>Wife</td>\n",
       "      <td>White</td>\n",
       "      <td>Female</td>\n",
       "      <td>0</td>\n",
       "      <td>0</td>\n",
       "      <td>40</td>\n",
       "      <td>United-States</td>\n",
       "      <td>&lt;=50K</td>\n",
       "    </tr>\n",
       "    <tr>\n",
       "      <th>6</th>\n",
       "      <td>49</td>\n",
       "      <td>Private</td>\n",
       "      <td>160187</td>\n",
       "      <td>9th</td>\n",
       "      <td>5</td>\n",
       "      <td>Married-spouse-absent</td>\n",
       "      <td>Other-service</td>\n",
       "      <td>Not-in-family</td>\n",
       "      <td>Black</td>\n",
       "      <td>Female</td>\n",
       "      <td>0</td>\n",
       "      <td>0</td>\n",
       "      <td>16</td>\n",
       "      <td>Jamaica</td>\n",
       "      <td>&lt;=50K</td>\n",
       "    </tr>\n",
       "    <tr>\n",
       "      <th>7</th>\n",
       "      <td>52</td>\n",
       "      <td>Self-emp-not-inc</td>\n",
       "      <td>209642</td>\n",
       "      <td>HS-grad</td>\n",
       "      <td>9</td>\n",
       "      <td>Married-civ-spouse</td>\n",
       "      <td>Exec-managerial</td>\n",
       "      <td>Husband</td>\n",
       "      <td>White</td>\n",
       "      <td>Male</td>\n",
       "      <td>0</td>\n",
       "      <td>0</td>\n",
       "      <td>45</td>\n",
       "      <td>United-States</td>\n",
       "      <td>&gt;50K</td>\n",
       "    </tr>\n",
       "    <tr>\n",
       "      <th>8</th>\n",
       "      <td>31</td>\n",
       "      <td>Private</td>\n",
       "      <td>45781</td>\n",
       "      <td>Masters</td>\n",
       "      <td>14</td>\n",
       "      <td>Never-married</td>\n",
       "      <td>Prof-specialty</td>\n",
       "      <td>Not-in-family</td>\n",
       "      <td>White</td>\n",
       "      <td>Female</td>\n",
       "      <td>14084</td>\n",
       "      <td>0</td>\n",
       "      <td>50</td>\n",
       "      <td>United-States</td>\n",
       "      <td>&gt;50K</td>\n",
       "    </tr>\n",
       "    <tr>\n",
       "      <th>9</th>\n",
       "      <td>42</td>\n",
       "      <td>Private</td>\n",
       "      <td>159449</td>\n",
       "      <td>Bachelors</td>\n",
       "      <td>13</td>\n",
       "      <td>Married-civ-spouse</td>\n",
       "      <td>Exec-managerial</td>\n",
       "      <td>Husband</td>\n",
       "      <td>White</td>\n",
       "      <td>Male</td>\n",
       "      <td>5178</td>\n",
       "      <td>0</td>\n",
       "      <td>40</td>\n",
       "      <td>United-States</td>\n",
       "      <td>&gt;50K</td>\n",
       "    </tr>\n",
       "    <tr>\n",
       "      <th>10</th>\n",
       "      <td>37</td>\n",
       "      <td>Private</td>\n",
       "      <td>280464</td>\n",
       "      <td>Some-college</td>\n",
       "      <td>10</td>\n",
       "      <td>Married-civ-spouse</td>\n",
       "      <td>Exec-managerial</td>\n",
       "      <td>Husband</td>\n",
       "      <td>Black</td>\n",
       "      <td>Male</td>\n",
       "      <td>0</td>\n",
       "      <td>0</td>\n",
       "      <td>80</td>\n",
       "      <td>United-States</td>\n",
       "      <td>&gt;50K</td>\n",
       "    </tr>\n",
       "    <tr>\n",
       "      <th>11</th>\n",
       "      <td>30</td>\n",
       "      <td>State-gov</td>\n",
       "      <td>141297</td>\n",
       "      <td>Bachelors</td>\n",
       "      <td>13</td>\n",
       "      <td>Married-civ-spouse</td>\n",
       "      <td>Prof-specialty</td>\n",
       "      <td>Husband</td>\n",
       "      <td>Asian-Pac-Islander</td>\n",
       "      <td>Male</td>\n",
       "      <td>0</td>\n",
       "      <td>0</td>\n",
       "      <td>40</td>\n",
       "      <td>India</td>\n",
       "      <td>&gt;50K</td>\n",
       "    </tr>\n",
       "    <tr>\n",
       "      <th>12</th>\n",
       "      <td>23</td>\n",
       "      <td>Private</td>\n",
       "      <td>122272</td>\n",
       "      <td>Bachelors</td>\n",
       "      <td>13</td>\n",
       "      <td>Never-married</td>\n",
       "      <td>Adm-clerical</td>\n",
       "      <td>Own-child</td>\n",
       "      <td>White</td>\n",
       "      <td>Female</td>\n",
       "      <td>0</td>\n",
       "      <td>0</td>\n",
       "      <td>30</td>\n",
       "      <td>United-States</td>\n",
       "      <td>&lt;=50K</td>\n",
       "    </tr>\n",
       "    <tr>\n",
       "      <th>13</th>\n",
       "      <td>32</td>\n",
       "      <td>Private</td>\n",
       "      <td>205019</td>\n",
       "      <td>Assoc-acdm</td>\n",
       "      <td>12</td>\n",
       "      <td>Never-married</td>\n",
       "      <td>Sales</td>\n",
       "      <td>Not-in-family</td>\n",
       "      <td>Black</td>\n",
       "      <td>Male</td>\n",
       "      <td>0</td>\n",
       "      <td>0</td>\n",
       "      <td>50</td>\n",
       "      <td>United-States</td>\n",
       "      <td>&lt;=50K</td>\n",
       "    </tr>\n",
       "    <tr>\n",
       "      <th>14</th>\n",
       "      <td>40</td>\n",
       "      <td>Private</td>\n",
       "      <td>121772</td>\n",
       "      <td>Assoc-voc</td>\n",
       "      <td>11</td>\n",
       "      <td>Married-civ-spouse</td>\n",
       "      <td>Craft-repair</td>\n",
       "      <td>Husband</td>\n",
       "      <td>Asian-Pac-Islander</td>\n",
       "      <td>Male</td>\n",
       "      <td>0</td>\n",
       "      <td>0</td>\n",
       "      <td>40</td>\n",
       "      <td>?</td>\n",
       "      <td>&gt;50K</td>\n",
       "    </tr>\n",
       "  </tbody>\n",
       "</table>\n",
       "</div>"
      ],
      "text/plain": [
       "    age          workclass  final-weight      education  education-num  \\\n",
       "0    39          State-gov         77516      Bachelors             13   \n",
       "1    50   Self-emp-not-inc         83311      Bachelors             13   \n",
       "2    38            Private        215646        HS-grad              9   \n",
       "3    53            Private        234721           11th              7   \n",
       "4    28            Private        338409      Bachelors             13   \n",
       "5    37            Private        284582        Masters             14   \n",
       "6    49            Private        160187            9th              5   \n",
       "7    52   Self-emp-not-inc        209642        HS-grad              9   \n",
       "8    31            Private         45781        Masters             14   \n",
       "9    42            Private        159449      Bachelors             13   \n",
       "10   37            Private        280464   Some-college             10   \n",
       "11   30          State-gov        141297      Bachelors             13   \n",
       "12   23            Private        122272      Bachelors             13   \n",
       "13   32            Private        205019     Assoc-acdm             12   \n",
       "14   40            Private        121772      Assoc-voc             11   \n",
       "\n",
       "            marital-status          occupation    relationship  \\\n",
       "0            Never-married        Adm-clerical   Not-in-family   \n",
       "1       Married-civ-spouse     Exec-managerial         Husband   \n",
       "2                 Divorced   Handlers-cleaners   Not-in-family   \n",
       "3       Married-civ-spouse   Handlers-cleaners         Husband   \n",
       "4       Married-civ-spouse      Prof-specialty            Wife   \n",
       "5       Married-civ-spouse     Exec-managerial            Wife   \n",
       "6    Married-spouse-absent       Other-service   Not-in-family   \n",
       "7       Married-civ-spouse     Exec-managerial         Husband   \n",
       "8            Never-married      Prof-specialty   Not-in-family   \n",
       "9       Married-civ-spouse     Exec-managerial         Husband   \n",
       "10      Married-civ-spouse     Exec-managerial         Husband   \n",
       "11      Married-civ-spouse      Prof-specialty         Husband   \n",
       "12           Never-married        Adm-clerical       Own-child   \n",
       "13           Never-married               Sales   Not-in-family   \n",
       "14      Married-civ-spouse        Craft-repair         Husband   \n",
       "\n",
       "                   race      sex  capital-gain  capital-loos  hour-per-week  \\\n",
       "0                 White     Male          2174             0             40   \n",
       "1                 White     Male             0             0             13   \n",
       "2                 White     Male             0             0             40   \n",
       "3                 Black     Male             0             0             40   \n",
       "4                 Black   Female             0             0             40   \n",
       "5                 White   Female             0             0             40   \n",
       "6                 Black   Female             0             0             16   \n",
       "7                 White     Male             0             0             45   \n",
       "8                 White   Female         14084             0             50   \n",
       "9                 White     Male          5178             0             40   \n",
       "10                Black     Male             0             0             80   \n",
       "11   Asian-Pac-Islander     Male             0             0             40   \n",
       "12                White   Female             0             0             30   \n",
       "13                Black     Male             0             0             50   \n",
       "14   Asian-Pac-Islander     Male             0             0             40   \n",
       "\n",
       "    native-country  income  \n",
       "0    United-States   <=50K  \n",
       "1    United-States   <=50K  \n",
       "2    United-States   <=50K  \n",
       "3    United-States   <=50K  \n",
       "4             Cuba   <=50K  \n",
       "5    United-States   <=50K  \n",
       "6          Jamaica   <=50K  \n",
       "7    United-States    >50K  \n",
       "8    United-States    >50K  \n",
       "9    United-States    >50K  \n",
       "10   United-States    >50K  \n",
       "11           India    >50K  \n",
       "12   United-States   <=50K  \n",
       "13   United-States   <=50K  \n",
       "14               ?    >50K  "
      ]
     },
     "execution_count": 3,
     "metadata": {},
     "output_type": "execute_result"
    }
   ],
   "source": [
    "# Ver as primeiras 15 linhas do Dataset\n",
    "df.head(15)"
   ]
  },
  {
   "cell_type": "markdown",
   "id": "abandoned-techno",
   "metadata": {
    "id": "abandoned-techno"
   },
   "source": [
    "Podemos observar que no dataset existe colunas com valores de '?', como por exemplo a coluna  `native-country` da linha 14. Isso indica ausência de valores e pode prejudicar o treinamento do classificador. \n",
    "\n",
    "Para a biblioteca `numpy` o valor '?' não é tratado como nulo, por isso devemos trocar os valores de '?' por `NaN`."
   ]
  },
  {
   "cell_type": "code",
   "execution_count": 65,
   "id": "auburn-enclosure",
   "metadata": {
    "ExecuteTime": {
     "end_time": "2021-11-05T12:11:51.691452Z",
     "start_time": "2021-11-05T12:11:50.256051Z"
    },
    "colab": {
     "base_uri": "https://localhost:8080/",
     "height": 1000
    },
    "executionInfo": {
     "elapsed": 1670,
     "status": "ok",
     "timestamp": 1636125633969,
     "user": {
      "displayName": "Sergio Baldo Junior",
      "photoUrl": "https://lh3.googleusercontent.com/a-/AOh14Gi2otI0IZRjpoY3uoM55ZI_QS5wC4KGsRtL_Nle1A=s64",
      "userId": "10630088078956449092"
     },
     "user_tz": 180
    },
    "id": "auburn-enclosure",
    "outputId": "5e426c98-cbaa-4f7f-aae9-3a3687b3cc5d"
   },
   "outputs": [
    {
     "name": "stdout",
     "output_type": "stream",
     "text": [
      "Quatidade de valores nulos por coluna: \n",
      "\n",
      "age               0\n",
      "workclass         0\n",
      "final-weight      0\n",
      "education         0\n",
      "education-num     0\n",
      "marital-status    0\n",
      "occupation        0\n",
      "relationship      0\n",
      "race              0\n",
      "sex               0\n",
      "capital-gain      0\n",
      "capital-loos      0\n",
      "hour-per-week     0\n",
      "native-country    0\n",
      "income            0\n",
      "dtype: int64\n",
      "\n",
      "Quatidade de valores nulos por coluna após a troca de ? por NaN: \n",
      "\n",
      "age                  0\n",
      "workclass         1836\n",
      "final-weight         0\n",
      "education            0\n",
      "education-num        0\n",
      "marital-status       0\n",
      "occupation        1843\n",
      "relationship         0\n",
      "race                 0\n",
      "sex                  0\n",
      "capital-gain         0\n",
      "capital-loos         0\n",
      "hour-per-week        0\n",
      "native-country     583\n",
      "income               0\n",
      "dtype: int64\n",
      "\n",
      "Quantidade de linhas com valores nulos: 2399\n"
     ]
    },
    {
     "data": {
      "text/plain": [
       "<matplotlib.axes._subplots.AxesSubplot at 0x7f0199cfeb90>"
      ]
     },
     "execution_count": 65,
     "metadata": {},
     "output_type": "execute_result"
    },
    {
     "data": {
      "image/png": "[encoded data removed]",
      "text/plain": [
       "<Figure size 720x576 with 1 Axes>"
      ]
     },
     "metadata": {
      "needs_background": "light"
     },
     "output_type": "display_data"
    }
   ],
   "source": [
    "# Primeiro vamos ver se conseguimos mostrar a quantidade de valores nulos \n",
    "print(f'Quatidade de valores nulos por coluna: \\n\\n{df.isnull().sum()}')\n",
    "\n",
    "# Trocar valor '?' por NaN\n",
    "df = df.replace(' ?', np.NaN)\n",
    "\n",
    "# Mostrar a quantidade de valores nulos por coluna após a troca \n",
    "print(f'\\nQuatidade de valores nulos por coluna após a troca de ? por NaN: \\n\\n{df.isnull().sum()}')\n",
    "\n",
    "print(f\"\\nQuantidade de linhas com valores nulos: {df.isna().any(axis=1).sum()}\")\n",
    "\n",
    "# Mostrar graficamente como os valores nulos estão presentes no Dataset\n",
    "# Biblioteca necessária para plot:: matplotlib -> import matplotlib.pyplot as plt \n",
    "#                                :: seaborn-> import seaborn as sns\n",
    "fig, ax = plt.subplots(figsize=(10, 8))\n",
    "sns.heatmap(df.isnull(), cbar=False)\n"
   ]
  },
  {
   "cell_type": "code",
   "execution_count": 66,
   "id": "polar-nerve",
   "metadata": {
    "ExecuteTime": {
     "end_time": "2021-11-05T12:11:51.749607Z",
     "start_time": "2021-11-05T12:11:51.695893Z"
    },
    "colab": {
     "base_uri": "https://localhost:8080/"
    },
    "executionInfo": {
     "elapsed": 539,
     "status": "ok",
     "timestamp": 1636125636384,
     "user": {
      "displayName": "Sergio Baldo Junior",
      "photoUrl": "https://lh3.googleusercontent.com/a-/AOh14Gi2otI0IZRjpoY3uoM55ZI_QS5wC4KGsRtL_Nle1A=s64",
      "userId": "10630088078956449092"
     },
     "user_tz": 180
    },
    "id": "polar-nerve",
    "outputId": "6934f76f-08f4-4d83-d720-8c5fb27c3d6d"
   },
   "outputs": [
    {
     "name": "stdout",
     "output_type": "stream",
     "text": [
      "Número de exemplos: 30162\n"
     ]
    }
   ],
   "source": [
    "# Removendo as linhas com valores nulos do Dataset\n",
    "df_clean = df.dropna()\n",
    "print(f'Número de exemplos: {df_clean.shape[0]}')"
   ]
  },
  {
   "cell_type": "markdown",
   "id": "molecular-vacation",
   "metadata": {
    "id": "molecular-vacation"
   },
   "source": [
    "Podemos remover a coluna `education` pois ela é reduntante, visto que já temos a coluna `education-num` que tem informação semelhante. Como os modelos de Machine Learning não aceitam dados categóricos, vamos manter a coluna que apresenta os valores em inteiro."
   ]
  },
  {
   "cell_type": "code",
   "execution_count": 67,
   "id": "portable-great",
   "metadata": {
    "ExecuteTime": {
     "end_time": "2021-11-05T12:11:51.770797Z",
     "start_time": "2021-11-05T12:11:51.751775Z"
    },
    "executionInfo": {
     "elapsed": 950,
     "status": "ok",
     "timestamp": 1636125699350,
     "user": {
      "displayName": "Sergio Baldo Junior",
      "photoUrl": "https://lh3.googleusercontent.com/a-/AOh14Gi2otI0IZRjpoY3uoM55ZI_QS5wC4KGsRtL_Nle1A=s64",
      "userId": "10630088078956449092"
     },
     "user_tz": 180
    },
    "id": "portable-great"
   },
   "outputs": [],
   "source": [
    "df_clean = df_clean.drop('education', axis=1)"
   ]
  },
  {
   "cell_type": "code",
   "execution_count": 68,
   "id": "threatened-binary",
   "metadata": {
    "ExecuteTime": {
     "end_time": "2021-11-05T12:11:51.800843Z",
     "start_time": "2021-11-05T12:11:51.774438Z"
    },
    "colab": {
     "base_uri": "https://localhost:8080/",
     "height": 204
    },
    "executionInfo": {
     "elapsed": 399,
     "status": "ok",
     "timestamp": 1636125711015,
     "user": {
      "displayName": "Sergio Baldo Junior",
      "photoUrl": "https://lh3.googleusercontent.com/a-/AOh14Gi2otI0IZRjpoY3uoM55ZI_QS5wC4KGsRtL_Nle1A=s64",
      "userId": "10630088078956449092"
     },
     "user_tz": 180
    },
    "id": "threatened-binary",
    "outputId": "951e3ee1-7bb6-43c5-dad3-1004b888bdcb"
   },
   "outputs": [
    {
     "data": {
      "text/html": [
       "<div>\n",
       "<style scoped>\n",
       "    .dataframe tbody tr th:only-of-type {\n",
       "        vertical-align: middle;\n",
       "    }\n",
       "\n",
       "    .dataframe tbody tr th {\n",
       "        vertical-align: top;\n",
       "    }\n",
       "\n",
       "    .dataframe thead th {\n",
       "        text-align: right;\n",
       "    }\n",
       "</style>\n",
       "<table border=\"1\" class=\"dataframe\">\n",
       "  <thead>\n",
       "    <tr style=\"text-align: right;\">\n",
       "      <th></th>\n",
       "      <th>age</th>\n",
       "      <th>workclass</th>\n",
       "      <th>final-weight</th>\n",
       "      <th>education-num</th>\n",
       "      <th>marital-status</th>\n",
       "      <th>occupation</th>\n",
       "      <th>relationship</th>\n",
       "      <th>race</th>\n",
       "      <th>sex</th>\n",
       "      <th>capital-gain</th>\n",
       "      <th>capital-loos</th>\n",
       "      <th>hour-per-week</th>\n",
       "      <th>native-country</th>\n",
       "      <th>income</th>\n",
       "    </tr>\n",
       "  </thead>\n",
       "  <tbody>\n",
       "    <tr>\n",
       "      <th>0</th>\n",
       "      <td>39</td>\n",
       "      <td>State-gov</td>\n",
       "      <td>77516</td>\n",
       "      <td>13</td>\n",
       "      <td>Never-married</td>\n",
       "      <td>Adm-clerical</td>\n",
       "      <td>Not-in-family</td>\n",
       "      <td>White</td>\n",
       "      <td>Male</td>\n",
       "      <td>2174</td>\n",
       "      <td>0</td>\n",
       "      <td>40</td>\n",
       "      <td>United-States</td>\n",
       "      <td>&lt;=50K</td>\n",
       "    </tr>\n",
       "    <tr>\n",
       "      <th>1</th>\n",
       "      <td>50</td>\n",
       "      <td>Self-emp-not-inc</td>\n",
       "      <td>83311</td>\n",
       "      <td>13</td>\n",
       "      <td>Married-civ-spouse</td>\n",
       "      <td>Exec-managerial</td>\n",
       "      <td>Husband</td>\n",
       "      <td>White</td>\n",
       "      <td>Male</td>\n",
       "      <td>0</td>\n",
       "      <td>0</td>\n",
       "      <td>13</td>\n",
       "      <td>United-States</td>\n",
       "      <td>&lt;=50K</td>\n",
       "    </tr>\n",
       "    <tr>\n",
       "      <th>2</th>\n",
       "      <td>38</td>\n",
       "      <td>Private</td>\n",
       "      <td>215646</td>\n",
       "      <td>9</td>\n",
       "      <td>Divorced</td>\n",
       "      <td>Handlers-cleaners</td>\n",
       "      <td>Not-in-family</td>\n",
       "      <td>White</td>\n",
       "      <td>Male</td>\n",
       "      <td>0</td>\n",
       "      <td>0</td>\n",
       "      <td>40</td>\n",
       "      <td>United-States</td>\n",
       "      <td>&lt;=50K</td>\n",
       "    </tr>\n",
       "    <tr>\n",
       "      <th>3</th>\n",
       "      <td>53</td>\n",
       "      <td>Private</td>\n",
       "      <td>234721</td>\n",
       "      <td>7</td>\n",
       "      <td>Married-civ-spouse</td>\n",
       "      <td>Handlers-cleaners</td>\n",
       "      <td>Husband</td>\n",
       "      <td>Black</td>\n",
       "      <td>Male</td>\n",
       "      <td>0</td>\n",
       "      <td>0</td>\n",
       "      <td>40</td>\n",
       "      <td>United-States</td>\n",
       "      <td>&lt;=50K</td>\n",
       "    </tr>\n",
       "    <tr>\n",
       "      <th>4</th>\n",
       "      <td>28</td>\n",
       "      <td>Private</td>\n",
       "      <td>338409</td>\n",
       "      <td>13</td>\n",
       "      <td>Married-civ-spouse</td>\n",
       "      <td>Prof-specialty</td>\n",
       "      <td>Wife</td>\n",
       "      <td>Black</td>\n",
       "      <td>Female</td>\n",
       "      <td>0</td>\n",
       "      <td>0</td>\n",
       "      <td>40</td>\n",
       "      <td>Cuba</td>\n",
       "      <td>&lt;=50K</td>\n",
       "    </tr>\n",
       "  </tbody>\n",
       "</table>\n",
       "</div>"
      ],
      "text/plain": [
       "   age          workclass  final-weight  ...  hour-per-week  native-country  income\n",
       "0   39          State-gov         77516  ...             40   United-States   <=50K\n",
       "1   50   Self-emp-not-inc         83311  ...             13   United-States   <=50K\n",
       "2   38            Private        215646  ...             40   United-States   <=50K\n",
       "3   53            Private        234721  ...             40   United-States   <=50K\n",
       "4   28            Private        338409  ...             40            Cuba   <=50K\n",
       "\n",
       "[5 rows x 14 columns]"
      ]
     },
     "execution_count": 68,
     "metadata": {},
     "output_type": "execute_result"
    }
   ],
   "source": [
    "df_clean.head()"
   ]
  },
  {
   "cell_type": "markdown",
   "id": "joined-genre",
   "metadata": {
    "ExecuteTime": {
     "end_time": "2021-10-22T18:19:45.832148Z",
     "start_time": "2021-10-22T18:19:45.787065Z"
    },
    "id": "joined-genre"
   },
   "source": [
    "### Criação de dados de validação e teste do modelo\n"
   ]
  },
  {
   "cell_type": "markdown",
   "id": "thrown-operator",
   "metadata": {
    "id": "thrown-operator"
   },
   "source": [
    "<img src=\"https://i.stack.imgur.com/pXAfX.png\" width=700, height=400 alt=\"image_heart\" />\n"
   ]
  },
  {
   "cell_type": "markdown",
   "id": "spiritual-heavy",
   "metadata": {
    "id": "spiritual-heavy"
   },
   "source": [
    "Porcentagem de dados de cada classe no Dataset"
   ]
  },
  {
   "cell_type": "code",
   "execution_count": 69,
   "id": "opposed-draft",
   "metadata": {
    "ExecuteTime": {
     "end_time": "2021-11-05T12:11:51.817465Z",
     "start_time": "2021-11-05T12:11:51.803967Z"
    },
    "colab": {
     "base_uri": "https://localhost:8080/"
    },
    "executionInfo": {
     "elapsed": 277,
     "status": "ok",
     "timestamp": 1636125798944,
     "user": {
      "displayName": "Sergio Baldo Junior",
      "photoUrl": "https://lh3.googleusercontent.com/a-/AOh14Gi2otI0IZRjpoY3uoM55ZI_QS5wC4KGsRtL_Nle1A=s64",
      "userId": "10630088078956449092"
     },
     "user_tz": 180
    },
    "id": "opposed-draft",
    "outputId": "84d64c54-9bad-43fc-e57a-173ce87fd136"
   },
   "outputs": [
    {
     "data": {
      "text/plain": [
       " <=50K    0.751078\n",
       " >50K     0.248922\n",
       "Name: income, dtype: float64"
      ]
     },
     "execution_count": 69,
     "metadata": {},
     "output_type": "execute_result"
    }
   ],
   "source": [
    "df_clean['income'].value_counts() / len(df_clean)"
   ]
  },
  {
   "cell_type": "markdown",
   "id": "expired-presentation",
   "metadata": {
    "id": "expired-presentation"
   },
   "source": [
    "É importante garantirmos que os conjuntos sejam criados mantendo a mesma porcentagem de cada classe que o Dataset original. Para isso iremos utilizar o objeto `StratifiedShuffleSplit` do subpacote `sklearn.model_selection`. O método `StratifiedShuffleSplit` irá embaralhar o conjunto de dados e dividir ele em  `n_splits` vezes. Porém, criando divisões preservando a mesma porcentagem para cada classe de destino como no conjunto completo. \n",
    "\n",
    "**OBS:** Para mais informações desse método pode se ler a [documentação dele.](https://scikit-learn.org/stable/modules/cross_validation.html#cross-validation). "
   ]
  },
  {
   "cell_type": "code",
   "execution_count": 70,
   "id": "yellow-lucas",
   "metadata": {
    "ExecuteTime": {
     "end_time": "2021-11-05T12:11:51.912688Z",
     "start_time": "2021-11-05T12:11:51.820088Z"
    },
    "executionInfo": {
     "elapsed": 528,
     "status": "ok",
     "timestamp": 1636126016175,
     "user": {
      "displayName": "Sergio Baldo Junior",
      "photoUrl": "https://lh3.googleusercontent.com/a-/AOh14Gi2otI0IZRjpoY3uoM55ZI_QS5wC4KGsRtL_Nle1A=s64",
      "userId": "10630088078956449092"
     },
     "user_tz": 180
    },
    "id": "yellow-lucas"
   },
   "outputs": [],
   "source": [
    "# Biblioteca necessária para criar conjunto de teste e validação com a mesma porcentagem de amostras\n",
    "# :: sklearn -> from sklearn.model_selection import StratifiedShuffleSplit\n",
    "\n",
    "split = StratifiedShuffleSplit(n_splits=1, test_size=0.2, random_state=SET_SEED)\n",
    "\n",
    "# Dividir o conjunto de dados original em train_full e test \n",
    "for train_index, test_index in split.split(df_clean, df_clean['income']):\n",
    "    df_train_full = df_clean.iloc[train_index]\n",
    "    df_test = df_clean.iloc[test_index]\n",
    "    \n",
    "    \n",
    "# Dividir o conjunto de dados train_full em train e valid \n",
    "for train_index, test_index in split.split(df_train_full, df_train_full['income']):\n",
    "    df_train = df_train_full.iloc[train_index]\n",
    "    df_valid = df_train_full.iloc[test_index]    "
   ]
  },
  {
   "cell_type": "code",
   "execution_count": 71,
   "id": "clean-architect",
   "metadata": {
    "ExecuteTime": {
     "end_time": "2021-11-05T12:11:51.933966Z",
     "start_time": "2021-11-05T12:11:51.920842Z"
    },
    "colab": {
     "base_uri": "https://localhost:8080/"
    },
    "executionInfo": {
     "elapsed": 1025,
     "status": "ok",
     "timestamp": 1636126019132,
     "user": {
      "displayName": "Sergio Baldo Junior",
      "photoUrl": "https://lh3.googleusercontent.com/a-/AOh14Gi2otI0IZRjpoY3uoM55ZI_QS5wC4KGsRtL_Nle1A=s64",
      "userId": "10630088078956449092"
     },
     "user_tz": 180
    },
    "id": "clean-architect",
    "outputId": "c24a2644-394e-4ebe-8c45-7a36e34f11a0"
   },
   "outputs": [
    {
     "name": "stdout",
     "output_type": "stream",
     "text": [
      "Número de exemplos de treino: 19303\n",
      "Porcentagem de cada classe no conjunto de treino: \n",
      " <=50K    0.751075\n",
      " >50K     0.248925\n",
      "Name: income, dtype: float64\n",
      "\n",
      "Número de exemplos de validação: 4826\n",
      "Porcentagem de cada classe no conjunto de validação: \n",
      " <=50K    0.75114\n",
      " >50K     0.24886\n",
      "Name: income, dtype: float64\n",
      "\n",
      "Número de exemplos de teste: 6033\n",
      "Porcentagem de cada classe no conjunto de teste: \n",
      " <=50K    0.751036\n",
      " >50K     0.248964\n",
      "Name: income, dtype: float64\n"
     ]
    }
   ],
   "source": [
    "print(f'Número de exemplos de treino: {df_train.shape[0]}')\n",
    "print('Porcentagem de cada classe no conjunto de treino: ')\n",
    "print(df_train['income'].value_counts() / len(df_train))\n",
    "\n",
    "print(f'\\nNúmero de exemplos de validação: {df_valid.shape[0]}')\n",
    "print(f'Porcentagem de cada classe no conjunto de validação: ')\n",
    "print(df_valid['income'].value_counts() / len(df_valid))\n",
    "\n",
    "print(f'\\nNúmero de exemplos de teste: {df_test.shape[0]}')\n",
    "print(f'Porcentagem de cada classe no conjunto de teste: ')\n",
    "print(df_test['income'].value_counts() / len(df_test))\n"
   ]
  },
  {
   "cell_type": "markdown",
   "id": "prerequisite-superintendent",
   "metadata": {
    "id": "prerequisite-superintendent"
   },
   "source": [
    "## Pré-Processamento dos dados"
   ]
  },
  {
   "cell_type": "markdown",
   "id": "offensive-invalid",
   "metadata": {
    "ExecuteTime": {
     "end_time": "2021-10-22T19:14:33.610084Z",
     "start_time": "2021-10-22T19:14:33.598975Z"
    },
    "id": "offensive-invalid"
   },
   "source": [
    "### Lidando com variáveis categóricas"
   ]
  },
  {
   "cell_type": "markdown",
   "id": "breeding-belfast",
   "metadata": {
    "id": "breeding-belfast"
   },
   "source": [
    "É importante sabermos quais valores categóricos existem e o que cada um deles representam. Observando os atributos, os valores categóricos são: `workclass`, `marital-status`, `occupation`, `relationship`, `race`, `sex`, `native-country` e a classe do exemplos `income`. \n",
    "\n",
    "Os atributos `workclass`, `marital-status`, `occupation`, `relationship`, `race`, `sex` e `native-country` não apresentam uma ordenação entre os valores. Dessa forma, devemos transformar cada valor em um vetor binário, cada um com um elemento igual a 1 e os demais igual a 0. Sendo o tamanho do vetor igual ao número de valores diferentes.\n",
    "\n",
    "Já o atributo `income`, que representa a classe dos dados, será processado utilizando outro método que lida com a variável quando ela representa a classe dos dados."
   ]
  },
  {
   "cell_type": "markdown",
   "id": "sustained-stake",
   "metadata": {
    "id": "sustained-stake"
   },
   "source": [
    "#### Conversão dos atributos: `workclass`,  `marital-status`,  `occupation`,  `relationship`,  `race`,  `sex`  e  `native-country`."
   ]
  },
  {
   "cell_type": "markdown",
   "id": "union-poetry",
   "metadata": {
    "id": "union-poetry"
   },
   "source": [
    "Para converter esses atributos em vetores binários vamos utilizar o objeto `OneHotEncoder` presente nano subpacote `sklearn.preprocessing`. Cada valor será representado como um vetor binário, onde cada um contém um elemento igual a 1 e os demais igual a 0. Como o exemplo abaixo:\n",
    "\n",
    "<img src=\"https://miro.medium.com/max/1400/1*ggtP4a5YaRx6l09KQaYOnw.png\" width=900, height=300 alt=\"image\" />\n"
   ]
  },
  {
   "cell_type": "code",
   "execution_count": 11,
   "id": "ancient-burke",
   "metadata": {
    "ExecuteTime": {
     "end_time": "2021-11-05T12:11:51.950116Z",
     "start_time": "2021-11-05T12:11:51.936758Z"
    },
    "colab": {
     "base_uri": "https://localhost:8080/",
     "height": 204
    },
    "executionInfo": {
     "elapsed": 305,
     "status": "ok",
     "timestamp": 1636118968598,
     "user": {
      "displayName": "Sergio Baldo Junior",
      "photoUrl": "https://lh3.googleusercontent.com/a-/AOh14Gi2otI0IZRjpoY3uoM55ZI_QS5wC4KGsRtL_Nle1A=s64",
      "userId": "10630088078956449092"
     },
     "user_tz": 180
    },
    "id": "ancient-burke",
    "outputId": "a09ba2bb-1a7c-4264-be88-6bd9d8cbf80c"
   },
   "outputs": [
    {
     "data": {
      "text/html": [
       "<div>\n",
       "<style scoped>\n",
       "    .dataframe tbody tr th:only-of-type {\n",
       "        vertical-align: middle;\n",
       "    }\n",
       "\n",
       "    .dataframe tbody tr th {\n",
       "        vertical-align: top;\n",
       "    }\n",
       "\n",
       "    .dataframe thead th {\n",
       "        text-align: right;\n",
       "    }\n",
       "</style>\n",
       "<table border=\"1\" class=\"dataframe\">\n",
       "  <thead>\n",
       "    <tr style=\"text-align: right;\">\n",
       "      <th></th>\n",
       "      <th>workclass</th>\n",
       "      <th>marital-status</th>\n",
       "      <th>occupation</th>\n",
       "      <th>relationship</th>\n",
       "      <th>race</th>\n",
       "      <th>sex</th>\n",
       "      <th>native-country</th>\n",
       "    </tr>\n",
       "  </thead>\n",
       "  <tbody>\n",
       "    <tr>\n",
       "      <th>8630</th>\n",
       "      <td>Private</td>\n",
       "      <td>Never-married</td>\n",
       "      <td>Sales</td>\n",
       "      <td>Own-child</td>\n",
       "      <td>White</td>\n",
       "      <td>Male</td>\n",
       "      <td>United-States</td>\n",
       "    </tr>\n",
       "    <tr>\n",
       "      <th>20942</th>\n",
       "      <td>Private</td>\n",
       "      <td>Separated</td>\n",
       "      <td>Prof-specialty</td>\n",
       "      <td>Unmarried</td>\n",
       "      <td>Black</td>\n",
       "      <td>Female</td>\n",
       "      <td>United-States</td>\n",
       "    </tr>\n",
       "    <tr>\n",
       "      <th>9332</th>\n",
       "      <td>Private</td>\n",
       "      <td>Never-married</td>\n",
       "      <td>Machine-op-inspct</td>\n",
       "      <td>Not-in-family</td>\n",
       "      <td>White</td>\n",
       "      <td>Male</td>\n",
       "      <td>United-States</td>\n",
       "    </tr>\n",
       "    <tr>\n",
       "      <th>20432</th>\n",
       "      <td>Private</td>\n",
       "      <td>Married-civ-spouse</td>\n",
       "      <td>Tech-support</td>\n",
       "      <td>Husband</td>\n",
       "      <td>White</td>\n",
       "      <td>Male</td>\n",
       "      <td>United-States</td>\n",
       "    </tr>\n",
       "    <tr>\n",
       "      <th>21151</th>\n",
       "      <td>Self-emp-inc</td>\n",
       "      <td>Married-civ-spouse</td>\n",
       "      <td>Farming-fishing</td>\n",
       "      <td>Husband</td>\n",
       "      <td>White</td>\n",
       "      <td>Male</td>\n",
       "      <td>United-States</td>\n",
       "    </tr>\n",
       "  </tbody>\n",
       "</table>\n",
       "</div>"
      ],
      "text/plain": [
       "           workclass       marital-status  ...      sex  native-country\n",
       "8630         Private        Never-married  ...     Male   United-States\n",
       "20942        Private            Separated  ...   Female   United-States\n",
       "9332         Private        Never-married  ...     Male   United-States\n",
       "20432        Private   Married-civ-spouse  ...     Male   United-States\n",
       "21151   Self-emp-inc   Married-civ-spouse  ...     Male   United-States\n",
       "\n",
       "[5 rows x 7 columns]"
      ]
     },
     "execution_count": 11,
     "metadata": {},
     "output_type": "execute_result"
    }
   ],
   "source": [
    "# Definimos quais são as colunas que vamos converter\n",
    "categorical_attribs = ['workclass', 'marital-status', 'occupation', 'relationship', 'race', 'sex', 'native-country']\n",
    "\n",
    "# Cria um dataset somente com os atributos categóricos\n",
    "df_categorical = df_train[categorical_attribs]\n",
    "df_categorical.head()"
   ]
  },
  {
   "cell_type": "code",
   "execution_count": 12,
   "id": "lightweight-fundamentals",
   "metadata": {
    "ExecuteTime": {
     "end_time": "2021-11-05T12:11:51.993365Z",
     "start_time": "2021-11-05T12:11:51.952951Z"
    },
    "executionInfo": {
     "elapsed": 3,
     "status": "ok",
     "timestamp": 1636118970255,
     "user": {
      "displayName": "Sergio Baldo Junior",
      "photoUrl": "https://lh3.googleusercontent.com/a-/AOh14Gi2otI0IZRjpoY3uoM55ZI_QS5wC4KGsRtL_Nle1A=s64",
      "userId": "10630088078956449092"
     },
     "user_tz": 180
    },
    "id": "lightweight-fundamentals"
   },
   "outputs": [],
   "source": [
    "# Biblioteca necessária para fazer a transformação: \n",
    "# :: sklearn -> from sklearn.preprocessing import OneHotEncoder\n",
    "\n",
    "# Instância o objeto para transformar os atributos \n",
    "encoder = OneHotEncoder()\n",
    "\n",
    "# Realizar a transformação\n",
    "df_OneHotEnconder = encoder.fit_transform(df_categorical).toarray()"
   ]
  },
  {
   "cell_type": "code",
   "execution_count": 13,
   "id": "collected-battlefield",
   "metadata": {
    "ExecuteTime": {
     "end_time": "2021-11-05T12:11:52.002380Z",
     "start_time": "2021-11-05T12:11:51.996688Z"
    },
    "colab": {
     "base_uri": "https://localhost:8080/"
    },
    "executionInfo": {
     "elapsed": 617,
     "status": "ok",
     "timestamp": 1636118972291,
     "user": {
      "displayName": "Sergio Baldo Junior",
      "photoUrl": "https://lh3.googleusercontent.com/a-/AOh14Gi2otI0IZRjpoY3uoM55ZI_QS5wC4KGsRtL_Nle1A=s64",
      "userId": "10630088078956449092"
     },
     "user_tz": 180
    },
    "id": "collected-battlefield",
    "outputId": "89a27cb0-2463-4a24-d3ca-1f4a32ab1eec"
   },
   "outputs": [
    {
     "name": "stdout",
     "output_type": "stream",
     "text": [
      "Quantidade de atributos antes da realizar a transformação: 7\n",
      "Quantidade de atributos depois da realizar a transformação: 82\n"
     ]
    }
   ],
   "source": [
    "print(f'Quantidade de atributos antes da realizar a transformação: {df_categorical.shape[1]}')\n",
    "print(f'Quantidade de atributos depois da realizar a transformação: {df_OneHotEnconder.shape[1]}')"
   ]
  },
  {
   "cell_type": "markdown",
   "id": "severe-drain",
   "metadata": {
    "id": "severe-drain"
   },
   "source": [
    "Podemos visualizar os valores de cada coluna"
   ]
  },
  {
   "cell_type": "code",
   "execution_count": 14,
   "id": "loaded-setting",
   "metadata": {
    "ExecuteTime": {
     "end_time": "2021-11-05T12:11:52.011630Z",
     "start_time": "2021-11-05T12:11:52.004894Z"
    },
    "colab": {
     "base_uri": "https://localhost:8080/"
    },
    "executionInfo": {
     "elapsed": 420,
     "status": "ok",
     "timestamp": 1636118974223,
     "user": {
      "displayName": "Sergio Baldo Junior",
      "photoUrl": "https://lh3.googleusercontent.com/a-/AOh14Gi2otI0IZRjpoY3uoM55ZI_QS5wC4KGsRtL_Nle1A=s64",
      "userId": "10630088078956449092"
     },
     "user_tz": 180
    },
    "id": "loaded-setting",
    "outputId": "3125b906-6107-4941-fb52-c40fa3ca6c34"
   },
   "outputs": [
    {
     "data": {
      "text/plain": [
       "[array([' Federal-gov', ' Local-gov', ' Private', ' Self-emp-inc',\n",
       "        ' Self-emp-not-inc', ' State-gov', ' Without-pay'], dtype=object),\n",
       " array([' Divorced', ' Married-AF-spouse', ' Married-civ-spouse',\n",
       "        ' Married-spouse-absent', ' Never-married', ' Separated',\n",
       "        ' Widowed'], dtype=object),\n",
       " array([' Adm-clerical', ' Armed-Forces', ' Craft-repair',\n",
       "        ' Exec-managerial', ' Farming-fishing', ' Handlers-cleaners',\n",
       "        ' Machine-op-inspct', ' Other-service', ' Priv-house-serv',\n",
       "        ' Prof-specialty', ' Protective-serv', ' Sales', ' Tech-support',\n",
       "        ' Transport-moving'], dtype=object),\n",
       " array([' Husband', ' Not-in-family', ' Other-relative', ' Own-child',\n",
       "        ' Unmarried', ' Wife'], dtype=object),\n",
       " array([' Amer-Indian-Eskimo', ' Asian-Pac-Islander', ' Black', ' Other',\n",
       "        ' White'], dtype=object),\n",
       " array([' Female', ' Male'], dtype=object),\n",
       " array([' Cambodia', ' Canada', ' China', ' Columbia', ' Cuba',\n",
       "        ' Dominican-Republic', ' Ecuador', ' El-Salvador', ' England',\n",
       "        ' France', ' Germany', ' Greece', ' Guatemala', ' Haiti',\n",
       "        ' Holand-Netherlands', ' Honduras', ' Hong', ' Hungary', ' India',\n",
       "        ' Iran', ' Ireland', ' Italy', ' Jamaica', ' Japan', ' Laos',\n",
       "        ' Mexico', ' Nicaragua', ' Outlying-US(Guam-USVI-etc)', ' Peru',\n",
       "        ' Philippines', ' Poland', ' Portugal', ' Puerto-Rico',\n",
       "        ' Scotland', ' South', ' Taiwan', ' Thailand', ' Trinadad&Tobago',\n",
       "        ' United-States', ' Vietnam', ' Yugoslavia'], dtype=object)]"
      ]
     },
     "execution_count": 14,
     "metadata": {},
     "output_type": "execute_result"
    }
   ],
   "source": [
    "encoder.categories_"
   ]
  },
  {
   "cell_type": "markdown",
   "id": "eastern-first",
   "metadata": {
    "id": "eastern-first"
   },
   "source": [
    "Podemos observar que a primeira coluna contém 7 valores diferentes."
   ]
  },
  {
   "cell_type": "code",
   "execution_count": 15,
   "id": "pleased-census",
   "metadata": {
    "ExecuteTime": {
     "end_time": "2021-11-05T12:11:52.019312Z",
     "start_time": "2021-11-05T12:11:52.014199Z"
    },
    "colab": {
     "base_uri": "https://localhost:8080/"
    },
    "executionInfo": {
     "elapsed": 436,
     "status": "ok",
     "timestamp": 1636118976705,
     "user": {
      "displayName": "Sergio Baldo Junior",
      "photoUrl": "https://lh3.googleusercontent.com/a-/AOh14Gi2otI0IZRjpoY3uoM55ZI_QS5wC4KGsRtL_Nle1A=s64",
      "userId": "10630088078956449092"
     },
     "user_tz": 180
    },
    "id": "pleased-census",
    "outputId": "1f74d646-2d55-4bee-b216-ede2e4ebdff1"
   },
   "outputs": [
    {
     "data": {
      "text/plain": [
       "array([' Federal-gov', ' Local-gov', ' Private', ' Self-emp-inc',\n",
       "       ' Self-emp-not-inc', ' State-gov', ' Without-pay'], dtype=object)"
      ]
     },
     "execution_count": 15,
     "metadata": {},
     "output_type": "execute_result"
    }
   ],
   "source": [
    "encoder.categories_[0]"
   ]
  },
  {
   "cell_type": "code",
   "execution_count": 16,
   "id": "interim-anthropology",
   "metadata": {
    "ExecuteTime": {
     "end_time": "2021-11-05T12:11:52.028789Z",
     "start_time": "2021-11-05T12:11:52.022106Z"
    },
    "colab": {
     "base_uri": "https://localhost:8080/"
    },
    "executionInfo": {
     "elapsed": 444,
     "status": "ok",
     "timestamp": 1636118978856,
     "user": {
      "displayName": "Sergio Baldo Junior",
      "photoUrl": "https://lh3.googleusercontent.com/a-/AOh14Gi2otI0IZRjpoY3uoM55ZI_QS5wC4KGsRtL_Nle1A=s64",
      "userId": "10630088078956449092"
     },
     "user_tz": 180
    },
    "id": "interim-anthropology",
    "outputId": "9a98bc4c-f298-4c42-dca5-5715e93ff1a5"
   },
   "outputs": [
    {
     "data": {
      "text/plain": [
       "array([0., 0., 1., 0., 0., 0., 0., 0., 0., 0., 0., 1., 0., 0., 0., 0., 0.,\n",
       "       0., 0., 0., 0., 0., 0., 0., 0., 1., 0., 0., 0., 0., 0., 1., 0., 0.,\n",
       "       0., 0., 0., 0., 1., 0., 1., 0., 0., 0., 0., 0., 0., 0., 0., 0., 0.,\n",
       "       0., 0., 0., 0., 0., 0., 0., 0., 0., 0., 0., 0., 0., 0., 0., 0., 0.,\n",
       "       0., 0., 0., 0., 0., 0., 0., 0., 0., 0., 0., 1., 0., 0.])"
      ]
     },
     "execution_count": 16,
     "metadata": {},
     "output_type": "execute_result"
    }
   ],
   "source": [
    "# Mostrando o primeiro exemplo da base de dados após a conversão\n",
    "df_OneHotEnconder[0]"
   ]
  },
  {
   "cell_type": "markdown",
   "id": "satisfied-platform",
   "metadata": {
    "id": "satisfied-platform"
   },
   "source": [
    "Se a primeira coluna contém 7 valores diferentes, os primeiros 7 elementos do array acima se refere a um determinado valor após a codificação da primeira coluna."
   ]
  },
  {
   "cell_type": "code",
   "execution_count": 17,
   "id": "closing-islam",
   "metadata": {
    "ExecuteTime": {
     "end_time": "2021-11-05T12:11:52.566128Z",
     "start_time": "2021-11-05T12:11:52.552371Z"
    },
    "colab": {
     "base_uri": "https://localhost:8080/"
    },
    "executionInfo": {
     "elapsed": 6,
     "status": "ok",
     "timestamp": 1636118980370,
     "user": {
      "displayName": "Sergio Baldo Junior",
      "photoUrl": "https://lh3.googleusercontent.com/a-/AOh14Gi2otI0IZRjpoY3uoM55ZI_QS5wC4KGsRtL_Nle1A=s64",
      "userId": "10630088078956449092"
     },
     "user_tz": 180
    },
    "id": "closing-islam",
    "outputId": "b44ab0e3-f233-44f0-f995-6f5f696a1626"
   },
   "outputs": [
    {
     "data": {
      "text/plain": [
       "array([0., 0., 1., 0., 0., 0., 0.])"
      ]
     },
     "execution_count": 17,
     "metadata": {},
     "output_type": "execute_result"
    }
   ],
   "source": [
    "# Mostrando os 7 primeiros valores do primeiro exemplo da base de dados após a conversão\n",
    "df_OneHotEnconder[0][0:7]"
   ]
  },
  {
   "cell_type": "markdown",
   "id": "treated-andrews",
   "metadata": {
    "id": "treated-andrews"
   },
   "source": [
    "A codificação dos valores para um vetor binário segue a ordem que é apresentado cada valor quando chamamos a função `encoder.categories_`. Logo, o elemento acima representa o valor `Private` da coluna `workclass`. Pois, seguindo o que é apresentado abaixo: \n",
    "\n",
    "array([' Federal-gov', ' Local-gov', ' Private', ' Self-emp-inc',\n",
    "        ' Self-emp-not-inc', ' State-gov', ' Without-pay'], dtype=object)\n",
    "       \n",
    "O valor `Private` está na posição 3."
   ]
  },
  {
   "cell_type": "markdown",
   "id": "preliminary-world",
   "metadata": {
    "id": "preliminary-world"
   },
   "source": [
    "Para confirmarmos isso, podemos mostrar quais são os valores do primeiro exemplo da base de dados antes da conversão."
   ]
  },
  {
   "cell_type": "code",
   "execution_count": 18,
   "id": "transsexual-collection",
   "metadata": {
    "ExecuteTime": {
     "end_time": "2021-11-05T12:11:52.976200Z",
     "start_time": "2021-11-05T12:11:52.967700Z"
    },
    "colab": {
     "base_uri": "https://localhost:8080/"
    },
    "executionInfo": {
     "elapsed": 621,
     "status": "ok",
     "timestamp": 1636118983851,
     "user": {
      "displayName": "Sergio Baldo Junior",
      "photoUrl": "https://lh3.googleusercontent.com/a-/AOh14Gi2otI0IZRjpoY3uoM55ZI_QS5wC4KGsRtL_Nle1A=s64",
      "userId": "10630088078956449092"
     },
     "user_tz": 180
    },
    "id": "transsexual-collection",
    "outputId": "af08bf19-d206-42fc-ff21-da482c16a530"
   },
   "outputs": [
    {
     "data": {
      "text/plain": [
       "workclass                Private\n",
       "marital-status     Never-married\n",
       "occupation                 Sales\n",
       "relationship           Own-child\n",
       "race                       White\n",
       "sex                         Male\n",
       "native-country     United-States\n",
       "Name: 8630, dtype: object"
      ]
     },
     "execution_count": 18,
     "metadata": {},
     "output_type": "execute_result"
    }
   ],
   "source": [
    "df_categorical.iloc[0, ]"
   ]
  },
  {
   "cell_type": "code",
   "execution_count": 19,
   "id": "digital-butter",
   "metadata": {
    "ExecuteTime": {
     "end_time": "2021-11-05T12:11:53.201770Z",
     "start_time": "2021-11-05T12:11:53.134239Z"
    },
    "colab": {
     "base_uri": "https://localhost:8080/",
     "height": 439
    },
    "executionInfo": {
     "elapsed": 413,
     "status": "ok",
     "timestamp": 1636118985692,
     "user": {
      "displayName": "Sergio Baldo Junior",
      "photoUrl": "https://lh3.googleusercontent.com/a-/AOh14Gi2otI0IZRjpoY3uoM55ZI_QS5wC4KGsRtL_Nle1A=s64",
      "userId": "10630088078956449092"
     },
     "user_tz": 180
    },
    "id": "digital-butter",
    "outputId": "442cc4f2-9761-482b-bbba-3e4252c0ee86"
   },
   "outputs": [
    {
     "data": {
      "text/html": [
       "<div>\n",
       "<style scoped>\n",
       "    .dataframe tbody tr th:only-of-type {\n",
       "        vertical-align: middle;\n",
       "    }\n",
       "\n",
       "    .dataframe tbody tr th {\n",
       "        vertical-align: top;\n",
       "    }\n",
       "\n",
       "    .dataframe thead th {\n",
       "        text-align: right;\n",
       "    }\n",
       "</style>\n",
       "<table border=\"1\" class=\"dataframe\">\n",
       "  <thead>\n",
       "    <tr style=\"text-align: right;\">\n",
       "      <th></th>\n",
       "      <th>0</th>\n",
       "      <th>1</th>\n",
       "      <th>2</th>\n",
       "      <th>3</th>\n",
       "      <th>4</th>\n",
       "      <th>5</th>\n",
       "      <th>6</th>\n",
       "      <th>7</th>\n",
       "      <th>8</th>\n",
       "      <th>9</th>\n",
       "      <th>10</th>\n",
       "      <th>11</th>\n",
       "      <th>12</th>\n",
       "      <th>13</th>\n",
       "      <th>14</th>\n",
       "      <th>15</th>\n",
       "      <th>16</th>\n",
       "      <th>17</th>\n",
       "      <th>18</th>\n",
       "      <th>19</th>\n",
       "      <th>20</th>\n",
       "      <th>21</th>\n",
       "      <th>22</th>\n",
       "      <th>23</th>\n",
       "      <th>24</th>\n",
       "      <th>25</th>\n",
       "      <th>26</th>\n",
       "      <th>27</th>\n",
       "      <th>28</th>\n",
       "      <th>29</th>\n",
       "      <th>30</th>\n",
       "      <th>31</th>\n",
       "      <th>32</th>\n",
       "      <th>33</th>\n",
       "      <th>34</th>\n",
       "      <th>35</th>\n",
       "      <th>36</th>\n",
       "      <th>37</th>\n",
       "      <th>38</th>\n",
       "      <th>39</th>\n",
       "      <th>...</th>\n",
       "      <th>42</th>\n",
       "      <th>43</th>\n",
       "      <th>44</th>\n",
       "      <th>45</th>\n",
       "      <th>46</th>\n",
       "      <th>47</th>\n",
       "      <th>48</th>\n",
       "      <th>49</th>\n",
       "      <th>50</th>\n",
       "      <th>51</th>\n",
       "      <th>52</th>\n",
       "      <th>53</th>\n",
       "      <th>54</th>\n",
       "      <th>55</th>\n",
       "      <th>56</th>\n",
       "      <th>57</th>\n",
       "      <th>58</th>\n",
       "      <th>59</th>\n",
       "      <th>60</th>\n",
       "      <th>61</th>\n",
       "      <th>62</th>\n",
       "      <th>63</th>\n",
       "      <th>64</th>\n",
       "      <th>65</th>\n",
       "      <th>66</th>\n",
       "      <th>67</th>\n",
       "      <th>68</th>\n",
       "      <th>69</th>\n",
       "      <th>70</th>\n",
       "      <th>71</th>\n",
       "      <th>72</th>\n",
       "      <th>73</th>\n",
       "      <th>74</th>\n",
       "      <th>75</th>\n",
       "      <th>76</th>\n",
       "      <th>77</th>\n",
       "      <th>78</th>\n",
       "      <th>79</th>\n",
       "      <th>80</th>\n",
       "      <th>81</th>\n",
       "    </tr>\n",
       "  </thead>\n",
       "  <tbody>\n",
       "    <tr>\n",
       "      <th>0</th>\n",
       "      <td>0.0</td>\n",
       "      <td>0.0</td>\n",
       "      <td>1.0</td>\n",
       "      <td>0.0</td>\n",
       "      <td>0.0</td>\n",
       "      <td>0.0</td>\n",
       "      <td>0.0</td>\n",
       "      <td>0.0</td>\n",
       "      <td>0.0</td>\n",
       "      <td>0.0</td>\n",
       "      <td>0.0</td>\n",
       "      <td>1.0</td>\n",
       "      <td>0.0</td>\n",
       "      <td>0.0</td>\n",
       "      <td>0.0</td>\n",
       "      <td>0.0</td>\n",
       "      <td>0.0</td>\n",
       "      <td>0.0</td>\n",
       "      <td>0.0</td>\n",
       "      <td>0.0</td>\n",
       "      <td>0.0</td>\n",
       "      <td>0.0</td>\n",
       "      <td>0.0</td>\n",
       "      <td>0.0</td>\n",
       "      <td>0.0</td>\n",
       "      <td>1.0</td>\n",
       "      <td>0.0</td>\n",
       "      <td>0.0</td>\n",
       "      <td>0.0</td>\n",
       "      <td>0.0</td>\n",
       "      <td>0.0</td>\n",
       "      <td>1.0</td>\n",
       "      <td>0.0</td>\n",
       "      <td>0.0</td>\n",
       "      <td>0.0</td>\n",
       "      <td>0.0</td>\n",
       "      <td>0.0</td>\n",
       "      <td>0.0</td>\n",
       "      <td>1.0</td>\n",
       "      <td>0.0</td>\n",
       "      <td>...</td>\n",
       "      <td>0.0</td>\n",
       "      <td>0.0</td>\n",
       "      <td>0.0</td>\n",
       "      <td>0.0</td>\n",
       "      <td>0.0</td>\n",
       "      <td>0.0</td>\n",
       "      <td>0.0</td>\n",
       "      <td>0.0</td>\n",
       "      <td>0.0</td>\n",
       "      <td>0.0</td>\n",
       "      <td>0.0</td>\n",
       "      <td>0.0</td>\n",
       "      <td>0.0</td>\n",
       "      <td>0.0</td>\n",
       "      <td>0.0</td>\n",
       "      <td>0.0</td>\n",
       "      <td>0.0</td>\n",
       "      <td>0.0</td>\n",
       "      <td>0.0</td>\n",
       "      <td>0.0</td>\n",
       "      <td>0.0</td>\n",
       "      <td>0.0</td>\n",
       "      <td>0.0</td>\n",
       "      <td>0.0</td>\n",
       "      <td>0.0</td>\n",
       "      <td>0.0</td>\n",
       "      <td>0.0</td>\n",
       "      <td>0.0</td>\n",
       "      <td>0.0</td>\n",
       "      <td>0.0</td>\n",
       "      <td>0.0</td>\n",
       "      <td>0.0</td>\n",
       "      <td>0.0</td>\n",
       "      <td>0.0</td>\n",
       "      <td>0.0</td>\n",
       "      <td>0.0</td>\n",
       "      <td>0.0</td>\n",
       "      <td>1.0</td>\n",
       "      <td>0.0</td>\n",
       "      <td>0.0</td>\n",
       "    </tr>\n",
       "    <tr>\n",
       "      <th>1</th>\n",
       "      <td>0.0</td>\n",
       "      <td>0.0</td>\n",
       "      <td>1.0</td>\n",
       "      <td>0.0</td>\n",
       "      <td>0.0</td>\n",
       "      <td>0.0</td>\n",
       "      <td>0.0</td>\n",
       "      <td>0.0</td>\n",
       "      <td>0.0</td>\n",
       "      <td>0.0</td>\n",
       "      <td>0.0</td>\n",
       "      <td>0.0</td>\n",
       "      <td>1.0</td>\n",
       "      <td>0.0</td>\n",
       "      <td>0.0</td>\n",
       "      <td>0.0</td>\n",
       "      <td>0.0</td>\n",
       "      <td>0.0</td>\n",
       "      <td>0.0</td>\n",
       "      <td>0.0</td>\n",
       "      <td>0.0</td>\n",
       "      <td>0.0</td>\n",
       "      <td>0.0</td>\n",
       "      <td>1.0</td>\n",
       "      <td>0.0</td>\n",
       "      <td>0.0</td>\n",
       "      <td>0.0</td>\n",
       "      <td>0.0</td>\n",
       "      <td>0.0</td>\n",
       "      <td>0.0</td>\n",
       "      <td>0.0</td>\n",
       "      <td>0.0</td>\n",
       "      <td>1.0</td>\n",
       "      <td>0.0</td>\n",
       "      <td>0.0</td>\n",
       "      <td>0.0</td>\n",
       "      <td>1.0</td>\n",
       "      <td>0.0</td>\n",
       "      <td>0.0</td>\n",
       "      <td>1.0</td>\n",
       "      <td>...</td>\n",
       "      <td>0.0</td>\n",
       "      <td>0.0</td>\n",
       "      <td>0.0</td>\n",
       "      <td>0.0</td>\n",
       "      <td>0.0</td>\n",
       "      <td>0.0</td>\n",
       "      <td>0.0</td>\n",
       "      <td>0.0</td>\n",
       "      <td>0.0</td>\n",
       "      <td>0.0</td>\n",
       "      <td>0.0</td>\n",
       "      <td>0.0</td>\n",
       "      <td>0.0</td>\n",
       "      <td>0.0</td>\n",
       "      <td>0.0</td>\n",
       "      <td>0.0</td>\n",
       "      <td>0.0</td>\n",
       "      <td>0.0</td>\n",
       "      <td>0.0</td>\n",
       "      <td>0.0</td>\n",
       "      <td>0.0</td>\n",
       "      <td>0.0</td>\n",
       "      <td>0.0</td>\n",
       "      <td>0.0</td>\n",
       "      <td>0.0</td>\n",
       "      <td>0.0</td>\n",
       "      <td>0.0</td>\n",
       "      <td>0.0</td>\n",
       "      <td>0.0</td>\n",
       "      <td>0.0</td>\n",
       "      <td>0.0</td>\n",
       "      <td>0.0</td>\n",
       "      <td>0.0</td>\n",
       "      <td>0.0</td>\n",
       "      <td>0.0</td>\n",
       "      <td>0.0</td>\n",
       "      <td>0.0</td>\n",
       "      <td>1.0</td>\n",
       "      <td>0.0</td>\n",
       "      <td>0.0</td>\n",
       "    </tr>\n",
       "    <tr>\n",
       "      <th>2</th>\n",
       "      <td>0.0</td>\n",
       "      <td>0.0</td>\n",
       "      <td>1.0</td>\n",
       "      <td>0.0</td>\n",
       "      <td>0.0</td>\n",
       "      <td>0.0</td>\n",
       "      <td>0.0</td>\n",
       "      <td>0.0</td>\n",
       "      <td>0.0</td>\n",
       "      <td>0.0</td>\n",
       "      <td>0.0</td>\n",
       "      <td>1.0</td>\n",
       "      <td>0.0</td>\n",
       "      <td>0.0</td>\n",
       "      <td>0.0</td>\n",
       "      <td>0.0</td>\n",
       "      <td>0.0</td>\n",
       "      <td>0.0</td>\n",
       "      <td>0.0</td>\n",
       "      <td>0.0</td>\n",
       "      <td>1.0</td>\n",
       "      <td>0.0</td>\n",
       "      <td>0.0</td>\n",
       "      <td>0.0</td>\n",
       "      <td>0.0</td>\n",
       "      <td>0.0</td>\n",
       "      <td>0.0</td>\n",
       "      <td>0.0</td>\n",
       "      <td>0.0</td>\n",
       "      <td>1.0</td>\n",
       "      <td>0.0</td>\n",
       "      <td>0.0</td>\n",
       "      <td>0.0</td>\n",
       "      <td>0.0</td>\n",
       "      <td>0.0</td>\n",
       "      <td>0.0</td>\n",
       "      <td>0.0</td>\n",
       "      <td>0.0</td>\n",
       "      <td>1.0</td>\n",
       "      <td>0.0</td>\n",
       "      <td>...</td>\n",
       "      <td>0.0</td>\n",
       "      <td>0.0</td>\n",
       "      <td>0.0</td>\n",
       "      <td>0.0</td>\n",
       "      <td>0.0</td>\n",
       "      <td>0.0</td>\n",
       "      <td>0.0</td>\n",
       "      <td>0.0</td>\n",
       "      <td>0.0</td>\n",
       "      <td>0.0</td>\n",
       "      <td>0.0</td>\n",
       "      <td>0.0</td>\n",
       "      <td>0.0</td>\n",
       "      <td>0.0</td>\n",
       "      <td>0.0</td>\n",
       "      <td>0.0</td>\n",
       "      <td>0.0</td>\n",
       "      <td>0.0</td>\n",
       "      <td>0.0</td>\n",
       "      <td>0.0</td>\n",
       "      <td>0.0</td>\n",
       "      <td>0.0</td>\n",
       "      <td>0.0</td>\n",
       "      <td>0.0</td>\n",
       "      <td>0.0</td>\n",
       "      <td>0.0</td>\n",
       "      <td>0.0</td>\n",
       "      <td>0.0</td>\n",
       "      <td>0.0</td>\n",
       "      <td>0.0</td>\n",
       "      <td>0.0</td>\n",
       "      <td>0.0</td>\n",
       "      <td>0.0</td>\n",
       "      <td>0.0</td>\n",
       "      <td>0.0</td>\n",
       "      <td>0.0</td>\n",
       "      <td>0.0</td>\n",
       "      <td>1.0</td>\n",
       "      <td>0.0</td>\n",
       "      <td>0.0</td>\n",
       "    </tr>\n",
       "    <tr>\n",
       "      <th>3</th>\n",
       "      <td>0.0</td>\n",
       "      <td>0.0</td>\n",
       "      <td>1.0</td>\n",
       "      <td>0.0</td>\n",
       "      <td>0.0</td>\n",
       "      <td>0.0</td>\n",
       "      <td>0.0</td>\n",
       "      <td>0.0</td>\n",
       "      <td>0.0</td>\n",
       "      <td>1.0</td>\n",
       "      <td>0.0</td>\n",
       "      <td>0.0</td>\n",
       "      <td>0.0</td>\n",
       "      <td>0.0</td>\n",
       "      <td>0.0</td>\n",
       "      <td>0.0</td>\n",
       "      <td>0.0</td>\n",
       "      <td>0.0</td>\n",
       "      <td>0.0</td>\n",
       "      <td>0.0</td>\n",
       "      <td>0.0</td>\n",
       "      <td>0.0</td>\n",
       "      <td>0.0</td>\n",
       "      <td>0.0</td>\n",
       "      <td>0.0</td>\n",
       "      <td>0.0</td>\n",
       "      <td>1.0</td>\n",
       "      <td>0.0</td>\n",
       "      <td>1.0</td>\n",
       "      <td>0.0</td>\n",
       "      <td>0.0</td>\n",
       "      <td>0.0</td>\n",
       "      <td>0.0</td>\n",
       "      <td>0.0</td>\n",
       "      <td>0.0</td>\n",
       "      <td>0.0</td>\n",
       "      <td>0.0</td>\n",
       "      <td>0.0</td>\n",
       "      <td>1.0</td>\n",
       "      <td>0.0</td>\n",
       "      <td>...</td>\n",
       "      <td>0.0</td>\n",
       "      <td>0.0</td>\n",
       "      <td>0.0</td>\n",
       "      <td>0.0</td>\n",
       "      <td>0.0</td>\n",
       "      <td>0.0</td>\n",
       "      <td>0.0</td>\n",
       "      <td>0.0</td>\n",
       "      <td>0.0</td>\n",
       "      <td>0.0</td>\n",
       "      <td>0.0</td>\n",
       "      <td>0.0</td>\n",
       "      <td>0.0</td>\n",
       "      <td>0.0</td>\n",
       "      <td>0.0</td>\n",
       "      <td>0.0</td>\n",
       "      <td>0.0</td>\n",
       "      <td>0.0</td>\n",
       "      <td>0.0</td>\n",
       "      <td>0.0</td>\n",
       "      <td>0.0</td>\n",
       "      <td>0.0</td>\n",
       "      <td>0.0</td>\n",
       "      <td>0.0</td>\n",
       "      <td>0.0</td>\n",
       "      <td>0.0</td>\n",
       "      <td>0.0</td>\n",
       "      <td>0.0</td>\n",
       "      <td>0.0</td>\n",
       "      <td>0.0</td>\n",
       "      <td>0.0</td>\n",
       "      <td>0.0</td>\n",
       "      <td>0.0</td>\n",
       "      <td>0.0</td>\n",
       "      <td>0.0</td>\n",
       "      <td>0.0</td>\n",
       "      <td>0.0</td>\n",
       "      <td>1.0</td>\n",
       "      <td>0.0</td>\n",
       "      <td>0.0</td>\n",
       "    </tr>\n",
       "    <tr>\n",
       "      <th>4</th>\n",
       "      <td>0.0</td>\n",
       "      <td>0.0</td>\n",
       "      <td>0.0</td>\n",
       "      <td>1.0</td>\n",
       "      <td>0.0</td>\n",
       "      <td>0.0</td>\n",
       "      <td>0.0</td>\n",
       "      <td>0.0</td>\n",
       "      <td>0.0</td>\n",
       "      <td>1.0</td>\n",
       "      <td>0.0</td>\n",
       "      <td>0.0</td>\n",
       "      <td>0.0</td>\n",
       "      <td>0.0</td>\n",
       "      <td>0.0</td>\n",
       "      <td>0.0</td>\n",
       "      <td>0.0</td>\n",
       "      <td>0.0</td>\n",
       "      <td>1.0</td>\n",
       "      <td>0.0</td>\n",
       "      <td>0.0</td>\n",
       "      <td>0.0</td>\n",
       "      <td>0.0</td>\n",
       "      <td>0.0</td>\n",
       "      <td>0.0</td>\n",
       "      <td>0.0</td>\n",
       "      <td>0.0</td>\n",
       "      <td>0.0</td>\n",
       "      <td>1.0</td>\n",
       "      <td>0.0</td>\n",
       "      <td>0.0</td>\n",
       "      <td>0.0</td>\n",
       "      <td>0.0</td>\n",
       "      <td>0.0</td>\n",
       "      <td>0.0</td>\n",
       "      <td>0.0</td>\n",
       "      <td>0.0</td>\n",
       "      <td>0.0</td>\n",
       "      <td>1.0</td>\n",
       "      <td>0.0</td>\n",
       "      <td>...</td>\n",
       "      <td>0.0</td>\n",
       "      <td>0.0</td>\n",
       "      <td>0.0</td>\n",
       "      <td>0.0</td>\n",
       "      <td>0.0</td>\n",
       "      <td>0.0</td>\n",
       "      <td>0.0</td>\n",
       "      <td>0.0</td>\n",
       "      <td>0.0</td>\n",
       "      <td>0.0</td>\n",
       "      <td>0.0</td>\n",
       "      <td>0.0</td>\n",
       "      <td>0.0</td>\n",
       "      <td>0.0</td>\n",
       "      <td>0.0</td>\n",
       "      <td>0.0</td>\n",
       "      <td>0.0</td>\n",
       "      <td>0.0</td>\n",
       "      <td>0.0</td>\n",
       "      <td>0.0</td>\n",
       "      <td>0.0</td>\n",
       "      <td>0.0</td>\n",
       "      <td>0.0</td>\n",
       "      <td>0.0</td>\n",
       "      <td>0.0</td>\n",
       "      <td>0.0</td>\n",
       "      <td>0.0</td>\n",
       "      <td>0.0</td>\n",
       "      <td>0.0</td>\n",
       "      <td>0.0</td>\n",
       "      <td>0.0</td>\n",
       "      <td>0.0</td>\n",
       "      <td>0.0</td>\n",
       "      <td>0.0</td>\n",
       "      <td>0.0</td>\n",
       "      <td>0.0</td>\n",
       "      <td>0.0</td>\n",
       "      <td>1.0</td>\n",
       "      <td>0.0</td>\n",
       "      <td>0.0</td>\n",
       "    </tr>\n",
       "    <tr>\n",
       "      <th>...</th>\n",
       "      <td>...</td>\n",
       "      <td>...</td>\n",
       "      <td>...</td>\n",
       "      <td>...</td>\n",
       "      <td>...</td>\n",
       "      <td>...</td>\n",
       "      <td>...</td>\n",
       "      <td>...</td>\n",
       "      <td>...</td>\n",
       "      <td>...</td>\n",
       "      <td>...</td>\n",
       "      <td>...</td>\n",
       "      <td>...</td>\n",
       "      <td>...</td>\n",
       "      <td>...</td>\n",
       "      <td>...</td>\n",
       "      <td>...</td>\n",
       "      <td>...</td>\n",
       "      <td>...</td>\n",
       "      <td>...</td>\n",
       "      <td>...</td>\n",
       "      <td>...</td>\n",
       "      <td>...</td>\n",
       "      <td>...</td>\n",
       "      <td>...</td>\n",
       "      <td>...</td>\n",
       "      <td>...</td>\n",
       "      <td>...</td>\n",
       "      <td>...</td>\n",
       "      <td>...</td>\n",
       "      <td>...</td>\n",
       "      <td>...</td>\n",
       "      <td>...</td>\n",
       "      <td>...</td>\n",
       "      <td>...</td>\n",
       "      <td>...</td>\n",
       "      <td>...</td>\n",
       "      <td>...</td>\n",
       "      <td>...</td>\n",
       "      <td>...</td>\n",
       "      <td>...</td>\n",
       "      <td>...</td>\n",
       "      <td>...</td>\n",
       "      <td>...</td>\n",
       "      <td>...</td>\n",
       "      <td>...</td>\n",
       "      <td>...</td>\n",
       "      <td>...</td>\n",
       "      <td>...</td>\n",
       "      <td>...</td>\n",
       "      <td>...</td>\n",
       "      <td>...</td>\n",
       "      <td>...</td>\n",
       "      <td>...</td>\n",
       "      <td>...</td>\n",
       "      <td>...</td>\n",
       "      <td>...</td>\n",
       "      <td>...</td>\n",
       "      <td>...</td>\n",
       "      <td>...</td>\n",
       "      <td>...</td>\n",
       "      <td>...</td>\n",
       "      <td>...</td>\n",
       "      <td>...</td>\n",
       "      <td>...</td>\n",
       "      <td>...</td>\n",
       "      <td>...</td>\n",
       "      <td>...</td>\n",
       "      <td>...</td>\n",
       "      <td>...</td>\n",
       "      <td>...</td>\n",
       "      <td>...</td>\n",
       "      <td>...</td>\n",
       "      <td>...</td>\n",
       "      <td>...</td>\n",
       "      <td>...</td>\n",
       "      <td>...</td>\n",
       "      <td>...</td>\n",
       "      <td>...</td>\n",
       "      <td>...</td>\n",
       "      <td>...</td>\n",
       "    </tr>\n",
       "    <tr>\n",
       "      <th>19298</th>\n",
       "      <td>0.0</td>\n",
       "      <td>0.0</td>\n",
       "      <td>1.0</td>\n",
       "      <td>0.0</td>\n",
       "      <td>0.0</td>\n",
       "      <td>0.0</td>\n",
       "      <td>0.0</td>\n",
       "      <td>0.0</td>\n",
       "      <td>0.0</td>\n",
       "      <td>0.0</td>\n",
       "      <td>0.0</td>\n",
       "      <td>0.0</td>\n",
       "      <td>1.0</td>\n",
       "      <td>0.0</td>\n",
       "      <td>0.0</td>\n",
       "      <td>0.0</td>\n",
       "      <td>0.0</td>\n",
       "      <td>0.0</td>\n",
       "      <td>0.0</td>\n",
       "      <td>0.0</td>\n",
       "      <td>0.0</td>\n",
       "      <td>1.0</td>\n",
       "      <td>0.0</td>\n",
       "      <td>0.0</td>\n",
       "      <td>0.0</td>\n",
       "      <td>0.0</td>\n",
       "      <td>0.0</td>\n",
       "      <td>0.0</td>\n",
       "      <td>0.0</td>\n",
       "      <td>0.0</td>\n",
       "      <td>0.0</td>\n",
       "      <td>0.0</td>\n",
       "      <td>1.0</td>\n",
       "      <td>0.0</td>\n",
       "      <td>0.0</td>\n",
       "      <td>0.0</td>\n",
       "      <td>1.0</td>\n",
       "      <td>0.0</td>\n",
       "      <td>0.0</td>\n",
       "      <td>1.0</td>\n",
       "      <td>...</td>\n",
       "      <td>0.0</td>\n",
       "      <td>0.0</td>\n",
       "      <td>0.0</td>\n",
       "      <td>0.0</td>\n",
       "      <td>0.0</td>\n",
       "      <td>0.0</td>\n",
       "      <td>0.0</td>\n",
       "      <td>0.0</td>\n",
       "      <td>0.0</td>\n",
       "      <td>0.0</td>\n",
       "      <td>0.0</td>\n",
       "      <td>0.0</td>\n",
       "      <td>0.0</td>\n",
       "      <td>0.0</td>\n",
       "      <td>0.0</td>\n",
       "      <td>0.0</td>\n",
       "      <td>0.0</td>\n",
       "      <td>0.0</td>\n",
       "      <td>0.0</td>\n",
       "      <td>0.0</td>\n",
       "      <td>0.0</td>\n",
       "      <td>0.0</td>\n",
       "      <td>0.0</td>\n",
       "      <td>0.0</td>\n",
       "      <td>0.0</td>\n",
       "      <td>0.0</td>\n",
       "      <td>0.0</td>\n",
       "      <td>0.0</td>\n",
       "      <td>0.0</td>\n",
       "      <td>0.0</td>\n",
       "      <td>0.0</td>\n",
       "      <td>0.0</td>\n",
       "      <td>0.0</td>\n",
       "      <td>0.0</td>\n",
       "      <td>0.0</td>\n",
       "      <td>0.0</td>\n",
       "      <td>0.0</td>\n",
       "      <td>1.0</td>\n",
       "      <td>0.0</td>\n",
       "      <td>0.0</td>\n",
       "    </tr>\n",
       "    <tr>\n",
       "      <th>19299</th>\n",
       "      <td>1.0</td>\n",
       "      <td>0.0</td>\n",
       "      <td>0.0</td>\n",
       "      <td>0.0</td>\n",
       "      <td>0.0</td>\n",
       "      <td>0.0</td>\n",
       "      <td>0.0</td>\n",
       "      <td>0.0</td>\n",
       "      <td>0.0</td>\n",
       "      <td>1.0</td>\n",
       "      <td>0.0</td>\n",
       "      <td>0.0</td>\n",
       "      <td>0.0</td>\n",
       "      <td>0.0</td>\n",
       "      <td>0.0</td>\n",
       "      <td>0.0</td>\n",
       "      <td>1.0</td>\n",
       "      <td>0.0</td>\n",
       "      <td>0.0</td>\n",
       "      <td>0.0</td>\n",
       "      <td>0.0</td>\n",
       "      <td>0.0</td>\n",
       "      <td>0.0</td>\n",
       "      <td>0.0</td>\n",
       "      <td>0.0</td>\n",
       "      <td>0.0</td>\n",
       "      <td>0.0</td>\n",
       "      <td>0.0</td>\n",
       "      <td>1.0</td>\n",
       "      <td>0.0</td>\n",
       "      <td>0.0</td>\n",
       "      <td>0.0</td>\n",
       "      <td>0.0</td>\n",
       "      <td>0.0</td>\n",
       "      <td>0.0</td>\n",
       "      <td>0.0</td>\n",
       "      <td>1.0</td>\n",
       "      <td>0.0</td>\n",
       "      <td>0.0</td>\n",
       "      <td>0.0</td>\n",
       "      <td>...</td>\n",
       "      <td>0.0</td>\n",
       "      <td>0.0</td>\n",
       "      <td>0.0</td>\n",
       "      <td>0.0</td>\n",
       "      <td>0.0</td>\n",
       "      <td>0.0</td>\n",
       "      <td>0.0</td>\n",
       "      <td>0.0</td>\n",
       "      <td>0.0</td>\n",
       "      <td>0.0</td>\n",
       "      <td>0.0</td>\n",
       "      <td>0.0</td>\n",
       "      <td>0.0</td>\n",
       "      <td>0.0</td>\n",
       "      <td>0.0</td>\n",
       "      <td>0.0</td>\n",
       "      <td>0.0</td>\n",
       "      <td>0.0</td>\n",
       "      <td>0.0</td>\n",
       "      <td>0.0</td>\n",
       "      <td>0.0</td>\n",
       "      <td>0.0</td>\n",
       "      <td>0.0</td>\n",
       "      <td>0.0</td>\n",
       "      <td>0.0</td>\n",
       "      <td>0.0</td>\n",
       "      <td>0.0</td>\n",
       "      <td>0.0</td>\n",
       "      <td>0.0</td>\n",
       "      <td>0.0</td>\n",
       "      <td>0.0</td>\n",
       "      <td>0.0</td>\n",
       "      <td>0.0</td>\n",
       "      <td>0.0</td>\n",
       "      <td>0.0</td>\n",
       "      <td>0.0</td>\n",
       "      <td>0.0</td>\n",
       "      <td>1.0</td>\n",
       "      <td>0.0</td>\n",
       "      <td>0.0</td>\n",
       "    </tr>\n",
       "    <tr>\n",
       "      <th>19300</th>\n",
       "      <td>0.0</td>\n",
       "      <td>0.0</td>\n",
       "      <td>1.0</td>\n",
       "      <td>0.0</td>\n",
       "      <td>0.0</td>\n",
       "      <td>0.0</td>\n",
       "      <td>0.0</td>\n",
       "      <td>0.0</td>\n",
       "      <td>0.0</td>\n",
       "      <td>1.0</td>\n",
       "      <td>0.0</td>\n",
       "      <td>0.0</td>\n",
       "      <td>0.0</td>\n",
       "      <td>0.0</td>\n",
       "      <td>0.0</td>\n",
       "      <td>0.0</td>\n",
       "      <td>1.0</td>\n",
       "      <td>0.0</td>\n",
       "      <td>0.0</td>\n",
       "      <td>0.0</td>\n",
       "      <td>0.0</td>\n",
       "      <td>0.0</td>\n",
       "      <td>0.0</td>\n",
       "      <td>0.0</td>\n",
       "      <td>0.0</td>\n",
       "      <td>0.0</td>\n",
       "      <td>0.0</td>\n",
       "      <td>0.0</td>\n",
       "      <td>1.0</td>\n",
       "      <td>0.0</td>\n",
       "      <td>0.0</td>\n",
       "      <td>0.0</td>\n",
       "      <td>0.0</td>\n",
       "      <td>0.0</td>\n",
       "      <td>0.0</td>\n",
       "      <td>0.0</td>\n",
       "      <td>0.0</td>\n",
       "      <td>0.0</td>\n",
       "      <td>1.0</td>\n",
       "      <td>0.0</td>\n",
       "      <td>...</td>\n",
       "      <td>0.0</td>\n",
       "      <td>0.0</td>\n",
       "      <td>0.0</td>\n",
       "      <td>0.0</td>\n",
       "      <td>0.0</td>\n",
       "      <td>0.0</td>\n",
       "      <td>0.0</td>\n",
       "      <td>0.0</td>\n",
       "      <td>0.0</td>\n",
       "      <td>0.0</td>\n",
       "      <td>0.0</td>\n",
       "      <td>0.0</td>\n",
       "      <td>0.0</td>\n",
       "      <td>0.0</td>\n",
       "      <td>0.0</td>\n",
       "      <td>0.0</td>\n",
       "      <td>0.0</td>\n",
       "      <td>0.0</td>\n",
       "      <td>0.0</td>\n",
       "      <td>0.0</td>\n",
       "      <td>0.0</td>\n",
       "      <td>0.0</td>\n",
       "      <td>0.0</td>\n",
       "      <td>0.0</td>\n",
       "      <td>0.0</td>\n",
       "      <td>0.0</td>\n",
       "      <td>0.0</td>\n",
       "      <td>0.0</td>\n",
       "      <td>0.0</td>\n",
       "      <td>0.0</td>\n",
       "      <td>0.0</td>\n",
       "      <td>0.0</td>\n",
       "      <td>0.0</td>\n",
       "      <td>0.0</td>\n",
       "      <td>0.0</td>\n",
       "      <td>0.0</td>\n",
       "      <td>0.0</td>\n",
       "      <td>1.0</td>\n",
       "      <td>0.0</td>\n",
       "      <td>0.0</td>\n",
       "    </tr>\n",
       "    <tr>\n",
       "      <th>19301</th>\n",
       "      <td>0.0</td>\n",
       "      <td>0.0</td>\n",
       "      <td>1.0</td>\n",
       "      <td>0.0</td>\n",
       "      <td>0.0</td>\n",
       "      <td>0.0</td>\n",
       "      <td>0.0</td>\n",
       "      <td>0.0</td>\n",
       "      <td>0.0</td>\n",
       "      <td>0.0</td>\n",
       "      <td>0.0</td>\n",
       "      <td>0.0</td>\n",
       "      <td>1.0</td>\n",
       "      <td>0.0</td>\n",
       "      <td>0.0</td>\n",
       "      <td>0.0</td>\n",
       "      <td>0.0</td>\n",
       "      <td>0.0</td>\n",
       "      <td>0.0</td>\n",
       "      <td>0.0</td>\n",
       "      <td>0.0</td>\n",
       "      <td>1.0</td>\n",
       "      <td>0.0</td>\n",
       "      <td>0.0</td>\n",
       "      <td>0.0</td>\n",
       "      <td>0.0</td>\n",
       "      <td>0.0</td>\n",
       "      <td>0.0</td>\n",
       "      <td>0.0</td>\n",
       "      <td>1.0</td>\n",
       "      <td>0.0</td>\n",
       "      <td>0.0</td>\n",
       "      <td>0.0</td>\n",
       "      <td>0.0</td>\n",
       "      <td>0.0</td>\n",
       "      <td>0.0</td>\n",
       "      <td>1.0</td>\n",
       "      <td>0.0</td>\n",
       "      <td>0.0</td>\n",
       "      <td>1.0</td>\n",
       "      <td>...</td>\n",
       "      <td>0.0</td>\n",
       "      <td>0.0</td>\n",
       "      <td>0.0</td>\n",
       "      <td>0.0</td>\n",
       "      <td>0.0</td>\n",
       "      <td>0.0</td>\n",
       "      <td>0.0</td>\n",
       "      <td>0.0</td>\n",
       "      <td>0.0</td>\n",
       "      <td>0.0</td>\n",
       "      <td>0.0</td>\n",
       "      <td>0.0</td>\n",
       "      <td>0.0</td>\n",
       "      <td>0.0</td>\n",
       "      <td>0.0</td>\n",
       "      <td>0.0</td>\n",
       "      <td>0.0</td>\n",
       "      <td>0.0</td>\n",
       "      <td>0.0</td>\n",
       "      <td>0.0</td>\n",
       "      <td>0.0</td>\n",
       "      <td>0.0</td>\n",
       "      <td>0.0</td>\n",
       "      <td>0.0</td>\n",
       "      <td>0.0</td>\n",
       "      <td>0.0</td>\n",
       "      <td>0.0</td>\n",
       "      <td>0.0</td>\n",
       "      <td>0.0</td>\n",
       "      <td>0.0</td>\n",
       "      <td>0.0</td>\n",
       "      <td>0.0</td>\n",
       "      <td>0.0</td>\n",
       "      <td>0.0</td>\n",
       "      <td>0.0</td>\n",
       "      <td>0.0</td>\n",
       "      <td>0.0</td>\n",
       "      <td>1.0</td>\n",
       "      <td>0.0</td>\n",
       "      <td>0.0</td>\n",
       "    </tr>\n",
       "    <tr>\n",
       "      <th>19302</th>\n",
       "      <td>0.0</td>\n",
       "      <td>0.0</td>\n",
       "      <td>1.0</td>\n",
       "      <td>0.0</td>\n",
       "      <td>0.0</td>\n",
       "      <td>0.0</td>\n",
       "      <td>0.0</td>\n",
       "      <td>0.0</td>\n",
       "      <td>0.0</td>\n",
       "      <td>0.0</td>\n",
       "      <td>1.0</td>\n",
       "      <td>0.0</td>\n",
       "      <td>0.0</td>\n",
       "      <td>0.0</td>\n",
       "      <td>0.0</td>\n",
       "      <td>0.0</td>\n",
       "      <td>0.0</td>\n",
       "      <td>0.0</td>\n",
       "      <td>0.0</td>\n",
       "      <td>0.0</td>\n",
       "      <td>0.0</td>\n",
       "      <td>0.0</td>\n",
       "      <td>0.0</td>\n",
       "      <td>1.0</td>\n",
       "      <td>0.0</td>\n",
       "      <td>0.0</td>\n",
       "      <td>0.0</td>\n",
       "      <td>0.0</td>\n",
       "      <td>0.0</td>\n",
       "      <td>1.0</td>\n",
       "      <td>0.0</td>\n",
       "      <td>0.0</td>\n",
       "      <td>0.0</td>\n",
       "      <td>0.0</td>\n",
       "      <td>0.0</td>\n",
       "      <td>0.0</td>\n",
       "      <td>0.0</td>\n",
       "      <td>0.0</td>\n",
       "      <td>1.0</td>\n",
       "      <td>0.0</td>\n",
       "      <td>...</td>\n",
       "      <td>0.0</td>\n",
       "      <td>0.0</td>\n",
       "      <td>0.0</td>\n",
       "      <td>0.0</td>\n",
       "      <td>0.0</td>\n",
       "      <td>0.0</td>\n",
       "      <td>0.0</td>\n",
       "      <td>0.0</td>\n",
       "      <td>0.0</td>\n",
       "      <td>0.0</td>\n",
       "      <td>0.0</td>\n",
       "      <td>0.0</td>\n",
       "      <td>0.0</td>\n",
       "      <td>0.0</td>\n",
       "      <td>0.0</td>\n",
       "      <td>0.0</td>\n",
       "      <td>0.0</td>\n",
       "      <td>0.0</td>\n",
       "      <td>0.0</td>\n",
       "      <td>0.0</td>\n",
       "      <td>0.0</td>\n",
       "      <td>0.0</td>\n",
       "      <td>0.0</td>\n",
       "      <td>0.0</td>\n",
       "      <td>0.0</td>\n",
       "      <td>0.0</td>\n",
       "      <td>0.0</td>\n",
       "      <td>0.0</td>\n",
       "      <td>0.0</td>\n",
       "      <td>0.0</td>\n",
       "      <td>0.0</td>\n",
       "      <td>0.0</td>\n",
       "      <td>0.0</td>\n",
       "      <td>0.0</td>\n",
       "      <td>0.0</td>\n",
       "      <td>0.0</td>\n",
       "      <td>0.0</td>\n",
       "      <td>1.0</td>\n",
       "      <td>0.0</td>\n",
       "      <td>0.0</td>\n",
       "    </tr>\n",
       "  </tbody>\n",
       "</table>\n",
       "<p>19303 rows × 82 columns</p>\n",
       "</div>"
      ],
      "text/plain": [
       "        0    1    2    3    4    5    6   ...   75   76   77   78   79   80   81\n",
       "0      0.0  0.0  1.0  0.0  0.0  0.0  0.0  ...  0.0  0.0  0.0  0.0  1.0  0.0  0.0\n",
       "1      0.0  0.0  1.0  0.0  0.0  0.0  0.0  ...  0.0  0.0  0.0  0.0  1.0  0.0  0.0\n",
       "2      0.0  0.0  1.0  0.0  0.0  0.0  0.0  ...  0.0  0.0  0.0  0.0  1.0  0.0  0.0\n",
       "3      0.0  0.0  1.0  0.0  0.0  0.0  0.0  ...  0.0  0.0  0.0  0.0  1.0  0.0  0.0\n",
       "4      0.0  0.0  0.0  1.0  0.0  0.0  0.0  ...  0.0  0.0  0.0  0.0  1.0  0.0  0.0\n",
       "...    ...  ...  ...  ...  ...  ...  ...  ...  ...  ...  ...  ...  ...  ...  ...\n",
       "19298  0.0  0.0  1.0  0.0  0.0  0.0  0.0  ...  0.0  0.0  0.0  0.0  1.0  0.0  0.0\n",
       "19299  1.0  0.0  0.0  0.0  0.0  0.0  0.0  ...  0.0  0.0  0.0  0.0  1.0  0.0  0.0\n",
       "19300  0.0  0.0  1.0  0.0  0.0  0.0  0.0  ...  0.0  0.0  0.0  0.0  1.0  0.0  0.0\n",
       "19301  0.0  0.0  1.0  0.0  0.0  0.0  0.0  ...  0.0  0.0  0.0  0.0  1.0  0.0  0.0\n",
       "19302  0.0  0.0  1.0  0.0  0.0  0.0  0.0  ...  0.0  0.0  0.0  0.0  1.0  0.0  0.0\n",
       "\n",
       "[19303 rows x 82 columns]"
      ]
     },
     "execution_count": 19,
     "metadata": {},
     "output_type": "execute_result"
    }
   ],
   "source": [
    "# Mostrar como ficou o dataframe após a conversão\n",
    "pd.DataFrame(df_OneHotEnconder)"
   ]
  },
  {
   "cell_type": "markdown",
   "id": "respective-armor",
   "metadata": {
    "hideOutput": true,
    "id": "respective-armor"
   },
   "source": [
    "**OBS:** Podemos observar que foi gerado uma grande quantidade de novas colunas, nas quais a maioria tem valor 0. Isso ocorre quando existe atributos categóricos com um grande número de valores diferentes, como é o caso do atributo `native-country` que tem 41 valores diferentes. Para atributos assim, a técnica de One-Hot Encoding resultará em muitas entradas para o classificador, isso pode afetar o tempo de treinamento e a performance. Portanto, é recomendável testar o modelo e se for necessário encontrar outras alternativas para lidar com esses dados.  "
   ]
  },
  {
   "cell_type": "markdown",
   "id": "extra-bubble",
   "metadata": {
    "id": "extra-bubble"
   },
   "source": [
    "#### Lidando com variáveis categóricas que apresentam ordenação ."
   ]
  },
  {
   "cell_type": "markdown",
   "id": "endless-atmosphere",
   "metadata": {
    "id": "endless-atmosphere"
   },
   "source": [
    "Para lidar com variáveis categóricas que apresenta uma ordenação entre os valores, é recomendado transformar os valores em um número inteiro e manter a ordenação entre eles. Para converter esses atributos em valores inteiros mantendo a relação de ordem entre eles, podemos utilizar o objeto `OrdinalEncoder` presente no subpacote  `sklearn.preprocessing`. Cada valor será representado como um valor numérico, onde será seguido uma ordem entre eles. Como o exemplo abaixo:\n",
    "\n",
    "<img src=\"https://miro.medium.com/max/654/1*NUzgzszTdpLPZpeKPPf0kQ.png\" width=500, height=200 alt=\"image\" />\n",
    "\n",
    "Podemos observar pelo exemplo acima que os valores `Poor`, `Good`, `Very Good` e `Excellent` apresentam uma ordem, sendo que o valor `Poor` e `Good` são mais próximos do que os valores `Poor` e `Excellent`. Logo, em atributos assim devemos manter essa relação de ordem. "
   ]
  },
  {
   "cell_type": "markdown",
   "id": "cellular-decade",
   "metadata": {
    "id": "cellular-decade"
   },
   "source": [
    "Para realizar a conversão desse atributos podemos seguir os mesmos passos acima.\n",
    "\n",
    "Exemplo da aplicação:"
   ]
  },
  {
   "cell_type": "code",
   "execution_count": 20,
   "id": "identified-sponsorship",
   "metadata": {
    "ExecuteTime": {
     "end_time": "2021-11-05T12:11:53.861867Z",
     "start_time": "2021-11-05T12:11:53.858023Z"
    },
    "executionInfo": {
     "elapsed": 3,
     "status": "ok",
     "timestamp": 1636118990418,
     "user": {
      "displayName": "Sergio Baldo Junior",
      "photoUrl": "https://lh3.googleusercontent.com/a-/AOh14Gi2otI0IZRjpoY3uoM55ZI_QS5wC4KGsRtL_Nle1A=s64",
      "userId": "10630088078956449092"
     },
     "user_tz": 180
    },
    "id": "identified-sponsorship"
   },
   "outputs": [],
   "source": [
    "# Biblioteca necessária para fazer a transformação: \n",
    "# sklearn -> from sklearn.preprocessing import OrdinalEncoder\n",
    "\n",
    "# Instância o objeto para transformar os atributos \n",
    "# encoder = OrdinalEncoder()\n",
    "\n",
    "# Realizar a transformação\n",
    "# df_ordinalEncoder = encoder.fit_transform(df_ordinal)"
   ]
  },
  {
   "cell_type": "markdown",
   "id": "juvenile-emission",
   "metadata": {
    "id": "juvenile-emission"
   },
   "source": [
    "### Transformação as variáveis numéricas"
   ]
  },
  {
   "cell_type": "markdown",
   "id": "compliant-clear",
   "metadata": {
    "id": "compliant-clear"
   },
   "source": [
    "Podemos escolher duas técnicas para transformar os dados. As duas tem o mesmo objetivo: transformar todas as variáveis na mesma ordem de grandeza. A diferença é que padronizar as variáveis irá resultar em uma média igual a 0 e um desvio padrão igual a 1. Já normalizar tem como objetivo colocar as variáveis dentro do intervalo de 0 e 1, caso tenha resultado negativo -1 e 1.\n",
    "\n",
    "Padronizar os dados normalmente é feito usando a fórmula z-score: Utilizar o objeto `StandardScaler()`.\n",
    "\n",
    "$ z = \\frac{x - u}{\\sigma}$\n",
    "\n",
    "\n",
    "Normalizar os dados usando Min-Max: Utilizar o objeto `MinMaxScaler()`.\n",
    "\n",
    "$x' = \\frac{X - X_{min}}{X_{max} - X_{min}}$\n",
    "\n",
    "**OBS:** A escolha de qual técnica será utilizada vai depender do objetivo de cada aplicação, porém não existe uma técnica melhor que a outra e devemos testar para ver qual obtém melhores resultados.\n",
    "\n",
    "Vamos utilizar a normalizaçnao dos dados.  Para realizar a normalizaçnao vamos utilizar o objeto `MinMaxScaler` presente no subpacote `sklearn.preprocessing`."
   ]
  },
  {
   "cell_type": "code",
   "execution_count": 72,
   "id": "protecting-commons",
   "metadata": {
    "ExecuteTime": {
     "end_time": "2021-11-05T12:11:54.454471Z",
     "start_time": "2021-11-05T12:11:54.439090Z"
    },
    "colab": {
     "base_uri": "https://localhost:8080/",
     "height": 204
    },
    "executionInfo": {
     "elapsed": 357,
     "status": "ok",
     "timestamp": 1636126833734,
     "user": {
      "displayName": "Sergio Baldo Junior",
      "photoUrl": "https://lh3.googleusercontent.com/a-/AOh14Gi2otI0IZRjpoY3uoM55ZI_QS5wC4KGsRtL_Nle1A=s64",
      "userId": "10630088078956449092"
     },
     "user_tz": 180
    },
    "id": "protecting-commons",
    "outputId": "848268e0-8e7b-4bac-b731-5511262cf101"
   },
   "outputs": [
    {
     "data": {
      "text/html": [
       "<div>\n",
       "<style scoped>\n",
       "    .dataframe tbody tr th:only-of-type {\n",
       "        vertical-align: middle;\n",
       "    }\n",
       "\n",
       "    .dataframe tbody tr th {\n",
       "        vertical-align: top;\n",
       "    }\n",
       "\n",
       "    .dataframe thead th {\n",
       "        text-align: right;\n",
       "    }\n",
       "</style>\n",
       "<table border=\"1\" class=\"dataframe\">\n",
       "  <thead>\n",
       "    <tr style=\"text-align: right;\">\n",
       "      <th></th>\n",
       "      <th>age</th>\n",
       "      <th>final-weight</th>\n",
       "      <th>education-num</th>\n",
       "      <th>capital-gain</th>\n",
       "      <th>capital-loos</th>\n",
       "      <th>hour-per-week</th>\n",
       "    </tr>\n",
       "  </thead>\n",
       "  <tbody>\n",
       "    <tr>\n",
       "      <th>0</th>\n",
       "      <td>21</td>\n",
       "      <td>117210</td>\n",
       "      <td>10</td>\n",
       "      <td>0</td>\n",
       "      <td>0</td>\n",
       "      <td>45</td>\n",
       "    </tr>\n",
       "    <tr>\n",
       "      <th>1</th>\n",
       "      <td>44</td>\n",
       "      <td>214415</td>\n",
       "      <td>10</td>\n",
       "      <td>0</td>\n",
       "      <td>0</td>\n",
       "      <td>40</td>\n",
       "    </tr>\n",
       "    <tr>\n",
       "      <th>2</th>\n",
       "      <td>31</td>\n",
       "      <td>131568</td>\n",
       "      <td>5</td>\n",
       "      <td>0</td>\n",
       "      <td>0</td>\n",
       "      <td>40</td>\n",
       "    </tr>\n",
       "    <tr>\n",
       "      <th>3</th>\n",
       "      <td>59</td>\n",
       "      <td>127728</td>\n",
       "      <td>10</td>\n",
       "      <td>0</td>\n",
       "      <td>0</td>\n",
       "      <td>40</td>\n",
       "    </tr>\n",
       "    <tr>\n",
       "      <th>4</th>\n",
       "      <td>63</td>\n",
       "      <td>110610</td>\n",
       "      <td>6</td>\n",
       "      <td>0</td>\n",
       "      <td>0</td>\n",
       "      <td>50</td>\n",
       "    </tr>\n",
       "  </tbody>\n",
       "</table>\n",
       "</div>"
      ],
      "text/plain": [
       "   age  final-weight  education-num  capital-gain  capital-loos  hour-per-week\n",
       "0   21        117210             10             0             0             45\n",
       "1   44        214415             10             0             0             40\n",
       "2   31        131568              5             0             0             40\n",
       "3   59        127728             10             0             0             40\n",
       "4   63        110610              6             0             0             50"
      ]
     },
     "execution_count": 72,
     "metadata": {},
     "output_type": "execute_result"
    }
   ],
   "source": [
    "# Cria um dataset somente com os atributos numéricos\n",
    "df_num = df_train.drop(categorical_attribs, axis=1)\n",
    "df_num = df_num.drop('income', axis=1).reset_index(drop=True)\n",
    "\n",
    "df_num.head()"
   ]
  },
  {
   "cell_type": "code",
   "execution_count": 73,
   "id": "apparent-pricing",
   "metadata": {
    "ExecuteTime": {
     "end_time": "2021-11-05T12:11:54.877856Z",
     "start_time": "2021-11-05T12:11:54.868278Z"
    },
    "executionInfo": {
     "elapsed": 479,
     "status": "ok",
     "timestamp": 1636126836324,
     "user": {
      "displayName": "Sergio Baldo Junior",
      "photoUrl": "https://lh3.googleusercontent.com/a-/AOh14Gi2otI0IZRjpoY3uoM55ZI_QS5wC4KGsRtL_Nle1A=s64",
      "userId": "10630088078956449092"
     },
     "user_tz": 180
    },
    "id": "apparent-pricing"
   },
   "outputs": [],
   "source": [
    "# Biblioteca necessária para fazer a transformação: \n",
    "# sklearn -> from sklearn.preprocessing import MinMaxScaler\n",
    "\n",
    "# Instância o objeto para padronizar os atributos \n",
    "scaler = MinMaxScaler()\n",
    "\n",
    "# Realizar a transformação\n",
    "df_norm = scaler.fit_transform(df_num)"
   ]
  },
  {
   "cell_type": "code",
   "execution_count": 74,
   "id": "owned-celtic",
   "metadata": {
    "ExecuteTime": {
     "end_time": "2021-11-05T12:11:55.461278Z",
     "start_time": "2021-11-05T12:11:55.442587Z"
    },
    "colab": {
     "base_uri": "https://localhost:8080/",
     "height": 419
    },
    "executionInfo": {
     "elapsed": 6,
     "status": "ok",
     "timestamp": 1636126837955,
     "user": {
      "displayName": "Sergio Baldo Junior",
      "photoUrl": "https://lh3.googleusercontent.com/a-/AOh14Gi2otI0IZRjpoY3uoM55ZI_QS5wC4KGsRtL_Nle1A=s64",
      "userId": "10630088078956449092"
     },
     "user_tz": 180
    },
    "id": "owned-celtic",
    "outputId": "3f7f6c6e-2f1d-40b5-aa94-8d03a1b755a9"
   },
   "outputs": [
    {
     "data": {
      "text/html": [
       "<div>\n",
       "<style scoped>\n",
       "    .dataframe tbody tr th:only-of-type {\n",
       "        vertical-align: middle;\n",
       "    }\n",
       "\n",
       "    .dataframe tbody tr th {\n",
       "        vertical-align: top;\n",
       "    }\n",
       "\n",
       "    .dataframe thead th {\n",
       "        text-align: right;\n",
       "    }\n",
       "</style>\n",
       "<table border=\"1\" class=\"dataframe\">\n",
       "  <thead>\n",
       "    <tr style=\"text-align: right;\">\n",
       "      <th></th>\n",
       "      <th>0</th>\n",
       "      <th>1</th>\n",
       "      <th>2</th>\n",
       "      <th>3</th>\n",
       "      <th>4</th>\n",
       "      <th>5</th>\n",
       "    </tr>\n",
       "  </thead>\n",
       "  <tbody>\n",
       "    <tr>\n",
       "      <th>0</th>\n",
       "      <td>0.054795</td>\n",
       "      <td>0.085290</td>\n",
       "      <td>0.600000</td>\n",
       "      <td>0.000000</td>\n",
       "      <td>0.0</td>\n",
       "      <td>0.448980</td>\n",
       "    </tr>\n",
       "    <tr>\n",
       "      <th>1</th>\n",
       "      <td>0.369863</td>\n",
       "      <td>0.165438</td>\n",
       "      <td>0.600000</td>\n",
       "      <td>0.000000</td>\n",
       "      <td>0.0</td>\n",
       "      <td>0.397959</td>\n",
       "    </tr>\n",
       "    <tr>\n",
       "      <th>2</th>\n",
       "      <td>0.191781</td>\n",
       "      <td>0.097129</td>\n",
       "      <td>0.266667</td>\n",
       "      <td>0.000000</td>\n",
       "      <td>0.0</td>\n",
       "      <td>0.397959</td>\n",
       "    </tr>\n",
       "    <tr>\n",
       "      <th>3</th>\n",
       "      <td>0.575342</td>\n",
       "      <td>0.093962</td>\n",
       "      <td>0.600000</td>\n",
       "      <td>0.000000</td>\n",
       "      <td>0.0</td>\n",
       "      <td>0.397959</td>\n",
       "    </tr>\n",
       "    <tr>\n",
       "      <th>4</th>\n",
       "      <td>0.630137</td>\n",
       "      <td>0.079848</td>\n",
       "      <td>0.333333</td>\n",
       "      <td>0.000000</td>\n",
       "      <td>0.0</td>\n",
       "      <td>0.500000</td>\n",
       "    </tr>\n",
       "    <tr>\n",
       "      <th>...</th>\n",
       "      <td>...</td>\n",
       "      <td>...</td>\n",
       "      <td>...</td>\n",
       "      <td>...</td>\n",
       "      <td>...</td>\n",
       "      <td>...</td>\n",
       "    </tr>\n",
       "    <tr>\n",
       "      <th>19298</th>\n",
       "      <td>0.191781</td>\n",
       "      <td>0.356809</td>\n",
       "      <td>0.600000</td>\n",
       "      <td>0.000000</td>\n",
       "      <td>0.0</td>\n",
       "      <td>0.397959</td>\n",
       "    </tr>\n",
       "    <tr>\n",
       "      <th>19299</th>\n",
       "      <td>0.547945</td>\n",
       "      <td>0.013408</td>\n",
       "      <td>0.533333</td>\n",
       "      <td>0.000000</td>\n",
       "      <td>0.0</td>\n",
       "      <td>0.397959</td>\n",
       "    </tr>\n",
       "    <tr>\n",
       "      <th>19300</th>\n",
       "      <td>0.164384</td>\n",
       "      <td>0.158789</td>\n",
       "      <td>0.333333</td>\n",
       "      <td>0.050131</td>\n",
       "      <td>0.0</td>\n",
       "      <td>0.397959</td>\n",
       "    </tr>\n",
       "    <tr>\n",
       "      <th>19301</th>\n",
       "      <td>0.410959</td>\n",
       "      <td>0.141140</td>\n",
       "      <td>0.600000</td>\n",
       "      <td>0.000000</td>\n",
       "      <td>0.0</td>\n",
       "      <td>0.346939</td>\n",
       "    </tr>\n",
       "    <tr>\n",
       "      <th>19302</th>\n",
       "      <td>0.356164</td>\n",
       "      <td>0.168854</td>\n",
       "      <td>0.800000</td>\n",
       "      <td>0.033250</td>\n",
       "      <td>0.0</td>\n",
       "      <td>0.397959</td>\n",
       "    </tr>\n",
       "  </tbody>\n",
       "</table>\n",
       "<p>19303 rows × 6 columns</p>\n",
       "</div>"
      ],
      "text/plain": [
       "              0         1         2         3    4         5\n",
       "0      0.054795  0.085290  0.600000  0.000000  0.0  0.448980\n",
       "1      0.369863  0.165438  0.600000  0.000000  0.0  0.397959\n",
       "2      0.191781  0.097129  0.266667  0.000000  0.0  0.397959\n",
       "3      0.575342  0.093962  0.600000  0.000000  0.0  0.397959\n",
       "4      0.630137  0.079848  0.333333  0.000000  0.0  0.500000\n",
       "...         ...       ...       ...       ...  ...       ...\n",
       "19298  0.191781  0.356809  0.600000  0.000000  0.0  0.397959\n",
       "19299  0.547945  0.013408  0.533333  0.000000  0.0  0.397959\n",
       "19300  0.164384  0.158789  0.333333  0.050131  0.0  0.397959\n",
       "19301  0.410959  0.141140  0.600000  0.000000  0.0  0.346939\n",
       "19302  0.356164  0.168854  0.800000  0.033250  0.0  0.397959\n",
       "\n",
       "[19303 rows x 6 columns]"
      ]
     },
     "execution_count": 74,
     "metadata": {},
     "output_type": "execute_result"
    }
   ],
   "source": [
    "pd.DataFrame(df_norm)"
   ]
  },
  {
   "cell_type": "markdown",
   "id": "sustainable-crest",
   "metadata": {
    "id": "sustainable-crest"
   },
   "source": [
    "### Criando um novo Dataframe após o pré-processamento"
   ]
  },
  {
   "cell_type": "code",
   "execution_count": 24,
   "id": "baking-riverside",
   "metadata": {
    "ExecuteTime": {
     "end_time": "2021-11-05T12:11:56.490389Z",
     "start_time": "2021-11-05T12:11:56.431940Z"
    },
    "colab": {
     "base_uri": "https://localhost:8080/",
     "height": 253
    },
    "executionInfo": {
     "elapsed": 5,
     "status": "ok",
     "timestamp": 1636118999723,
     "user": {
      "displayName": "Sergio Baldo Junior",
      "photoUrl": "https://lh3.googleusercontent.com/a-/AOh14Gi2otI0IZRjpoY3uoM55ZI_QS5wC4KGsRtL_Nle1A=s64",
      "userId": "10630088078956449092"
     },
     "user_tz": 180
    },
    "id": "baking-riverside",
    "outputId": "8fe0a99f-8a92-4f7c-8df5-82d1ec1a20af"
   },
   "outputs": [
    {
     "data": {
      "text/html": [
       "<div>\n",
       "<style scoped>\n",
       "    .dataframe tbody tr th:only-of-type {\n",
       "        vertical-align: middle;\n",
       "    }\n",
       "\n",
       "    .dataframe tbody tr th {\n",
       "        vertical-align: top;\n",
       "    }\n",
       "\n",
       "    .dataframe thead th {\n",
       "        text-align: right;\n",
       "    }\n",
       "</style>\n",
       "<table border=\"1\" class=\"dataframe\">\n",
       "  <thead>\n",
       "    <tr style=\"text-align: right;\">\n",
       "      <th></th>\n",
       "      <th>0</th>\n",
       "      <th>1</th>\n",
       "      <th>2</th>\n",
       "      <th>3</th>\n",
       "      <th>4</th>\n",
       "      <th>5</th>\n",
       "      <th>0</th>\n",
       "      <th>1</th>\n",
       "      <th>2</th>\n",
       "      <th>3</th>\n",
       "      <th>4</th>\n",
       "      <th>5</th>\n",
       "      <th>6</th>\n",
       "      <th>7</th>\n",
       "      <th>8</th>\n",
       "      <th>9</th>\n",
       "      <th>10</th>\n",
       "      <th>11</th>\n",
       "      <th>12</th>\n",
       "      <th>13</th>\n",
       "      <th>14</th>\n",
       "      <th>15</th>\n",
       "      <th>16</th>\n",
       "      <th>17</th>\n",
       "      <th>18</th>\n",
       "      <th>19</th>\n",
       "      <th>20</th>\n",
       "      <th>21</th>\n",
       "      <th>22</th>\n",
       "      <th>23</th>\n",
       "      <th>24</th>\n",
       "      <th>25</th>\n",
       "      <th>26</th>\n",
       "      <th>27</th>\n",
       "      <th>28</th>\n",
       "      <th>29</th>\n",
       "      <th>30</th>\n",
       "      <th>31</th>\n",
       "      <th>32</th>\n",
       "      <th>33</th>\n",
       "      <th>...</th>\n",
       "      <th>42</th>\n",
       "      <th>43</th>\n",
       "      <th>44</th>\n",
       "      <th>45</th>\n",
       "      <th>46</th>\n",
       "      <th>47</th>\n",
       "      <th>48</th>\n",
       "      <th>49</th>\n",
       "      <th>50</th>\n",
       "      <th>51</th>\n",
       "      <th>52</th>\n",
       "      <th>53</th>\n",
       "      <th>54</th>\n",
       "      <th>55</th>\n",
       "      <th>56</th>\n",
       "      <th>57</th>\n",
       "      <th>58</th>\n",
       "      <th>59</th>\n",
       "      <th>60</th>\n",
       "      <th>61</th>\n",
       "      <th>62</th>\n",
       "      <th>63</th>\n",
       "      <th>64</th>\n",
       "      <th>65</th>\n",
       "      <th>66</th>\n",
       "      <th>67</th>\n",
       "      <th>68</th>\n",
       "      <th>69</th>\n",
       "      <th>70</th>\n",
       "      <th>71</th>\n",
       "      <th>72</th>\n",
       "      <th>73</th>\n",
       "      <th>74</th>\n",
       "      <th>75</th>\n",
       "      <th>76</th>\n",
       "      <th>77</th>\n",
       "      <th>78</th>\n",
       "      <th>79</th>\n",
       "      <th>80</th>\n",
       "      <th>81</th>\n",
       "    </tr>\n",
       "  </thead>\n",
       "  <tbody>\n",
       "    <tr>\n",
       "      <th>0</th>\n",
       "      <td>0.054795</td>\n",
       "      <td>0.085290</td>\n",
       "      <td>0.600000</td>\n",
       "      <td>0.0</td>\n",
       "      <td>0.0</td>\n",
       "      <td>0.448980</td>\n",
       "      <td>0.0</td>\n",
       "      <td>0.0</td>\n",
       "      <td>1.0</td>\n",
       "      <td>0.0</td>\n",
       "      <td>0.0</td>\n",
       "      <td>0.0</td>\n",
       "      <td>0.0</td>\n",
       "      <td>0.0</td>\n",
       "      <td>0.0</td>\n",
       "      <td>0.0</td>\n",
       "      <td>0.0</td>\n",
       "      <td>1.0</td>\n",
       "      <td>0.0</td>\n",
       "      <td>0.0</td>\n",
       "      <td>0.0</td>\n",
       "      <td>0.0</td>\n",
       "      <td>0.0</td>\n",
       "      <td>0.0</td>\n",
       "      <td>0.0</td>\n",
       "      <td>0.0</td>\n",
       "      <td>0.0</td>\n",
       "      <td>0.0</td>\n",
       "      <td>0.0</td>\n",
       "      <td>0.0</td>\n",
       "      <td>0.0</td>\n",
       "      <td>1.0</td>\n",
       "      <td>0.0</td>\n",
       "      <td>0.0</td>\n",
       "      <td>0.0</td>\n",
       "      <td>0.0</td>\n",
       "      <td>0.0</td>\n",
       "      <td>1.0</td>\n",
       "      <td>0.0</td>\n",
       "      <td>0.0</td>\n",
       "      <td>...</td>\n",
       "      <td>0.0</td>\n",
       "      <td>0.0</td>\n",
       "      <td>0.0</td>\n",
       "      <td>0.0</td>\n",
       "      <td>0.0</td>\n",
       "      <td>0.0</td>\n",
       "      <td>0.0</td>\n",
       "      <td>0.0</td>\n",
       "      <td>0.0</td>\n",
       "      <td>0.0</td>\n",
       "      <td>0.0</td>\n",
       "      <td>0.0</td>\n",
       "      <td>0.0</td>\n",
       "      <td>0.0</td>\n",
       "      <td>0.0</td>\n",
       "      <td>0.0</td>\n",
       "      <td>0.0</td>\n",
       "      <td>0.0</td>\n",
       "      <td>0.0</td>\n",
       "      <td>0.0</td>\n",
       "      <td>0.0</td>\n",
       "      <td>0.0</td>\n",
       "      <td>0.0</td>\n",
       "      <td>0.0</td>\n",
       "      <td>0.0</td>\n",
       "      <td>0.0</td>\n",
       "      <td>0.0</td>\n",
       "      <td>0.0</td>\n",
       "      <td>0.0</td>\n",
       "      <td>0.0</td>\n",
       "      <td>0.0</td>\n",
       "      <td>0.0</td>\n",
       "      <td>0.0</td>\n",
       "      <td>0.0</td>\n",
       "      <td>0.0</td>\n",
       "      <td>0.0</td>\n",
       "      <td>0.0</td>\n",
       "      <td>1.0</td>\n",
       "      <td>0.0</td>\n",
       "      <td>0.0</td>\n",
       "    </tr>\n",
       "    <tr>\n",
       "      <th>1</th>\n",
       "      <td>0.369863</td>\n",
       "      <td>0.165438</td>\n",
       "      <td>0.600000</td>\n",
       "      <td>0.0</td>\n",
       "      <td>0.0</td>\n",
       "      <td>0.397959</td>\n",
       "      <td>0.0</td>\n",
       "      <td>0.0</td>\n",
       "      <td>1.0</td>\n",
       "      <td>0.0</td>\n",
       "      <td>0.0</td>\n",
       "      <td>0.0</td>\n",
       "      <td>0.0</td>\n",
       "      <td>0.0</td>\n",
       "      <td>0.0</td>\n",
       "      <td>0.0</td>\n",
       "      <td>0.0</td>\n",
       "      <td>0.0</td>\n",
       "      <td>1.0</td>\n",
       "      <td>0.0</td>\n",
       "      <td>0.0</td>\n",
       "      <td>0.0</td>\n",
       "      <td>0.0</td>\n",
       "      <td>0.0</td>\n",
       "      <td>0.0</td>\n",
       "      <td>0.0</td>\n",
       "      <td>0.0</td>\n",
       "      <td>0.0</td>\n",
       "      <td>0.0</td>\n",
       "      <td>1.0</td>\n",
       "      <td>0.0</td>\n",
       "      <td>0.0</td>\n",
       "      <td>0.0</td>\n",
       "      <td>0.0</td>\n",
       "      <td>0.0</td>\n",
       "      <td>0.0</td>\n",
       "      <td>0.0</td>\n",
       "      <td>0.0</td>\n",
       "      <td>1.0</td>\n",
       "      <td>0.0</td>\n",
       "      <td>...</td>\n",
       "      <td>0.0</td>\n",
       "      <td>0.0</td>\n",
       "      <td>0.0</td>\n",
       "      <td>0.0</td>\n",
       "      <td>0.0</td>\n",
       "      <td>0.0</td>\n",
       "      <td>0.0</td>\n",
       "      <td>0.0</td>\n",
       "      <td>0.0</td>\n",
       "      <td>0.0</td>\n",
       "      <td>0.0</td>\n",
       "      <td>0.0</td>\n",
       "      <td>0.0</td>\n",
       "      <td>0.0</td>\n",
       "      <td>0.0</td>\n",
       "      <td>0.0</td>\n",
       "      <td>0.0</td>\n",
       "      <td>0.0</td>\n",
       "      <td>0.0</td>\n",
       "      <td>0.0</td>\n",
       "      <td>0.0</td>\n",
       "      <td>0.0</td>\n",
       "      <td>0.0</td>\n",
       "      <td>0.0</td>\n",
       "      <td>0.0</td>\n",
       "      <td>0.0</td>\n",
       "      <td>0.0</td>\n",
       "      <td>0.0</td>\n",
       "      <td>0.0</td>\n",
       "      <td>0.0</td>\n",
       "      <td>0.0</td>\n",
       "      <td>0.0</td>\n",
       "      <td>0.0</td>\n",
       "      <td>0.0</td>\n",
       "      <td>0.0</td>\n",
       "      <td>0.0</td>\n",
       "      <td>0.0</td>\n",
       "      <td>1.0</td>\n",
       "      <td>0.0</td>\n",
       "      <td>0.0</td>\n",
       "    </tr>\n",
       "    <tr>\n",
       "      <th>2</th>\n",
       "      <td>0.191781</td>\n",
       "      <td>0.097129</td>\n",
       "      <td>0.266667</td>\n",
       "      <td>0.0</td>\n",
       "      <td>0.0</td>\n",
       "      <td>0.397959</td>\n",
       "      <td>0.0</td>\n",
       "      <td>0.0</td>\n",
       "      <td>1.0</td>\n",
       "      <td>0.0</td>\n",
       "      <td>0.0</td>\n",
       "      <td>0.0</td>\n",
       "      <td>0.0</td>\n",
       "      <td>0.0</td>\n",
       "      <td>0.0</td>\n",
       "      <td>0.0</td>\n",
       "      <td>0.0</td>\n",
       "      <td>1.0</td>\n",
       "      <td>0.0</td>\n",
       "      <td>0.0</td>\n",
       "      <td>0.0</td>\n",
       "      <td>0.0</td>\n",
       "      <td>0.0</td>\n",
       "      <td>0.0</td>\n",
       "      <td>0.0</td>\n",
       "      <td>0.0</td>\n",
       "      <td>1.0</td>\n",
       "      <td>0.0</td>\n",
       "      <td>0.0</td>\n",
       "      <td>0.0</td>\n",
       "      <td>0.0</td>\n",
       "      <td>0.0</td>\n",
       "      <td>0.0</td>\n",
       "      <td>0.0</td>\n",
       "      <td>0.0</td>\n",
       "      <td>1.0</td>\n",
       "      <td>0.0</td>\n",
       "      <td>0.0</td>\n",
       "      <td>0.0</td>\n",
       "      <td>0.0</td>\n",
       "      <td>...</td>\n",
       "      <td>0.0</td>\n",
       "      <td>0.0</td>\n",
       "      <td>0.0</td>\n",
       "      <td>0.0</td>\n",
       "      <td>0.0</td>\n",
       "      <td>0.0</td>\n",
       "      <td>0.0</td>\n",
       "      <td>0.0</td>\n",
       "      <td>0.0</td>\n",
       "      <td>0.0</td>\n",
       "      <td>0.0</td>\n",
       "      <td>0.0</td>\n",
       "      <td>0.0</td>\n",
       "      <td>0.0</td>\n",
       "      <td>0.0</td>\n",
       "      <td>0.0</td>\n",
       "      <td>0.0</td>\n",
       "      <td>0.0</td>\n",
       "      <td>0.0</td>\n",
       "      <td>0.0</td>\n",
       "      <td>0.0</td>\n",
       "      <td>0.0</td>\n",
       "      <td>0.0</td>\n",
       "      <td>0.0</td>\n",
       "      <td>0.0</td>\n",
       "      <td>0.0</td>\n",
       "      <td>0.0</td>\n",
       "      <td>0.0</td>\n",
       "      <td>0.0</td>\n",
       "      <td>0.0</td>\n",
       "      <td>0.0</td>\n",
       "      <td>0.0</td>\n",
       "      <td>0.0</td>\n",
       "      <td>0.0</td>\n",
       "      <td>0.0</td>\n",
       "      <td>0.0</td>\n",
       "      <td>0.0</td>\n",
       "      <td>1.0</td>\n",
       "      <td>0.0</td>\n",
       "      <td>0.0</td>\n",
       "    </tr>\n",
       "    <tr>\n",
       "      <th>3</th>\n",
       "      <td>0.575342</td>\n",
       "      <td>0.093962</td>\n",
       "      <td>0.600000</td>\n",
       "      <td>0.0</td>\n",
       "      <td>0.0</td>\n",
       "      <td>0.397959</td>\n",
       "      <td>0.0</td>\n",
       "      <td>0.0</td>\n",
       "      <td>1.0</td>\n",
       "      <td>0.0</td>\n",
       "      <td>0.0</td>\n",
       "      <td>0.0</td>\n",
       "      <td>0.0</td>\n",
       "      <td>0.0</td>\n",
       "      <td>0.0</td>\n",
       "      <td>1.0</td>\n",
       "      <td>0.0</td>\n",
       "      <td>0.0</td>\n",
       "      <td>0.0</td>\n",
       "      <td>0.0</td>\n",
       "      <td>0.0</td>\n",
       "      <td>0.0</td>\n",
       "      <td>0.0</td>\n",
       "      <td>0.0</td>\n",
       "      <td>0.0</td>\n",
       "      <td>0.0</td>\n",
       "      <td>0.0</td>\n",
       "      <td>0.0</td>\n",
       "      <td>0.0</td>\n",
       "      <td>0.0</td>\n",
       "      <td>0.0</td>\n",
       "      <td>0.0</td>\n",
       "      <td>1.0</td>\n",
       "      <td>0.0</td>\n",
       "      <td>1.0</td>\n",
       "      <td>0.0</td>\n",
       "      <td>0.0</td>\n",
       "      <td>0.0</td>\n",
       "      <td>0.0</td>\n",
       "      <td>0.0</td>\n",
       "      <td>...</td>\n",
       "      <td>0.0</td>\n",
       "      <td>0.0</td>\n",
       "      <td>0.0</td>\n",
       "      <td>0.0</td>\n",
       "      <td>0.0</td>\n",
       "      <td>0.0</td>\n",
       "      <td>0.0</td>\n",
       "      <td>0.0</td>\n",
       "      <td>0.0</td>\n",
       "      <td>0.0</td>\n",
       "      <td>0.0</td>\n",
       "      <td>0.0</td>\n",
       "      <td>0.0</td>\n",
       "      <td>0.0</td>\n",
       "      <td>0.0</td>\n",
       "      <td>0.0</td>\n",
       "      <td>0.0</td>\n",
       "      <td>0.0</td>\n",
       "      <td>0.0</td>\n",
       "      <td>0.0</td>\n",
       "      <td>0.0</td>\n",
       "      <td>0.0</td>\n",
       "      <td>0.0</td>\n",
       "      <td>0.0</td>\n",
       "      <td>0.0</td>\n",
       "      <td>0.0</td>\n",
       "      <td>0.0</td>\n",
       "      <td>0.0</td>\n",
       "      <td>0.0</td>\n",
       "      <td>0.0</td>\n",
       "      <td>0.0</td>\n",
       "      <td>0.0</td>\n",
       "      <td>0.0</td>\n",
       "      <td>0.0</td>\n",
       "      <td>0.0</td>\n",
       "      <td>0.0</td>\n",
       "      <td>0.0</td>\n",
       "      <td>1.0</td>\n",
       "      <td>0.0</td>\n",
       "      <td>0.0</td>\n",
       "    </tr>\n",
       "    <tr>\n",
       "      <th>4</th>\n",
       "      <td>0.630137</td>\n",
       "      <td>0.079848</td>\n",
       "      <td>0.333333</td>\n",
       "      <td>0.0</td>\n",
       "      <td>0.0</td>\n",
       "      <td>0.500000</td>\n",
       "      <td>0.0</td>\n",
       "      <td>0.0</td>\n",
       "      <td>0.0</td>\n",
       "      <td>1.0</td>\n",
       "      <td>0.0</td>\n",
       "      <td>0.0</td>\n",
       "      <td>0.0</td>\n",
       "      <td>0.0</td>\n",
       "      <td>0.0</td>\n",
       "      <td>1.0</td>\n",
       "      <td>0.0</td>\n",
       "      <td>0.0</td>\n",
       "      <td>0.0</td>\n",
       "      <td>0.0</td>\n",
       "      <td>0.0</td>\n",
       "      <td>0.0</td>\n",
       "      <td>0.0</td>\n",
       "      <td>0.0</td>\n",
       "      <td>1.0</td>\n",
       "      <td>0.0</td>\n",
       "      <td>0.0</td>\n",
       "      <td>0.0</td>\n",
       "      <td>0.0</td>\n",
       "      <td>0.0</td>\n",
       "      <td>0.0</td>\n",
       "      <td>0.0</td>\n",
       "      <td>0.0</td>\n",
       "      <td>0.0</td>\n",
       "      <td>1.0</td>\n",
       "      <td>0.0</td>\n",
       "      <td>0.0</td>\n",
       "      <td>0.0</td>\n",
       "      <td>0.0</td>\n",
       "      <td>0.0</td>\n",
       "      <td>...</td>\n",
       "      <td>0.0</td>\n",
       "      <td>0.0</td>\n",
       "      <td>0.0</td>\n",
       "      <td>0.0</td>\n",
       "      <td>0.0</td>\n",
       "      <td>0.0</td>\n",
       "      <td>0.0</td>\n",
       "      <td>0.0</td>\n",
       "      <td>0.0</td>\n",
       "      <td>0.0</td>\n",
       "      <td>0.0</td>\n",
       "      <td>0.0</td>\n",
       "      <td>0.0</td>\n",
       "      <td>0.0</td>\n",
       "      <td>0.0</td>\n",
       "      <td>0.0</td>\n",
       "      <td>0.0</td>\n",
       "      <td>0.0</td>\n",
       "      <td>0.0</td>\n",
       "      <td>0.0</td>\n",
       "      <td>0.0</td>\n",
       "      <td>0.0</td>\n",
       "      <td>0.0</td>\n",
       "      <td>0.0</td>\n",
       "      <td>0.0</td>\n",
       "      <td>0.0</td>\n",
       "      <td>0.0</td>\n",
       "      <td>0.0</td>\n",
       "      <td>0.0</td>\n",
       "      <td>0.0</td>\n",
       "      <td>0.0</td>\n",
       "      <td>0.0</td>\n",
       "      <td>0.0</td>\n",
       "      <td>0.0</td>\n",
       "      <td>0.0</td>\n",
       "      <td>0.0</td>\n",
       "      <td>0.0</td>\n",
       "      <td>1.0</td>\n",
       "      <td>0.0</td>\n",
       "      <td>0.0</td>\n",
       "    </tr>\n",
       "  </tbody>\n",
       "</table>\n",
       "<p>5 rows × 88 columns</p>\n",
       "</div>"
      ],
      "text/plain": [
       "         0         1         2    3    4   ...   77   78   79   80   81\n",
       "0  0.054795  0.085290  0.600000  0.0  0.0  ...  0.0  0.0  1.0  0.0  0.0\n",
       "1  0.369863  0.165438  0.600000  0.0  0.0  ...  0.0  0.0  1.0  0.0  0.0\n",
       "2  0.191781  0.097129  0.266667  0.0  0.0  ...  0.0  0.0  1.0  0.0  0.0\n",
       "3  0.575342  0.093962  0.600000  0.0  0.0  ...  0.0  0.0  1.0  0.0  0.0\n",
       "4  0.630137  0.079848  0.333333  0.0  0.0  ...  0.0  0.0  1.0  0.0  0.0\n",
       "\n",
       "[5 rows x 88 columns]"
      ]
     },
     "execution_count": 24,
     "metadata": {},
     "output_type": "execute_result"
    }
   ],
   "source": [
    "# Criando um novo Dataframe com os dados após o processamento das variaveis categóricas e numéricas\n",
    "df_train_new = pd.concat([pd.DataFrame(df_norm), pd.DataFrame(df_OneHotEnconder)], axis=1)\n",
    "\n",
    "df_train_new.head()"
   ]
  },
  {
   "cell_type": "markdown",
   "id": "reliable-asbestos",
   "metadata": {
    "id": "reliable-asbestos"
   },
   "source": [
    "### Realizando a transformação dos valores que representam as classes dos dados"
   ]
  },
  {
   "cell_type": "markdown",
   "id": "differential-faith",
   "metadata": {
    "id": "differential-faith"
   },
   "source": [
    "Para realizar essa transformação vamos utilizar o objeto `LabelEncoder` presente no subpacote `sklearn.preprocessing`. Aqui cada categoria recebe um valor de 0 a N, onde N é o número de categorias da variável. Não há relação ou ordem entre essas atribuições. Essa transformação é semelhante a usada com o objeto `OrdinalEncoder`, a diferença é que aqui não existe uma relação de ordem entre os elementos. "
   ]
  },
  {
   "cell_type": "code",
   "execution_count": 25,
   "id": "statistical-climate",
   "metadata": {
    "ExecuteTime": {
     "end_time": "2021-11-05T12:11:57.540456Z",
     "start_time": "2021-11-05T12:11:57.533796Z"
    },
    "colab": {
     "base_uri": "https://localhost:8080/"
    },
    "executionInfo": {
     "elapsed": 600,
     "status": "ok",
     "timestamp": 1636119007097,
     "user": {
      "displayName": "Sergio Baldo Junior",
      "photoUrl": "https://lh3.googleusercontent.com/a-/AOh14Gi2otI0IZRjpoY3uoM55ZI_QS5wC4KGsRtL_Nle1A=s64",
      "userId": "10630088078956449092"
     },
     "user_tz": 180
    },
    "id": "statistical-climate",
    "outputId": "30de9f33-e57c-4929-d41e-35123dd5d87c"
   },
   "outputs": [
    {
     "data": {
      "text/plain": [
       "8630      <=50K\n",
       "20942     <=50K\n",
       "9332      <=50K\n",
       "20432      >50K\n",
       "21151     <=50K\n",
       "Name: income, dtype: object"
      ]
     },
     "execution_count": 25,
     "metadata": {},
     "output_type": "execute_result"
    }
   ],
   "source": [
    "# Criando um vetor com as classes dos exemplos\n",
    "y_train = df_train['income']\n",
    "\n",
    "y_train.head()"
   ]
  },
  {
   "cell_type": "code",
   "execution_count": 26,
   "id": "human-projector",
   "metadata": {
    "ExecuteTime": {
     "end_time": "2021-11-05T12:11:57.736347Z",
     "start_time": "2021-11-05T12:11:57.727212Z"
    },
    "executionInfo": {
     "elapsed": 290,
     "status": "ok",
     "timestamp": 1636119009812,
     "user": {
      "displayName": "Sergio Baldo Junior",
      "photoUrl": "https://lh3.googleusercontent.com/a-/AOh14Gi2otI0IZRjpoY3uoM55ZI_QS5wC4KGsRtL_Nle1A=s64",
      "userId": "10630088078956449092"
     },
     "user_tz": 180
    },
    "id": "human-projector"
   },
   "outputs": [],
   "source": [
    "# Biblioteca necessária para fazer a transformação: \n",
    "# sklearn -> from sklearn.preprocessing import LabelEncoder\n",
    "\n",
    "# Instância o objeto para transformar os valores \n",
    "label_encoder = LabelEncoder()\n",
    "\n",
    "# Realizar a transformação\n",
    "y_train = label_encoder.fit_transform(y_train)"
   ]
  },
  {
   "cell_type": "code",
   "execution_count": 27,
   "id": "noble-omaha",
   "metadata": {
    "ExecuteTime": {
     "end_time": "2021-11-05T12:11:57.896728Z",
     "start_time": "2021-11-05T12:11:57.885778Z"
    },
    "colab": {
     "base_uri": "https://localhost:8080/",
     "height": 419
    },
    "executionInfo": {
     "elapsed": 728,
     "status": "ok",
     "timestamp": 1636119012315,
     "user": {
      "displayName": "Sergio Baldo Junior",
      "photoUrl": "https://lh3.googleusercontent.com/a-/AOh14Gi2otI0IZRjpoY3uoM55ZI_QS5wC4KGsRtL_Nle1A=s64",
      "userId": "10630088078956449092"
     },
     "user_tz": 180
    },
    "id": "noble-omaha",
    "outputId": "a1b0692f-56f3-411d-f667-60dc8b677c07"
   },
   "outputs": [
    {
     "data": {
      "text/html": [
       "<div>\n",
       "<style scoped>\n",
       "    .dataframe tbody tr th:only-of-type {\n",
       "        vertical-align: middle;\n",
       "    }\n",
       "\n",
       "    .dataframe tbody tr th {\n",
       "        vertical-align: top;\n",
       "    }\n",
       "\n",
       "    .dataframe thead th {\n",
       "        text-align: right;\n",
       "    }\n",
       "</style>\n",
       "<table border=\"1\" class=\"dataframe\">\n",
       "  <thead>\n",
       "    <tr style=\"text-align: right;\">\n",
       "      <th></th>\n",
       "      <th>0</th>\n",
       "    </tr>\n",
       "  </thead>\n",
       "  <tbody>\n",
       "    <tr>\n",
       "      <th>0</th>\n",
       "      <td>0</td>\n",
       "    </tr>\n",
       "    <tr>\n",
       "      <th>1</th>\n",
       "      <td>0</td>\n",
       "    </tr>\n",
       "    <tr>\n",
       "      <th>2</th>\n",
       "      <td>0</td>\n",
       "    </tr>\n",
       "    <tr>\n",
       "      <th>3</th>\n",
       "      <td>1</td>\n",
       "    </tr>\n",
       "    <tr>\n",
       "      <th>4</th>\n",
       "      <td>0</td>\n",
       "    </tr>\n",
       "    <tr>\n",
       "      <th>...</th>\n",
       "      <td>...</td>\n",
       "    </tr>\n",
       "    <tr>\n",
       "      <th>19298</th>\n",
       "      <td>0</td>\n",
       "    </tr>\n",
       "    <tr>\n",
       "      <th>19299</th>\n",
       "      <td>1</td>\n",
       "    </tr>\n",
       "    <tr>\n",
       "      <th>19300</th>\n",
       "      <td>0</td>\n",
       "    </tr>\n",
       "    <tr>\n",
       "      <th>19301</th>\n",
       "      <td>0</td>\n",
       "    </tr>\n",
       "    <tr>\n",
       "      <th>19302</th>\n",
       "      <td>0</td>\n",
       "    </tr>\n",
       "  </tbody>\n",
       "</table>\n",
       "<p>19303 rows × 1 columns</p>\n",
       "</div>"
      ],
      "text/plain": [
       "       0\n",
       "0      0\n",
       "1      0\n",
       "2      0\n",
       "3      1\n",
       "4      0\n",
       "...   ..\n",
       "19298  0\n",
       "19299  1\n",
       "19300  0\n",
       "19301  0\n",
       "19302  0\n",
       "\n",
       "[19303 rows x 1 columns]"
      ]
     },
     "execution_count": 27,
     "metadata": {},
     "output_type": "execute_result"
    }
   ],
   "source": [
    "pd.DataFrame(y_train)"
   ]
  },
  {
   "cell_type": "markdown",
   "id": "reduced-exclusive",
   "metadata": {
    "id": "reduced-exclusive"
   },
   "source": [
    "## Criando Pipeline"
   ]
  },
  {
   "cell_type": "markdown",
   "id": "alternate-contest",
   "metadata": {
    "id": "alternate-contest"
   },
   "source": [
    "Como mostrado acima, o pré-processamento dos dados requer várias etapas diferentes. A sklearn oferece uma maneira de criarmos um pipeline para juntarmos alguns desses passos em apenas uma chamada de função, facilitando o pré-processamento dos dados e até mesmo incluir a definição do modelo de Machine Learning dentro do pipeline. Para fazer isso, devemos utilizar o subpacote `sklearn.pipeline`. "
   ]
  },
  {
   "cell_type": "markdown",
   "id": "intense-muscle",
   "metadata": {
    "id": "intense-muscle"
   },
   "source": [
    "Como nessa aplicaçnao temos dois tipos de pré-processamento dos dados, normalização das variáveis numéricas e transformação das variáveis categóricas, podemos utilizar um outro subpacote o `sklearn.compose` para importar o objeto `ColumnTransformer` e aplicar o pré-processamento adequado em cada coluna desejada e concatenar os resultados em um unico array. "
   ]
  },
  {
   "cell_type": "code",
   "execution_count": 77,
   "id": "comfortable-preliminary",
   "metadata": {
    "ExecuteTime": {
     "end_time": "2021-11-05T12:11:59.920910Z",
     "start_time": "2021-11-05T12:11:59.907360Z"
    },
    "executionInfo": {
     "elapsed": 374,
     "status": "ok",
     "timestamp": 1636127582930,
     "user": {
      "displayName": "Sergio Baldo Junior",
      "photoUrl": "https://lh3.googleusercontent.com/a-/AOh14Gi2otI0IZRjpoY3uoM55ZI_QS5wC4KGsRtL_Nle1A=s64",
      "userId": "10630088078956449092"
     },
     "user_tz": 180
    },
    "id": "comfortable-preliminary"
   },
   "outputs": [],
   "source": [
    "# Definimos quais são os nomes das variáveis numéricas\n",
    "num_features =  list(df_clean.select_dtypes(exclude='object'))\n",
    "\n",
    "# Definimos quais são os nomes das variáveis categóricas\n",
    "cat_features = list(df_clean.select_dtypes(include='object'))\n",
    "# Removendo o nome da última variável categórica que é o `income`. \n",
    "cat_features.pop()\n",
    "\n",
    "# Criando um Pipeline para realizar a normalização das variáveis numéricas\n",
    "numerical_pipeline = Pipeline([\n",
    "    ('scaler', MinMaxScaler()),\n",
    "])\n",
    "\n",
    "# Criando um Pipeline para realizar a transformação das variáveis categóricas\n",
    "cat_pipeline = Pipeline([\n",
    "    ('onehot', OneHotEncoder())\n",
    "])\n",
    "\n",
    "# Criando o Pipeline final com o objeto ColumnTransformer e definindo qual pipeline será aplicado em cada coluna\n",
    "full_pipeline = ColumnTransformer([\n",
    "    (\"num\", numerical_pipeline, num_features),\n",
    "    (\"cat\", cat_pipeline, cat_features)\n",
    "])\n"
   ]
  },
  {
   "cell_type": "code",
   "execution_count": 78,
   "id": "union-photography",
   "metadata": {
    "ExecuteTime": {
     "end_time": "2021-11-05T12:12:01.857178Z",
     "start_time": "2021-11-05T12:12:01.785877Z"
    },
    "executionInfo": {
     "elapsed": 740,
     "status": "ok",
     "timestamp": 1636127597412,
     "user": {
      "displayName": "Sergio Baldo Junior",
      "photoUrl": "https://lh3.googleusercontent.com/a-/AOh14Gi2otI0IZRjpoY3uoM55ZI_QS5wC4KGsRtL_Nle1A=s64",
      "userId": "10630088078956449092"
     },
     "user_tz": 180
    },
    "id": "union-photography"
   },
   "outputs": [],
   "source": [
    "# Selecionando a classe dos dados \n",
    "y_train = df_train['income']\n",
    "y_valid = df_valid['income']\n",
    "y_test = df_test['income']\n",
    "\n",
    "# Realizando a transformação dos atributos  \n",
    "X_train = full_pipeline.fit_transform(df_train).toarray()"
   ]
  },
  {
   "cell_type": "code",
   "execution_count": 81,
   "id": "b7suQh64zoL4",
   "metadata": {
    "colab": {
     "base_uri": "https://localhost:8080/",
     "height": 253
    },
    "executionInfo": {
     "elapsed": 419,
     "status": "ok",
     "timestamp": 1636127654109,
     "user": {
      "displayName": "Sergio Baldo Junior",
      "photoUrl": "https://lh3.googleusercontent.com/a-/AOh14Gi2otI0IZRjpoY3uoM55ZI_QS5wC4KGsRtL_Nle1A=s64",
      "userId": "10630088078956449092"
     },
     "user_tz": 180
    },
    "id": "b7suQh64zoL4",
    "outputId": "321da680-5b03-42d0-bcc3-92d337c6043a"
   },
   "outputs": [
    {
     "data": {
      "text/html": [
       "<div>\n",
       "<style scoped>\n",
       "    .dataframe tbody tr th:only-of-type {\n",
       "        vertical-align: middle;\n",
       "    }\n",
       "\n",
       "    .dataframe tbody tr th {\n",
       "        vertical-align: top;\n",
       "    }\n",
       "\n",
       "    .dataframe thead th {\n",
       "        text-align: right;\n",
       "    }\n",
       "</style>\n",
       "<table border=\"1\" class=\"dataframe\">\n",
       "  <thead>\n",
       "    <tr style=\"text-align: right;\">\n",
       "      <th></th>\n",
       "      <th>0</th>\n",
       "      <th>1</th>\n",
       "      <th>2</th>\n",
       "      <th>3</th>\n",
       "      <th>4</th>\n",
       "      <th>5</th>\n",
       "      <th>6</th>\n",
       "      <th>7</th>\n",
       "      <th>8</th>\n",
       "      <th>9</th>\n",
       "      <th>10</th>\n",
       "      <th>11</th>\n",
       "      <th>12</th>\n",
       "      <th>13</th>\n",
       "      <th>14</th>\n",
       "      <th>15</th>\n",
       "      <th>16</th>\n",
       "      <th>17</th>\n",
       "      <th>18</th>\n",
       "      <th>19</th>\n",
       "      <th>20</th>\n",
       "      <th>21</th>\n",
       "      <th>22</th>\n",
       "      <th>23</th>\n",
       "      <th>24</th>\n",
       "      <th>25</th>\n",
       "      <th>26</th>\n",
       "      <th>27</th>\n",
       "      <th>28</th>\n",
       "      <th>29</th>\n",
       "      <th>30</th>\n",
       "      <th>31</th>\n",
       "      <th>32</th>\n",
       "      <th>33</th>\n",
       "      <th>34</th>\n",
       "      <th>35</th>\n",
       "      <th>36</th>\n",
       "      <th>37</th>\n",
       "      <th>38</th>\n",
       "      <th>39</th>\n",
       "      <th>...</th>\n",
       "      <th>48</th>\n",
       "      <th>49</th>\n",
       "      <th>50</th>\n",
       "      <th>51</th>\n",
       "      <th>52</th>\n",
       "      <th>53</th>\n",
       "      <th>54</th>\n",
       "      <th>55</th>\n",
       "      <th>56</th>\n",
       "      <th>57</th>\n",
       "      <th>58</th>\n",
       "      <th>59</th>\n",
       "      <th>60</th>\n",
       "      <th>61</th>\n",
       "      <th>62</th>\n",
       "      <th>63</th>\n",
       "      <th>64</th>\n",
       "      <th>65</th>\n",
       "      <th>66</th>\n",
       "      <th>67</th>\n",
       "      <th>68</th>\n",
       "      <th>69</th>\n",
       "      <th>70</th>\n",
       "      <th>71</th>\n",
       "      <th>72</th>\n",
       "      <th>73</th>\n",
       "      <th>74</th>\n",
       "      <th>75</th>\n",
       "      <th>76</th>\n",
       "      <th>77</th>\n",
       "      <th>78</th>\n",
       "      <th>79</th>\n",
       "      <th>80</th>\n",
       "      <th>81</th>\n",
       "      <th>82</th>\n",
       "      <th>83</th>\n",
       "      <th>84</th>\n",
       "      <th>85</th>\n",
       "      <th>86</th>\n",
       "      <th>87</th>\n",
       "    </tr>\n",
       "  </thead>\n",
       "  <tbody>\n",
       "    <tr>\n",
       "      <th>0</th>\n",
       "      <td>0.054795</td>\n",
       "      <td>0.085290</td>\n",
       "      <td>0.600000</td>\n",
       "      <td>0.0</td>\n",
       "      <td>0.0</td>\n",
       "      <td>0.448980</td>\n",
       "      <td>0.0</td>\n",
       "      <td>0.0</td>\n",
       "      <td>1.0</td>\n",
       "      <td>0.0</td>\n",
       "      <td>0.0</td>\n",
       "      <td>0.0</td>\n",
       "      <td>0.0</td>\n",
       "      <td>0.0</td>\n",
       "      <td>0.0</td>\n",
       "      <td>0.0</td>\n",
       "      <td>0.0</td>\n",
       "      <td>1.0</td>\n",
       "      <td>0.0</td>\n",
       "      <td>0.0</td>\n",
       "      <td>0.0</td>\n",
       "      <td>0.0</td>\n",
       "      <td>0.0</td>\n",
       "      <td>0.0</td>\n",
       "      <td>0.0</td>\n",
       "      <td>0.0</td>\n",
       "      <td>0.0</td>\n",
       "      <td>0.0</td>\n",
       "      <td>0.0</td>\n",
       "      <td>0.0</td>\n",
       "      <td>0.0</td>\n",
       "      <td>1.0</td>\n",
       "      <td>0.0</td>\n",
       "      <td>0.0</td>\n",
       "      <td>0.0</td>\n",
       "      <td>0.0</td>\n",
       "      <td>0.0</td>\n",
       "      <td>1.0</td>\n",
       "      <td>0.0</td>\n",
       "      <td>0.0</td>\n",
       "      <td>...</td>\n",
       "      <td>0.0</td>\n",
       "      <td>0.0</td>\n",
       "      <td>0.0</td>\n",
       "      <td>0.0</td>\n",
       "      <td>0.0</td>\n",
       "      <td>0.0</td>\n",
       "      <td>0.0</td>\n",
       "      <td>0.0</td>\n",
       "      <td>0.0</td>\n",
       "      <td>0.0</td>\n",
       "      <td>0.0</td>\n",
       "      <td>0.0</td>\n",
       "      <td>0.0</td>\n",
       "      <td>0.0</td>\n",
       "      <td>0.0</td>\n",
       "      <td>0.0</td>\n",
       "      <td>0.0</td>\n",
       "      <td>0.0</td>\n",
       "      <td>0.0</td>\n",
       "      <td>0.0</td>\n",
       "      <td>0.0</td>\n",
       "      <td>0.0</td>\n",
       "      <td>0.0</td>\n",
       "      <td>0.0</td>\n",
       "      <td>0.0</td>\n",
       "      <td>0.0</td>\n",
       "      <td>0.0</td>\n",
       "      <td>0.0</td>\n",
       "      <td>0.0</td>\n",
       "      <td>0.0</td>\n",
       "      <td>0.0</td>\n",
       "      <td>0.0</td>\n",
       "      <td>0.0</td>\n",
       "      <td>0.0</td>\n",
       "      <td>0.0</td>\n",
       "      <td>0.0</td>\n",
       "      <td>0.0</td>\n",
       "      <td>1.0</td>\n",
       "      <td>0.0</td>\n",
       "      <td>0.0</td>\n",
       "    </tr>\n",
       "    <tr>\n",
       "      <th>1</th>\n",
       "      <td>0.369863</td>\n",
       "      <td>0.165438</td>\n",
       "      <td>0.600000</td>\n",
       "      <td>0.0</td>\n",
       "      <td>0.0</td>\n",
       "      <td>0.397959</td>\n",
       "      <td>0.0</td>\n",
       "      <td>0.0</td>\n",
       "      <td>1.0</td>\n",
       "      <td>0.0</td>\n",
       "      <td>0.0</td>\n",
       "      <td>0.0</td>\n",
       "      <td>0.0</td>\n",
       "      <td>0.0</td>\n",
       "      <td>0.0</td>\n",
       "      <td>0.0</td>\n",
       "      <td>0.0</td>\n",
       "      <td>0.0</td>\n",
       "      <td>1.0</td>\n",
       "      <td>0.0</td>\n",
       "      <td>0.0</td>\n",
       "      <td>0.0</td>\n",
       "      <td>0.0</td>\n",
       "      <td>0.0</td>\n",
       "      <td>0.0</td>\n",
       "      <td>0.0</td>\n",
       "      <td>0.0</td>\n",
       "      <td>0.0</td>\n",
       "      <td>0.0</td>\n",
       "      <td>1.0</td>\n",
       "      <td>0.0</td>\n",
       "      <td>0.0</td>\n",
       "      <td>0.0</td>\n",
       "      <td>0.0</td>\n",
       "      <td>0.0</td>\n",
       "      <td>0.0</td>\n",
       "      <td>0.0</td>\n",
       "      <td>0.0</td>\n",
       "      <td>1.0</td>\n",
       "      <td>0.0</td>\n",
       "      <td>...</td>\n",
       "      <td>0.0</td>\n",
       "      <td>0.0</td>\n",
       "      <td>0.0</td>\n",
       "      <td>0.0</td>\n",
       "      <td>0.0</td>\n",
       "      <td>0.0</td>\n",
       "      <td>0.0</td>\n",
       "      <td>0.0</td>\n",
       "      <td>0.0</td>\n",
       "      <td>0.0</td>\n",
       "      <td>0.0</td>\n",
       "      <td>0.0</td>\n",
       "      <td>0.0</td>\n",
       "      <td>0.0</td>\n",
       "      <td>0.0</td>\n",
       "      <td>0.0</td>\n",
       "      <td>0.0</td>\n",
       "      <td>0.0</td>\n",
       "      <td>0.0</td>\n",
       "      <td>0.0</td>\n",
       "      <td>0.0</td>\n",
       "      <td>0.0</td>\n",
       "      <td>0.0</td>\n",
       "      <td>0.0</td>\n",
       "      <td>0.0</td>\n",
       "      <td>0.0</td>\n",
       "      <td>0.0</td>\n",
       "      <td>0.0</td>\n",
       "      <td>0.0</td>\n",
       "      <td>0.0</td>\n",
       "      <td>0.0</td>\n",
       "      <td>0.0</td>\n",
       "      <td>0.0</td>\n",
       "      <td>0.0</td>\n",
       "      <td>0.0</td>\n",
       "      <td>0.0</td>\n",
       "      <td>0.0</td>\n",
       "      <td>1.0</td>\n",
       "      <td>0.0</td>\n",
       "      <td>0.0</td>\n",
       "    </tr>\n",
       "    <tr>\n",
       "      <th>2</th>\n",
       "      <td>0.191781</td>\n",
       "      <td>0.097129</td>\n",
       "      <td>0.266667</td>\n",
       "      <td>0.0</td>\n",
       "      <td>0.0</td>\n",
       "      <td>0.397959</td>\n",
       "      <td>0.0</td>\n",
       "      <td>0.0</td>\n",
       "      <td>1.0</td>\n",
       "      <td>0.0</td>\n",
       "      <td>0.0</td>\n",
       "      <td>0.0</td>\n",
       "      <td>0.0</td>\n",
       "      <td>0.0</td>\n",
       "      <td>0.0</td>\n",
       "      <td>0.0</td>\n",
       "      <td>0.0</td>\n",
       "      <td>1.0</td>\n",
       "      <td>0.0</td>\n",
       "      <td>0.0</td>\n",
       "      <td>0.0</td>\n",
       "      <td>0.0</td>\n",
       "      <td>0.0</td>\n",
       "      <td>0.0</td>\n",
       "      <td>0.0</td>\n",
       "      <td>0.0</td>\n",
       "      <td>1.0</td>\n",
       "      <td>0.0</td>\n",
       "      <td>0.0</td>\n",
       "      <td>0.0</td>\n",
       "      <td>0.0</td>\n",
       "      <td>0.0</td>\n",
       "      <td>0.0</td>\n",
       "      <td>0.0</td>\n",
       "      <td>0.0</td>\n",
       "      <td>1.0</td>\n",
       "      <td>0.0</td>\n",
       "      <td>0.0</td>\n",
       "      <td>0.0</td>\n",
       "      <td>0.0</td>\n",
       "      <td>...</td>\n",
       "      <td>0.0</td>\n",
       "      <td>0.0</td>\n",
       "      <td>0.0</td>\n",
       "      <td>0.0</td>\n",
       "      <td>0.0</td>\n",
       "      <td>0.0</td>\n",
       "      <td>0.0</td>\n",
       "      <td>0.0</td>\n",
       "      <td>0.0</td>\n",
       "      <td>0.0</td>\n",
       "      <td>0.0</td>\n",
       "      <td>0.0</td>\n",
       "      <td>0.0</td>\n",
       "      <td>0.0</td>\n",
       "      <td>0.0</td>\n",
       "      <td>0.0</td>\n",
       "      <td>0.0</td>\n",
       "      <td>0.0</td>\n",
       "      <td>0.0</td>\n",
       "      <td>0.0</td>\n",
       "      <td>0.0</td>\n",
       "      <td>0.0</td>\n",
       "      <td>0.0</td>\n",
       "      <td>0.0</td>\n",
       "      <td>0.0</td>\n",
       "      <td>0.0</td>\n",
       "      <td>0.0</td>\n",
       "      <td>0.0</td>\n",
       "      <td>0.0</td>\n",
       "      <td>0.0</td>\n",
       "      <td>0.0</td>\n",
       "      <td>0.0</td>\n",
       "      <td>0.0</td>\n",
       "      <td>0.0</td>\n",
       "      <td>0.0</td>\n",
       "      <td>0.0</td>\n",
       "      <td>0.0</td>\n",
       "      <td>1.0</td>\n",
       "      <td>0.0</td>\n",
       "      <td>0.0</td>\n",
       "    </tr>\n",
       "    <tr>\n",
       "      <th>3</th>\n",
       "      <td>0.575342</td>\n",
       "      <td>0.093962</td>\n",
       "      <td>0.600000</td>\n",
       "      <td>0.0</td>\n",
       "      <td>0.0</td>\n",
       "      <td>0.397959</td>\n",
       "      <td>0.0</td>\n",
       "      <td>0.0</td>\n",
       "      <td>1.0</td>\n",
       "      <td>0.0</td>\n",
       "      <td>0.0</td>\n",
       "      <td>0.0</td>\n",
       "      <td>0.0</td>\n",
       "      <td>0.0</td>\n",
       "      <td>0.0</td>\n",
       "      <td>1.0</td>\n",
       "      <td>0.0</td>\n",
       "      <td>0.0</td>\n",
       "      <td>0.0</td>\n",
       "      <td>0.0</td>\n",
       "      <td>0.0</td>\n",
       "      <td>0.0</td>\n",
       "      <td>0.0</td>\n",
       "      <td>0.0</td>\n",
       "      <td>0.0</td>\n",
       "      <td>0.0</td>\n",
       "      <td>0.0</td>\n",
       "      <td>0.0</td>\n",
       "      <td>0.0</td>\n",
       "      <td>0.0</td>\n",
       "      <td>0.0</td>\n",
       "      <td>0.0</td>\n",
       "      <td>1.0</td>\n",
       "      <td>0.0</td>\n",
       "      <td>1.0</td>\n",
       "      <td>0.0</td>\n",
       "      <td>0.0</td>\n",
       "      <td>0.0</td>\n",
       "      <td>0.0</td>\n",
       "      <td>0.0</td>\n",
       "      <td>...</td>\n",
       "      <td>0.0</td>\n",
       "      <td>0.0</td>\n",
       "      <td>0.0</td>\n",
       "      <td>0.0</td>\n",
       "      <td>0.0</td>\n",
       "      <td>0.0</td>\n",
       "      <td>0.0</td>\n",
       "      <td>0.0</td>\n",
       "      <td>0.0</td>\n",
       "      <td>0.0</td>\n",
       "      <td>0.0</td>\n",
       "      <td>0.0</td>\n",
       "      <td>0.0</td>\n",
       "      <td>0.0</td>\n",
       "      <td>0.0</td>\n",
       "      <td>0.0</td>\n",
       "      <td>0.0</td>\n",
       "      <td>0.0</td>\n",
       "      <td>0.0</td>\n",
       "      <td>0.0</td>\n",
       "      <td>0.0</td>\n",
       "      <td>0.0</td>\n",
       "      <td>0.0</td>\n",
       "      <td>0.0</td>\n",
       "      <td>0.0</td>\n",
       "      <td>0.0</td>\n",
       "      <td>0.0</td>\n",
       "      <td>0.0</td>\n",
       "      <td>0.0</td>\n",
       "      <td>0.0</td>\n",
       "      <td>0.0</td>\n",
       "      <td>0.0</td>\n",
       "      <td>0.0</td>\n",
       "      <td>0.0</td>\n",
       "      <td>0.0</td>\n",
       "      <td>0.0</td>\n",
       "      <td>0.0</td>\n",
       "      <td>1.0</td>\n",
       "      <td>0.0</td>\n",
       "      <td>0.0</td>\n",
       "    </tr>\n",
       "    <tr>\n",
       "      <th>4</th>\n",
       "      <td>0.630137</td>\n",
       "      <td>0.079848</td>\n",
       "      <td>0.333333</td>\n",
       "      <td>0.0</td>\n",
       "      <td>0.0</td>\n",
       "      <td>0.500000</td>\n",
       "      <td>0.0</td>\n",
       "      <td>0.0</td>\n",
       "      <td>0.0</td>\n",
       "      <td>1.0</td>\n",
       "      <td>0.0</td>\n",
       "      <td>0.0</td>\n",
       "      <td>0.0</td>\n",
       "      <td>0.0</td>\n",
       "      <td>0.0</td>\n",
       "      <td>1.0</td>\n",
       "      <td>0.0</td>\n",
       "      <td>0.0</td>\n",
       "      <td>0.0</td>\n",
       "      <td>0.0</td>\n",
       "      <td>0.0</td>\n",
       "      <td>0.0</td>\n",
       "      <td>0.0</td>\n",
       "      <td>0.0</td>\n",
       "      <td>1.0</td>\n",
       "      <td>0.0</td>\n",
       "      <td>0.0</td>\n",
       "      <td>0.0</td>\n",
       "      <td>0.0</td>\n",
       "      <td>0.0</td>\n",
       "      <td>0.0</td>\n",
       "      <td>0.0</td>\n",
       "      <td>0.0</td>\n",
       "      <td>0.0</td>\n",
       "      <td>1.0</td>\n",
       "      <td>0.0</td>\n",
       "      <td>0.0</td>\n",
       "      <td>0.0</td>\n",
       "      <td>0.0</td>\n",
       "      <td>0.0</td>\n",
       "      <td>...</td>\n",
       "      <td>0.0</td>\n",
       "      <td>0.0</td>\n",
       "      <td>0.0</td>\n",
       "      <td>0.0</td>\n",
       "      <td>0.0</td>\n",
       "      <td>0.0</td>\n",
       "      <td>0.0</td>\n",
       "      <td>0.0</td>\n",
       "      <td>0.0</td>\n",
       "      <td>0.0</td>\n",
       "      <td>0.0</td>\n",
       "      <td>0.0</td>\n",
       "      <td>0.0</td>\n",
       "      <td>0.0</td>\n",
       "      <td>0.0</td>\n",
       "      <td>0.0</td>\n",
       "      <td>0.0</td>\n",
       "      <td>0.0</td>\n",
       "      <td>0.0</td>\n",
       "      <td>0.0</td>\n",
       "      <td>0.0</td>\n",
       "      <td>0.0</td>\n",
       "      <td>0.0</td>\n",
       "      <td>0.0</td>\n",
       "      <td>0.0</td>\n",
       "      <td>0.0</td>\n",
       "      <td>0.0</td>\n",
       "      <td>0.0</td>\n",
       "      <td>0.0</td>\n",
       "      <td>0.0</td>\n",
       "      <td>0.0</td>\n",
       "      <td>0.0</td>\n",
       "      <td>0.0</td>\n",
       "      <td>0.0</td>\n",
       "      <td>0.0</td>\n",
       "      <td>0.0</td>\n",
       "      <td>0.0</td>\n",
       "      <td>1.0</td>\n",
       "      <td>0.0</td>\n",
       "      <td>0.0</td>\n",
       "    </tr>\n",
       "  </tbody>\n",
       "</table>\n",
       "<p>5 rows × 88 columns</p>\n",
       "</div>"
      ],
      "text/plain": [
       "         0         1         2    3    4   ...   83   84   85   86   87\n",
       "0  0.054795  0.085290  0.600000  0.0  0.0  ...  0.0  0.0  1.0  0.0  0.0\n",
       "1  0.369863  0.165438  0.600000  0.0  0.0  ...  0.0  0.0  1.0  0.0  0.0\n",
       "2  0.191781  0.097129  0.266667  0.0  0.0  ...  0.0  0.0  1.0  0.0  0.0\n",
       "3  0.575342  0.093962  0.600000  0.0  0.0  ...  0.0  0.0  1.0  0.0  0.0\n",
       "4  0.630137  0.079848  0.333333  0.0  0.0  ...  0.0  0.0  1.0  0.0  0.0\n",
       "\n",
       "[5 rows x 88 columns]"
      ]
     },
     "execution_count": 81,
     "metadata": {},
     "output_type": "execute_result"
    }
   ],
   "source": [
    "pd.DataFrame(X_train).head()"
   ]
  },
  {
   "cell_type": "markdown",
   "id": "planned-parish",
   "metadata": {
    "id": "planned-parish"
   },
   "source": [
    "Uma vez chamado o método `fit()` (no caso aqui foi chamado o método `fit()` e o `transform()` juntos -> `fit_transform()`) para o conjunto de dados, os parâmetros necessários para realizar a transformação dos dados já foi calculado com base no conjunto de treinamento. Desse modo, para realizar a transformação do conjunto de validação e teste devemos somente utilizar o método `transform()`."
   ]
  },
  {
   "cell_type": "code",
   "execution_count": 79,
   "id": "fundamental-latter",
   "metadata": {
    "ExecuteTime": {
     "end_time": "2021-11-05T12:12:02.400476Z",
     "start_time": "2021-11-05T12:12:02.348730Z"
    },
    "executionInfo": {
     "elapsed": 428,
     "status": "ok",
     "timestamp": 1636127627688,
     "user": {
      "displayName": "Sergio Baldo Junior",
      "photoUrl": "https://lh3.googleusercontent.com/a-/AOh14Gi2otI0IZRjpoY3uoM55ZI_QS5wC4KGsRtL_Nle1A=s64",
      "userId": "10630088078956449092"
     },
     "user_tz": 180
    },
    "id": "fundamental-latter"
   },
   "outputs": [],
   "source": [
    "X_valid = full_pipeline.transform(df_valid).toarray()\n",
    "X_test = full_pipeline.transform(df_test).toarray()"
   ]
  },
  {
   "cell_type": "code",
   "execution_count": 82,
   "id": "interested-indie",
   "metadata": {
    "ExecuteTime": {
     "end_time": "2021-11-05T12:12:02.610942Z",
     "start_time": "2021-11-05T12:12:02.599724Z"
    },
    "executionInfo": {
     "elapsed": 309,
     "status": "ok",
     "timestamp": 1636127677060,
     "user": {
      "displayName": "Sergio Baldo Junior",
      "photoUrl": "https://lh3.googleusercontent.com/a-/AOh14Gi2otI0IZRjpoY3uoM55ZI_QS5wC4KGsRtL_Nle1A=s64",
      "userId": "10630088078956449092"
     },
     "user_tz": 180
    },
    "id": "interested-indie"
   },
   "outputs": [],
   "source": [
    "# Realizando a transformação da classe \n",
    "label_encoder = LabelEncoder()\n",
    "y_train = label_encoder.fit_transform(y_train)\n",
    "y_valid = label_encoder.transform(y_valid)\n",
    "y_test = label_encoder.transform(y_test)"
   ]
  },
  {
   "cell_type": "markdown",
   "id": "knowing-reasoning",
   "metadata": {
    "id": "knowing-reasoning"
   },
   "source": [
    "## Treinamento do modelo"
   ]
  },
  {
   "cell_type": "markdown",
   "id": "anonymous-polyester",
   "metadata": {
    "id": "anonymous-polyester"
   },
   "source": [
    "Inicialmente devemos chamar objeto referente ao modelo de Machine Learning que queremos utilizar. Iremos utilizar uma Rede Neural Artificial do tipo Multilayer Perceptron. Dentro desse objeto existe vários parâmetros referente a arquitetura do modelo. Todos os parâmetros pode ser visto na [documentação oficial](https://scikit-learn.org/stable/modules/generated/sklearn.neural_network.MLPClassifier.html)."
   ]
  },
  {
   "cell_type": "code",
   "execution_count": 83,
   "id": "assured-folder",
   "metadata": {
    "ExecuteTime": {
     "end_time": "2021-11-05T12:12:38.331383Z",
     "start_time": "2021-11-05T12:12:04.558969Z"
    },
    "colab": {
     "base_uri": "https://localhost:8080/"
    },
    "executionInfo": {
     "elapsed": 28856,
     "status": "ok",
     "timestamp": 1636127798850,
     "user": {
      "displayName": "Sergio Baldo Junior",
      "photoUrl": "https://lh3.googleusercontent.com/a-/AOh14Gi2otI0IZRjpoY3uoM55ZI_QS5wC4KGsRtL_Nle1A=s64",
      "userId": "10630088078956449092"
     },
     "user_tz": 180
    },
    "id": "assured-folder",
    "outputId": "c327eb90-ea40-4fae-9080-582a732a2f4e"
   },
   "outputs": [
    {
     "name": "stdout",
     "output_type": "stream",
     "text": [
      "Iteration 1, loss = 0.45916538\n",
      "Iteration 2, loss = 0.37735748\n",
      "Iteration 3, loss = 0.36343578\n",
      "Iteration 4, loss = 0.35445564\n",
      "Iteration 5, loss = 0.34682284\n",
      "Iteration 6, loss = 0.34156302\n",
      "Iteration 7, loss = 0.33689197\n",
      "Iteration 8, loss = 0.33345633\n",
      "Iteration 9, loss = 0.32986954\n",
      "Iteration 10, loss = 0.32735819\n",
      "Iteration 11, loss = 0.32613152\n",
      "Iteration 12, loss = 0.32317029\n",
      "Iteration 13, loss = 0.32206428\n",
      "Iteration 14, loss = 0.32139889\n",
      "Iteration 15, loss = 0.31908299\n",
      "Iteration 16, loss = 0.31830353\n",
      "Iteration 17, loss = 0.31699431\n",
      "Iteration 18, loss = 0.31566626\n",
      "Iteration 19, loss = 0.31502070\n",
      "Iteration 20, loss = 0.31436067\n",
      "Iteration 21, loss = 0.31328990\n",
      "Iteration 22, loss = 0.31209167\n",
      "Iteration 23, loss = 0.31266699\n",
      "Iteration 24, loss = 0.31300137\n",
      "Iteration 25, loss = 0.31057379\n",
      "Iteration 26, loss = 0.31038346\n",
      "Iteration 27, loss = 0.30882525\n",
      "Iteration 28, loss = 0.30852689\n",
      "Iteration 29, loss = 0.30930031\n",
      "Iteration 30, loss = 0.30813486\n",
      "Iteration 31, loss = 0.30668600\n",
      "Iteration 32, loss = 0.30626307\n",
      "Iteration 33, loss = 0.30539943\n",
      "Iteration 34, loss = 0.30434357\n",
      "Iteration 35, loss = 0.30428885\n",
      "Iteration 36, loss = 0.30494028\n",
      "Iteration 37, loss = 0.30333431\n",
      "Iteration 38, loss = 0.30336902\n",
      "Iteration 39, loss = 0.30256115\n",
      "Iteration 40, loss = 0.30216647\n",
      "Iteration 41, loss = 0.30122866\n",
      "Iteration 42, loss = 0.30038902\n",
      "Iteration 43, loss = 0.30007920\n",
      "Iteration 44, loss = 0.29991442\n",
      "Iteration 45, loss = 0.29925791\n",
      "Iteration 46, loss = 0.29917171\n",
      "Iteration 47, loss = 0.29826833\n",
      "Iteration 48, loss = 0.29777398\n",
      "Iteration 49, loss = 0.29703878\n",
      "Iteration 50, loss = 0.29731691\n",
      "Iteration 51, loss = 0.29721285\n",
      "Iteration 52, loss = 0.29624768\n",
      "Iteration 53, loss = 0.29519363\n",
      "Iteration 54, loss = 0.29504096\n",
      "Iteration 55, loss = 0.29485863\n",
      "Iteration 56, loss = 0.29459450\n",
      "Iteration 57, loss = 0.29395306\n",
      "Iteration 58, loss = 0.29333012\n",
      "Iteration 59, loss = 0.29467950\n",
      "Iteration 60, loss = 0.29329086\n",
      "Iteration 61, loss = 0.29548383\n",
      "Iteration 62, loss = 0.29223854\n",
      "Iteration 63, loss = 0.29182187\n",
      "Iteration 64, loss = 0.29171144\n",
      "Iteration 65, loss = 0.29135107\n",
      "Iteration 66, loss = 0.29176584\n",
      "Iteration 67, loss = 0.29041843\n",
      "Iteration 68, loss = 0.29126679\n",
      "Iteration 69, loss = 0.28980760\n",
      "Iteration 70, loss = 0.29020249\n",
      "Iteration 71, loss = 0.28885598\n",
      "Iteration 72, loss = 0.28850445\n",
      "Iteration 73, loss = 0.28864633\n",
      "Iteration 74, loss = 0.28812392\n",
      "Iteration 75, loss = 0.28796922\n",
      "Iteration 76, loss = 0.28842214\n",
      "Iteration 77, loss = 0.28794550\n",
      "Iteration 78, loss = 0.28729404\n",
      "Iteration 79, loss = 0.28652323\n",
      "Iteration 80, loss = 0.28669083\n",
      "Iteration 81, loss = 0.28630866\n",
      "Iteration 82, loss = 0.28675303\n",
      "Iteration 83, loss = 0.28598494\n",
      "Iteration 84, loss = 0.28532195\n",
      "Iteration 85, loss = 0.28556158\n",
      "Iteration 86, loss = 0.28458285\n",
      "Iteration 87, loss = 0.28501877\n",
      "Iteration 88, loss = 0.28561577\n",
      "Iteration 89, loss = 0.28419543\n",
      "Iteration 90, loss = 0.28426307\n",
      "Iteration 91, loss = 0.28323026\n",
      "Iteration 92, loss = 0.28407914\n",
      "Iteration 93, loss = 0.28310913\n",
      "Iteration 94, loss = 0.28281316\n",
      "Iteration 95, loss = 0.28362470\n",
      "Iteration 96, loss = 0.28295262\n",
      "Iteration 97, loss = 0.28378262\n",
      "Iteration 98, loss = 0.28216165\n",
      "Iteration 99, loss = 0.28169578\n",
      "Iteration 100, loss = 0.28183590\n",
      "Iteration 101, loss = 0.28192662\n",
      "Iteration 102, loss = 0.28284159\n",
      "Iteration 103, loss = 0.28160175\n",
      "Iteration 104, loss = 0.28172226\n",
      "Iteration 105, loss = 0.28054593\n",
      "Iteration 106, loss = 0.28036255\n",
      "Iteration 107, loss = 0.28056737\n",
      "Iteration 108, loss = 0.28033595\n",
      "Iteration 109, loss = 0.28036305\n",
      "Iteration 110, loss = 0.27998503\n",
      "Iteration 111, loss = 0.28045905\n",
      "Iteration 112, loss = 0.28013446\n",
      "Iteration 113, loss = 0.28096681\n",
      "Iteration 114, loss = 0.27971523\n",
      "Iteration 115, loss = 0.27956529\n",
      "Iteration 116, loss = 0.27867870\n",
      "Iteration 117, loss = 0.27819466\n",
      "Iteration 118, loss = 0.27905479\n",
      "Iteration 119, loss = 0.27788356\n",
      "Iteration 120, loss = 0.27904272\n",
      "Iteration 121, loss = 0.27809344\n",
      "Iteration 122, loss = 0.27770211\n",
      "Iteration 123, loss = 0.27713835\n",
      "Iteration 124, loss = 0.27780953\n",
      "Iteration 125, loss = 0.27768407\n",
      "Iteration 126, loss = 0.27715961\n",
      "Iteration 127, loss = 0.27650871\n",
      "Iteration 128, loss = 0.27679341\n",
      "Iteration 129, loss = 0.27662677\n",
      "Iteration 130, loss = 0.27633980\n",
      "Iteration 131, loss = 0.27585037\n",
      "Iteration 132, loss = 0.27670148\n",
      "Iteration 133, loss = 0.27550213\n",
      "Iteration 134, loss = 0.27662977\n",
      "Iteration 135, loss = 0.27657757\n",
      "Iteration 136, loss = 0.27571292\n",
      "Iteration 137, loss = 0.27593969\n",
      "Iteration 138, loss = 0.27523777\n",
      "Iteration 139, loss = 0.27447061\n",
      "Iteration 140, loss = 0.27533517\n",
      "Iteration 141, loss = 0.27528633\n",
      "Iteration 142, loss = 0.27438594\n",
      "Iteration 143, loss = 0.27434674\n",
      "Iteration 144, loss = 0.27385652\n",
      "Iteration 145, loss = 0.27456084\n",
      "Iteration 146, loss = 0.27476396\n",
      "Iteration 147, loss = 0.27324697\n",
      "Iteration 148, loss = 0.27447065\n",
      "Iteration 149, loss = 0.27443302\n",
      "Iteration 150, loss = 0.27303298\n",
      "Iteration 151, loss = 0.27384280\n",
      "Iteration 152, loss = 0.27349801\n",
      "Iteration 153, loss = 0.27367092\n",
      "Iteration 154, loss = 0.27326098\n",
      "Iteration 155, loss = 0.27224714\n",
      "Iteration 156, loss = 0.27263005\n",
      "Iteration 157, loss = 0.27341632\n",
      "Iteration 158, loss = 0.27384194\n",
      "Iteration 159, loss = 0.27275630\n",
      "Iteration 160, loss = 0.27185729\n",
      "Iteration 161, loss = 0.27104570\n",
      "Iteration 162, loss = 0.27226970\n",
      "Iteration 163, loss = 0.27114669\n",
      "Iteration 164, loss = 0.27158702\n",
      "Iteration 165, loss = 0.27107286\n",
      "Iteration 166, loss = 0.27205433\n",
      "Iteration 167, loss = 0.27199753\n",
      "Iteration 168, loss = 0.27125836\n",
      "Iteration 169, loss = 0.27109338\n",
      "Iteration 170, loss = 0.27126924\n",
      "Iteration 171, loss = 0.27099892\n",
      "Iteration 172, loss = 0.27097892\n",
      "Training loss did not improve more than tol=0.000100 for 10 consecutive epochs. Stopping.\n"
     ]
    },
    {
     "data": {
      "text/plain": [
       "MLPClassifier(activation='relu', alpha=0.0001, batch_size='auto', beta_1=0.9,\n",
       "              beta_2=0.999, early_stopping=False, epsilon=1e-08,\n",
       "              hidden_layer_sizes=106, learning_rate='constant',\n",
       "              learning_rate_init=0.001, max_fun=15000, max_iter=1000,\n",
       "              momentum=0.9, n_iter_no_change=10, nesterovs_momentum=True,\n",
       "              power_t=0.5, random_state=None, shuffle=True, solver='adam',\n",
       "              tol=0.0001, validation_fraction=0.1, verbose=True,\n",
       "              warm_start=False)"
      ]
     },
     "execution_count": 83,
     "metadata": {},
     "output_type": "execute_result"
    }
   ],
   "source": [
    "# Biblioteca necessária para fazer o classificador: \n",
    "# sklearn -> from sklearn.neural_network import MLPClassifier\n",
    "\n",
    "# Instância o modelo \n",
    "clf =  MLPClassifier(verbose=True, max_iter=1000, solver='adam', hidden_layer_sizes= 106, \n",
    "                     activation='relu')\n",
    "\n",
    "# Realiza o treinamento do modelo\n",
    "clf.fit(X_train, y_train)"
   ]
  },
  {
   "cell_type": "markdown",
   "id": "academic-vehicle",
   "metadata": {
    "id": "academic-vehicle"
   },
   "source": [
    "### Avaliando o modelo com conjunto de validação"
   ]
  },
  {
   "cell_type": "markdown",
   "id": "turned-minority",
   "metadata": {
    "id": "turned-minority"
   },
   "source": [
    "A biblioteca Scikit-Learn oferece várias funções para avaliar os modelos de machine learning. Essas funções podem ser chamadas pelo subpacote sklearn.metrics. Todos as funções pertencentes ao subpacote `sklearn.metrics` pode ser visto neste [link](https://scikit-learn.org/stable/modules/model_evaluation.html)."
   ]
  },
  {
   "cell_type": "code",
   "execution_count": 84,
   "id": "european-attachment",
   "metadata": {
    "ExecuteTime": {
     "end_time": "2021-11-05T12:12:38.350422Z",
     "start_time": "2021-11-05T12:12:38.339248Z"
    },
    "executionInfo": {
     "elapsed": 339,
     "status": "ok",
     "timestamp": 1636127914375,
     "user": {
      "displayName": "Sergio Baldo Junior",
      "photoUrl": "https://lh3.googleusercontent.com/a-/AOh14Gi2otI0IZRjpoY3uoM55ZI_QS5wC4KGsRtL_Nle1A=s64",
      "userId": "10630088078956449092"
     },
     "user_tz": 180
    },
    "id": "european-attachment"
   },
   "outputs": [],
   "source": [
    "def evaluate_model(y_true, y_predict):\n",
    "    from sklearn import metrics\n",
    "    \n",
    "    acc = metrics.accuracy_score(y_true, y_predict)\n",
    "    precision = metrics.precision_score(y_true, y_predict)\n",
    "    recall = metrics.recall_score(y_true, y_predict)\n",
    "    f1 = metrics.f1_score(y_true, y_predict)\n",
    "    conf_matrix = metrics.confusion_matrix(y_true, y_predict)\n",
    "    \n",
    "\n",
    "    \n",
    "    print('Acurácia: {:.2f}'.format(acc))\n",
    "    print('Precisão: {:.2f}'.format(precision))\n",
    "    print('Recall: {:.2f}'.format(recall))\n",
    "    print('F1_score: {:.2f}'.format(f1))\n",
    "    print('\\nMatriz de Confusão: \\n', conf_matrix)"
   ]
  },
  {
   "cell_type": "code",
   "execution_count": 34,
   "id": "muslim-oakland",
   "metadata": {
    "ExecuteTime": {
     "end_time": "2021-11-05T12:12:38.388539Z",
     "start_time": "2021-11-05T12:12:38.354063Z"
    },
    "colab": {
     "base_uri": "https://localhost:8080/"
    },
    "executionInfo": {
     "elapsed": 5,
     "status": "ok",
     "timestamp": 1636119073733,
     "user": {
      "displayName": "Sergio Baldo Junior",
      "photoUrl": "https://lh3.googleusercontent.com/a-/AOh14Gi2otI0IZRjpoY3uoM55ZI_QS5wC4KGsRtL_Nle1A=s64",
      "userId": "10630088078956449092"
     },
     "user_tz": 180
    },
    "id": "muslim-oakland",
    "outputId": "e9209b61-8ed6-484b-87cb-75bc3cc34065"
   },
   "outputs": [
    {
     "name": "stdout",
     "output_type": "stream",
     "text": [
      "Acurácia: 0.86\n",
      "Precisão: 0.74\n",
      "Recall: 0.65\n",
      "F1_score: 0.69\n",
      "\n",
      "Matriz de Confusão: \n",
      " [[3347  278]\n",
      " [ 419  782]]\n"
     ]
    }
   ],
   "source": [
    "# Avaliando o modelo com conjunto de validação\n",
    "# Chamamos a função predict() passando o conjunto de validação e ela irá retornar a previsão para cada dado\n",
    "y_pred_valid = clf.predict(X_valid)\n",
    "\n",
    "evaluate_model(y_valid, y_pred_valid)"
   ]
  },
  {
   "cell_type": "markdown",
   "id": "searching-algeria",
   "metadata": {
    "id": "searching-algeria"
   },
   "source": [
    "Podemos criar uma matriz de confusão mais visual utilizando as bibliotecas seaborn e matplotlib."
   ]
  },
  {
   "cell_type": "code",
   "execution_count": 35,
   "id": "expanded-traveler",
   "metadata": {
    "ExecuteTime": {
     "end_time": "2021-11-05T12:12:38.633398Z",
     "start_time": "2021-11-05T12:12:38.392945Z"
    },
    "colab": {
     "base_uri": "https://localhost:8080/",
     "height": 319
    },
    "executionInfo": {
     "elapsed": 366,
     "status": "ok",
     "timestamp": 1636119076703,
     "user": {
      "displayName": "Sergio Baldo Junior",
      "photoUrl": "https://lh3.googleusercontent.com/a-/AOh14Gi2otI0IZRjpoY3uoM55ZI_QS5wC4KGsRtL_Nle1A=s64",
      "userId": "10630088078956449092"
     },
     "user_tz": 180
    },
    "id": "expanded-traveler",
    "outputId": "30a8d864-9b1e-4d6e-f9ab-1ae2d2d96425"
   },
   "outputs": [
    {
     "data": {
      "text/plain": [
       "Text(30.0, 0.5, 'True')"
      ]
     },
     "execution_count": 35,
     "metadata": {},
     "output_type": "execute_result"
    },
    {
     "data": {
      "image/png": "[encoded data removed]",
      "text/plain": [
       "<Figure size 432x288 with 2 Axes>"
      ]
     },
     "metadata": {
      "needs_background": "light"
     },
     "output_type": "display_data"
    }
   ],
   "source": [
    "# Matriz de Confusão\n",
    "labels = ['<=50K', '>50K']\n",
    "conf_matrix = confusion_matrix(y_valid, y_pred_valid)\n",
    "plt.title(\"Confusion Matrix\")\n",
    "df_cm = pd.DataFrame(conf_matrix, range(2), range(2))\n",
    "ax = sns.heatmap(df_cm, annot=True,fmt='g',cmap ='Blues')# font size\n",
    "ax.set_xticklabels(labels)\n",
    "ax.set_yticklabels(labels)\n",
    "plt.xlabel('Predicted')\n",
    "plt.ylabel('True')"
   ]
  },
  {
   "cell_type": "markdown",
   "id": "terminal-creek",
   "metadata": {
    "id": "terminal-creek"
   },
   "source": [
    "Podemos obter uma avaliação mais detalhada do modelo utilizando a função `classification_report` presente no subpacote `sklearn.metrics`."
   ]
  },
  {
   "cell_type": "code",
   "execution_count": 36,
   "id": "graduate-integrity",
   "metadata": {
    "ExecuteTime": {
     "end_time": "2021-11-05T12:12:38.649392Z",
     "start_time": "2021-11-05T12:12:38.636506Z"
    },
    "colab": {
     "base_uri": "https://localhost:8080/"
    },
    "executionInfo": {
     "elapsed": 3,
     "status": "ok",
     "timestamp": 1636119078224,
     "user": {
      "displayName": "Sergio Baldo Junior",
      "photoUrl": "https://lh3.googleusercontent.com/a-/AOh14Gi2otI0IZRjpoY3uoM55ZI_QS5wC4KGsRtL_Nle1A=s64",
      "userId": "10630088078956449092"
     },
     "user_tz": 180
    },
    "id": "graduate-integrity",
    "outputId": "a6855095-01f6-4e89-868b-0d2a0e900192"
   },
   "outputs": [
    {
     "name": "stdout",
     "output_type": "stream",
     "text": [
      "              precision    recall  f1-score   support\n",
      "\n",
      "       <=50K       0.89      0.92      0.91      3625\n",
      "        >50K       0.74      0.65      0.69      1201\n",
      "\n",
      "    accuracy                           0.86      4826\n",
      "   macro avg       0.81      0.79      0.80      4826\n",
      "weighted avg       0.85      0.86      0.85      4826\n",
      "\n"
     ]
    }
   ],
   "source": [
    "from sklearn.metrics import  classification_report\n",
    "print(classification_report(y_valid, y_pred_valid, target_names=labels))"
   ]
  },
  {
   "cell_type": "markdown",
   "id": "aware-swiss",
   "metadata": {
    "id": "aware-swiss"
   },
   "source": [
    "### Encontrar melhores hiperparâmetros do modelo"
   ]
  },
  {
   "cell_type": "markdown",
   "id": "olympic-input",
   "metadata": {
    "id": "olympic-input"
   },
   "source": [
    "Todos os modelo de Machine Learning possuem parâmetros que devem ser definidos durante a criação do modelo. Porém, determinar quais são os melhores parâmetros não é uma tarefa trivial. A biblioteca Scikit-Learn oferece dois métodos de realizar uma busca automática pelos melhores parâmetros de um modelo. Os dois métodos mais comuns são o `GridSearchCV()` e o `RandomizedSearchCV()`. A ideia de ambos é parecida: buscar o melhor conjunto de parâmetros para um modelo de Machine Learning utilizando cross-validation. O `GridSearchCV()` faz um busca exaustiva de acordo com uma lista de parâmetros especificados e o `RandomizedSearchCV()` faz a mesma busca mas amostrando os valores dos parâmetros através de uma distribuição informada.\n",
    "\n",
    "Aqui iremos ultilizar o `GridSearchCV()` e informar o conjunto de parâmetros que deve ser testado. "
   ]
  },
  {
   "cell_type": "code",
   "execution_count": 37,
   "id": "actual-development",
   "metadata": {
    "ExecuteTime": {
     "end_time": "2021-11-05T11:48:04.100701Z",
     "start_time": "2021-11-05T11:48:04.094983Z"
    },
    "executionInfo": {
     "elapsed": 3,
     "status": "ok",
     "timestamp": 1636119082537,
     "user": {
      "displayName": "Sergio Baldo Junior",
      "photoUrl": "https://lh3.googleusercontent.com/a-/AOh14Gi2otI0IZRjpoY3uoM55ZI_QS5wC4KGsRtL_Nle1A=s64",
      "userId": "10630088078956449092"
     },
     "user_tz": 180
    },
    "id": "actual-development"
   },
   "outputs": [],
   "source": [
    "from sklearn.model_selection import GridSearchCV\n",
    "\n",
    "# Vamos passar como parâmetros para serem testados os seguintes:\n",
    "# -> o número de neurônios na camada oculta (hidden_layer_sizes)\n",
    "# -> o método para a otimização dos pesos (solver)\n",
    "# -> o tipo de função de ativação na camada oculta (activation)\n",
    "param_grid = [{'hidden_layer_sizes': [2, 54, 106, 209], 'solver': ['adam', 'sgd'], \n",
    "               'activation': ['logistic', 'tanh', 'relu']}]\n",
    "\n",
    "mlp = MLPClassifier()"
   ]
  },
  {
   "cell_type": "markdown",
   "id": "steady-player",
   "metadata": {
    "id": "steady-player"
   },
   "source": [
    "Depois devemos instânciar o objeto `GridSearchCV` definindo qual valor de `cv: cross-validation` será utilizado, e qual `scoring` (métrica) será utilizado para definir os melhores parâmetros, aqui iremos utilizar `accuracy` visto que os dados estão desbalanceados."
   ]
  },
  {
   "cell_type": "code",
   "execution_count": 38,
   "id": "prescription-chosen",
   "metadata": {
    "ExecuteTime": {
     "end_time": "2021-11-05T11:48:05.090713Z",
     "start_time": "2021-11-05T11:48:05.086147Z"
    },
    "executionInfo": {
     "elapsed": 416,
     "status": "ok",
     "timestamp": 1636119084752,
     "user": {
      "displayName": "Sergio Baldo Junior",
      "photoUrl": "https://lh3.googleusercontent.com/a-/AOh14Gi2otI0IZRjpoY3uoM55ZI_QS5wC4KGsRtL_Nle1A=s64",
      "userId": "10630088078956449092"
     },
     "user_tz": 180
    },
    "id": "prescription-chosen"
   },
   "outputs": [],
   "source": [
    "grid_search = GridSearchCV(mlp, param_grid, cv=5, scoring='accuracy')"
   ]
  },
  {
   "cell_type": "code",
   "execution_count": 39,
   "id": "bigger-apparel",
   "metadata": {
    "ExecuteTime": {
     "start_time": "2021-11-05T11:48:05.970Z"
    },
    "colab": {
     "base_uri": "https://localhost:8080/"
    },
    "executionInfo": {
     "elapsed": 3086097,
     "status": "ok",
     "timestamp": 1636122172567,
     "user": {
      "displayName": "Sergio Baldo Junior",
      "photoUrl": "https://lh3.googleusercontent.com/a-/AOh14Gi2otI0IZRjpoY3uoM55ZI_QS5wC4KGsRtL_Nle1A=s64",
      "userId": "10630088078956449092"
     },
     "user_tz": 180
    },
    "id": "bigger-apparel",
    "outputId": "d6bf371c-0fb7-4260-e850-59a1abe82191"
   },
   "outputs": [
    {
     "data": {
      "text/plain": [
       "GridSearchCV(cv=5, error_score=nan,\n",
       "             estimator=MLPClassifier(activation='relu', alpha=0.0001,\n",
       "                                     batch_size='auto', beta_1=0.9,\n",
       "                                     beta_2=0.999, early_stopping=False,\n",
       "                                     epsilon=1e-08, hidden_layer_sizes=(100,),\n",
       "                                     learning_rate='constant',\n",
       "                                     learning_rate_init=0.001, max_fun=15000,\n",
       "                                     max_iter=200, momentum=0.9,\n",
       "                                     n_iter_no_change=10,\n",
       "                                     nesterovs_momentum=True, power_t=0.5,\n",
       "                                     random_state=None, shuffle=True,\n",
       "                                     solver='adam', tol=0.0001,\n",
       "                                     validation_fraction=0.1, verbose=False,\n",
       "                                     warm_start=False),\n",
       "             iid='deprecated', n_jobs=None,\n",
       "             param_grid=[{'activation': ['logistic', 'tanh', 'relu'],\n",
       "                          'hidden_layer_sizes': [2, 54, 106, 209],\n",
       "                          'solver': ['adam', 'sgd']}],\n",
       "             pre_dispatch='2*n_jobs', refit=True, return_train_score=True,\n",
       "             scoring='accuracy', verbose=0)"
      ]
     },
     "execution_count": 39,
     "metadata": {},
     "output_type": "execute_result"
    }
   ],
   "source": [
    "grid_search.fit(X_train, y_train)"
   ]
  },
  {
   "cell_type": "code",
   "execution_count": 40,
   "id": "vietnamese-checkout",
   "metadata": {
    "ExecuteTime": {
     "end_time": "2021-11-04T21:12:24.157268Z",
     "start_time": "2021-11-04T21:12:24.137712Z"
    },
    "colab": {
     "base_uri": "https://localhost:8080/"
    },
    "executionInfo": {
     "elapsed": 817,
     "status": "ok",
     "timestamp": 1636122291990,
     "user": {
      "displayName": "Sergio Baldo Junior",
      "photoUrl": "https://lh3.googleusercontent.com/a-/AOh14Gi2otI0IZRjpoY3uoM55ZI_QS5wC4KGsRtL_Nle1A=s64",
      "userId": "10630088078956449092"
     },
     "user_tz": 180
    },
    "id": "vietnamese-checkout",
    "outputId": "56be2444-308f-4674-d47c-402a557dffd3"
   },
   "outputs": [
    {
     "data": {
      "text/plain": [
       "MLPClassifier(activation='relu', alpha=0.0001, batch_size='auto', beta_1=0.9,\n",
       "              beta_2=0.999, early_stopping=False, epsilon=1e-08,\n",
       "              hidden_layer_sizes=2, learning_rate='constant',\n",
       "              learning_rate_init=0.001, max_fun=15000, max_iter=200,\n",
       "              momentum=0.9, n_iter_no_change=10, nesterovs_momentum=True,\n",
       "              power_t=0.5, random_state=None, shuffle=True, solver='adam',\n",
       "              tol=0.0001, validation_fraction=0.1, verbose=False,\n",
       "              warm_start=False)"
      ]
     },
     "execution_count": 40,
     "metadata": {},
     "output_type": "execute_result"
    }
   ],
   "source": [
    "# Printa os melhores parâmetros que foi achado\n",
    "grid_search.best_estimator_"
   ]
  },
  {
   "cell_type": "code",
   "execution_count": 41,
   "id": "interesting-allocation",
   "metadata": {
    "ExecuteTime": {
     "end_time": "2021-11-04T21:16:54.233121Z",
     "start_time": "2021-11-04T21:16:54.225680Z"
    },
    "colab": {
     "base_uri": "https://localhost:8080/"
    },
    "executionInfo": {
     "elapsed": 5,
     "status": "ok",
     "timestamp": 1636122296195,
     "user": {
      "displayName": "Sergio Baldo Junior",
      "photoUrl": "https://lh3.googleusercontent.com/a-/AOh14Gi2otI0IZRjpoY3uoM55ZI_QS5wC4KGsRtL_Nle1A=s64",
      "userId": "10630088078956449092"
     },
     "user_tz": 180
    },
    "id": "interesting-allocation",
    "outputId": "7e226895-44bb-477a-8eef-7223a73af1b6"
   },
   "outputs": [
    {
     "name": "stdout",
     "output_type": "stream",
     "text": [
      "Acurácia média: 0.845050102459429 {'activation': 'logistic', 'hidden_layer_sizes': 2, 'solver': 'adam'}\n",
      "Acurácia média: 0.8121014985781825 {'activation': 'logistic', 'hidden_layer_sizes': 2, 'solver': 'sgd'}\n",
      "Acurácia média: 0.84598255707064 {'activation': 'logistic', 'hidden_layer_sizes': 54, 'solver': 'adam'}\n",
      "Acurácia média: 0.8173339882148172 {'activation': 'logistic', 'hidden_layer_sizes': 54, 'solver': 'sgd'}\n",
      "Acurácia média: 0.8452573026666291 {'activation': 'logistic', 'hidden_layer_sizes': 106, 'solver': 'adam'}\n",
      "Acurácia média: 0.8182146561939309 {'activation': 'logistic', 'hidden_layer_sizes': 106, 'solver': 'sgd'}\n",
      "Acurácia média: 0.8446875691953413 {'activation': 'logistic', 'hidden_layer_sizes': 209, 'solver': 'adam'}\n",
      "Acurácia média: 0.8172819734477766 {'activation': 'logistic', 'hidden_layer_sizes': 209, 'solver': 'sgd'}\n",
      "Acurácia média: 0.8458272240137525 {'activation': 'tanh', 'hidden_layer_sizes': 2, 'solver': 'adam'}\n",
      "Acurácia média: 0.8351030968647549 {'activation': 'tanh', 'hidden_layer_sizes': 2, 'solver': 'sgd'}\n",
      "Acurácia média: 0.8446353933918701 {'activation': 'tanh', 'hidden_layer_sizes': 54, 'solver': 'adam'}\n",
      "Acurácia média: 0.8364501263464994 {'activation': 'tanh', 'hidden_layer_sizes': 54, 'solver': 'sgd'}\n",
      "Acurácia média: 0.8457751958270092 {'activation': 'tanh', 'hidden_layer_sizes': 106, 'solver': 'adam'}\n",
      "Acurácia média: 0.8380042889369314 {'activation': 'tanh', 'hidden_layer_sizes': 106, 'solver': 'sgd'}\n",
      "Acurácia média: 0.8449981145317933 {'activation': 'tanh', 'hidden_layer_sizes': 209, 'solver': 'adam'}\n",
      "Acurácia média: 0.8371235270199001 {'activation': 'tanh', 'hidden_layer_sizes': 209, 'solver': 'sgd'}\n",
      "Acurácia média: 0.8460344510603578 {'activation': 'relu', 'hidden_layer_sizes': 2, 'solver': 'adam'}\n",
      "Acurácia média: 0.8331864010102352 {'activation': 'relu', 'hidden_layer_sizes': 2, 'solver': 'sgd'}\n",
      "Acurácia média: 0.8435478204390122 {'activation': 'relu', 'hidden_layer_sizes': 54, 'solver': 'adam'}\n",
      "Acurácia média: 0.8352068311653804 {'activation': 'relu', 'hidden_layer_sizes': 54, 'solver': 'sgd'}\n",
      "Acurácia média: 0.8454125552053015 {'activation': 'relu', 'hidden_layer_sizes': 106, 'solver': 'adam'}\n",
      "Acurácia média: 0.835828431786981 {'activation': 'relu', 'hidden_layer_sizes': 106, 'solver': 'sgd'}\n",
      "Acurácia média: 0.8421485883143914 {'activation': 'relu', 'hidden_layer_sizes': 209, 'solver': 'adam'}\n",
      "Acurácia média: 0.8386259700767471 {'activation': 'relu', 'hidden_layer_sizes': 209, 'solver': 'sgd'}\n"
     ]
    }
   ],
   "source": [
    "# Printa a média das acurácias em cada validação cruzada que foi realizada para cada conjunto de parâmetros testado\n",
    "cvres = grid_search.cv_results_\n",
    "for mean_score, params in zip(cvres['mean_test_score'], cvres['params']):\n",
    "    print(f'Acurácia média: {mean_score}', params)"
   ]
  },
  {
   "cell_type": "markdown",
   "id": "varying-termination",
   "metadata": {
    "id": "varying-termination"
   },
   "source": [
    "## Teste do Modelo"
   ]
  },
  {
   "cell_type": "markdown",
   "id": "equipped-warner",
   "metadata": {
    "id": "equipped-warner"
   },
   "source": [
    "Após encontrar os melhores parâmetros para o modelo podemos testar o modelo com o conjunto de teste."
   ]
  },
  {
   "cell_type": "code",
   "execution_count": 85,
   "id": "healthy-induction",
   "metadata": {
    "ExecuteTime": {
     "end_time": "2021-11-05T12:12:38.681935Z",
     "start_time": "2021-11-05T12:12:38.651804Z"
    },
    "colab": {
     "base_uri": "https://localhost:8080/"
    },
    "executionInfo": {
     "elapsed": 357,
     "status": "ok",
     "timestamp": 1636128436914,
     "user": {
      "displayName": "Sergio Baldo Junior",
      "photoUrl": "https://lh3.googleusercontent.com/a-/AOh14Gi2otI0IZRjpoY3uoM55ZI_QS5wC4KGsRtL_Nle1A=s64",
      "userId": "10630088078956449092"
     },
     "user_tz": 180
    },
    "id": "healthy-induction",
    "outputId": "9051dfbf-57e5-4773-d832-7d45cf93e758"
   },
   "outputs": [
    {
     "name": "stdout",
     "output_type": "stream",
     "text": [
      "Acurácia: 0.84\n",
      "Precisão: 0.70\n",
      "Recall: 0.65\n",
      "F1_score: 0.67\n",
      "\n",
      "Matriz de Confusão: \n",
      " [[4107  424]\n",
      " [ 524  978]]\n"
     ]
    }
   ],
   "source": [
    "# Avaliando o modelo para o conjunto de teste\n",
    "y_pred_test = clf.predict(X_test)\n",
    "\n",
    "evaluate_model(y_test, y_pred_test)"
   ]
  },
  {
   "cell_type": "code",
   "execution_count": 86,
   "id": "exposed-delicious",
   "metadata": {
    "ExecuteTime": {
     "end_time": "2021-11-05T12:12:38.990813Z",
     "start_time": "2021-11-05T12:12:38.686026Z"
    },
    "colab": {
     "base_uri": "https://localhost:8080/",
     "height": 319
    },
    "executionInfo": {
     "elapsed": 941,
     "status": "ok",
     "timestamp": 1636128443219,
     "user": {
      "displayName": "Sergio Baldo Junior",
      "photoUrl": "https://lh3.googleusercontent.com/a-/AOh14Gi2otI0IZRjpoY3uoM55ZI_QS5wC4KGsRtL_Nle1A=s64",
      "userId": "10630088078956449092"
     },
     "user_tz": 180
    },
    "id": "exposed-delicious",
    "outputId": "0aa64043-a66e-4e27-c757-13733eb2b505"
   },
   "outputs": [
    {
     "data": {
      "text/plain": [
       "Text(30.0, 0.5, 'True')"
      ]
     },
     "execution_count": 86,
     "metadata": {},
     "output_type": "execute_result"
    },
    {
     "data": {
      "image/png": "[encoded data removed]",
      "text/plain": [
       "<Figure size 432x288 with 2 Axes>"
      ]
     },
     "metadata": {
      "needs_background": "light"
     },
     "output_type": "display_data"
    }
   ],
   "source": [
    "# Matriz de Confusão\n",
    "labels = ['<=50K', '>50K']\n",
    "conf_matrix = confusion_matrix(y_test, y_pred_test)\n",
    "plt.title(\"Confusion Matrix\")\n",
    "df_cm = pd.DataFrame(conf_matrix, range(2), range(2))\n",
    "ax = sns.heatmap(df_cm, annot=True,fmt='g',cmap ='Blues')# font size\n",
    "ax.set_xticklabels(labels)\n",
    "ax.set_yticklabels(labels)\n",
    "plt.xlabel('Predicted')\n",
    "plt.ylabel('True')"
   ]
  },
  {
   "cell_type": "code",
   "execution_count": 87,
   "id": "removable-yukon",
   "metadata": {
    "ExecuteTime": {
     "end_time": "2021-11-05T12:12:39.019020Z",
     "start_time": "2021-11-05T12:12:38.996741Z"
    },
    "colab": {
     "base_uri": "https://localhost:8080/"
    },
    "executionInfo": {
     "elapsed": 421,
     "status": "ok",
     "timestamp": 1636128445427,
     "user": {
      "displayName": "Sergio Baldo Junior",
      "photoUrl": "https://lh3.googleusercontent.com/a-/AOh14Gi2otI0IZRjpoY3uoM55ZI_QS5wC4KGsRtL_Nle1A=s64",
      "userId": "10630088078956449092"
     },
     "user_tz": 180
    },
    "id": "removable-yukon",
    "outputId": "2fd6471f-e2ce-4df8-d741-825d38a1f06f"
   },
   "outputs": [
    {
     "name": "stdout",
     "output_type": "stream",
     "text": [
      "              precision    recall  f1-score   support\n",
      "\n",
      "       <=50K       0.89      0.91      0.90      4531\n",
      "        >50K       0.70      0.65      0.67      1502\n",
      "\n",
      "    accuracy                           0.84      6033\n",
      "   macro avg       0.79      0.78      0.79      6033\n",
      "weighted avg       0.84      0.84      0.84      6033\n",
      "\n"
     ]
    }
   ],
   "source": [
    "from sklearn.metrics import  classification_report\n",
    "print(classification_report(y_test, y_pred_test, target_names=labels))"
   ]
  },
  {
   "cell_type": "markdown",
   "id": "floppy-soundtrack",
   "metadata": {
    "id": "floppy-soundtrack"
   },
   "source": [
    "## Validação Cruzada "
   ]
  },
  {
   "cell_type": "markdown",
   "id": "apparent-gather",
   "metadata": {
    "id": "apparent-gather"
   },
   "source": [
    "Existe várias formas de realizar a validação cruzada utilizando a biblioteca Scikit-Learn. Todas elas podem ser vistas [aqui](https://scikit-learn.org/stable/modules/cross_validation.html).\n",
    "\n",
    "A maneira mais simples de usar a validação cruzada é chamar a função auxiliar `cross_val_score` para o estimador e no conjunto de dados."
   ]
  },
  {
   "cell_type": "markdown",
   "id": "talented-garden",
   "metadata": {
    "id": "talented-garden"
   },
   "source": [
    "### Usando `cross_val_score`."
   ]
  },
  {
   "cell_type": "code",
   "execution_count": 45,
   "id": "through-helen",
   "metadata": {
    "ExecuteTime": {
     "end_time": "2021-11-05T12:12:39.041564Z",
     "start_time": "2021-11-05T12:12:39.021030Z"
    },
    "colab": {
     "base_uri": "https://localhost:8080/",
     "height": 204
    },
    "executionInfo": {
     "elapsed": 946,
     "status": "ok",
     "timestamp": 1636122330956,
     "user": {
      "displayName": "Sergio Baldo Junior",
      "photoUrl": "https://lh3.googleusercontent.com/a-/AOh14Gi2otI0IZRjpoY3uoM55ZI_QS5wC4KGsRtL_Nle1A=s64",
      "userId": "10630088078956449092"
     },
     "user_tz": 180
    },
    "id": "through-helen",
    "outputId": "d9bdab7f-8d67-4d57-90aa-fc962aa46e2d"
   },
   "outputs": [
    {
     "data": {
      "text/html": [
       "<div>\n",
       "<style scoped>\n",
       "    .dataframe tbody tr th:only-of-type {\n",
       "        vertical-align: middle;\n",
       "    }\n",
       "\n",
       "    .dataframe tbody tr th {\n",
       "        vertical-align: top;\n",
       "    }\n",
       "\n",
       "    .dataframe thead th {\n",
       "        text-align: right;\n",
       "    }\n",
       "</style>\n",
       "<table border=\"1\" class=\"dataframe\">\n",
       "  <thead>\n",
       "    <tr style=\"text-align: right;\">\n",
       "      <th></th>\n",
       "      <th>age</th>\n",
       "      <th>workclass</th>\n",
       "      <th>final-weight</th>\n",
       "      <th>education-num</th>\n",
       "      <th>marital-status</th>\n",
       "      <th>occupation</th>\n",
       "      <th>relationship</th>\n",
       "      <th>race</th>\n",
       "      <th>sex</th>\n",
       "      <th>capital-gain</th>\n",
       "      <th>capital-loos</th>\n",
       "      <th>hour-per-week</th>\n",
       "      <th>native-country</th>\n",
       "      <th>income</th>\n",
       "    </tr>\n",
       "  </thead>\n",
       "  <tbody>\n",
       "    <tr>\n",
       "      <th>0</th>\n",
       "      <td>39</td>\n",
       "      <td>State-gov</td>\n",
       "      <td>77516</td>\n",
       "      <td>13</td>\n",
       "      <td>Never-married</td>\n",
       "      <td>Adm-clerical</td>\n",
       "      <td>Not-in-family</td>\n",
       "      <td>White</td>\n",
       "      <td>Male</td>\n",
       "      <td>2174</td>\n",
       "      <td>0</td>\n",
       "      <td>40</td>\n",
       "      <td>United-States</td>\n",
       "      <td>&lt;=50K</td>\n",
       "    </tr>\n",
       "    <tr>\n",
       "      <th>1</th>\n",
       "      <td>50</td>\n",
       "      <td>Self-emp-not-inc</td>\n",
       "      <td>83311</td>\n",
       "      <td>13</td>\n",
       "      <td>Married-civ-spouse</td>\n",
       "      <td>Exec-managerial</td>\n",
       "      <td>Husband</td>\n",
       "      <td>White</td>\n",
       "      <td>Male</td>\n",
       "      <td>0</td>\n",
       "      <td>0</td>\n",
       "      <td>13</td>\n",
       "      <td>United-States</td>\n",
       "      <td>&lt;=50K</td>\n",
       "    </tr>\n",
       "    <tr>\n",
       "      <th>2</th>\n",
       "      <td>38</td>\n",
       "      <td>Private</td>\n",
       "      <td>215646</td>\n",
       "      <td>9</td>\n",
       "      <td>Divorced</td>\n",
       "      <td>Handlers-cleaners</td>\n",
       "      <td>Not-in-family</td>\n",
       "      <td>White</td>\n",
       "      <td>Male</td>\n",
       "      <td>0</td>\n",
       "      <td>0</td>\n",
       "      <td>40</td>\n",
       "      <td>United-States</td>\n",
       "      <td>&lt;=50K</td>\n",
       "    </tr>\n",
       "    <tr>\n",
       "      <th>3</th>\n",
       "      <td>53</td>\n",
       "      <td>Private</td>\n",
       "      <td>234721</td>\n",
       "      <td>7</td>\n",
       "      <td>Married-civ-spouse</td>\n",
       "      <td>Handlers-cleaners</td>\n",
       "      <td>Husband</td>\n",
       "      <td>Black</td>\n",
       "      <td>Male</td>\n",
       "      <td>0</td>\n",
       "      <td>0</td>\n",
       "      <td>40</td>\n",
       "      <td>United-States</td>\n",
       "      <td>&lt;=50K</td>\n",
       "    </tr>\n",
       "    <tr>\n",
       "      <th>4</th>\n",
       "      <td>28</td>\n",
       "      <td>Private</td>\n",
       "      <td>338409</td>\n",
       "      <td>13</td>\n",
       "      <td>Married-civ-spouse</td>\n",
       "      <td>Prof-specialty</td>\n",
       "      <td>Wife</td>\n",
       "      <td>Black</td>\n",
       "      <td>Female</td>\n",
       "      <td>0</td>\n",
       "      <td>0</td>\n",
       "      <td>40</td>\n",
       "      <td>Cuba</td>\n",
       "      <td>&lt;=50K</td>\n",
       "    </tr>\n",
       "  </tbody>\n",
       "</table>\n",
       "</div>"
      ],
      "text/plain": [
       "   age          workclass  final-weight  ...  hour-per-week  native-country  income\n",
       "0   39          State-gov         77516  ...             40   United-States   <=50K\n",
       "1   50   Self-emp-not-inc         83311  ...             13   United-States   <=50K\n",
       "2   38            Private        215646  ...             40   United-States   <=50K\n",
       "3   53            Private        234721  ...             40   United-States   <=50K\n",
       "4   28            Private        338409  ...             40            Cuba   <=50K\n",
       "\n",
       "[5 rows x 14 columns]"
      ]
     },
     "execution_count": 45,
     "metadata": {},
     "output_type": "execute_result"
    }
   ],
   "source": [
    "# Para a validação cruzada podemos utilizar o conjunto de dados inteiro sem a necessidade de divisão em treino e teste\n",
    "df_clean.head()"
   ]
  },
  {
   "cell_type": "code",
   "execution_count": 46,
   "id": "current-limitation",
   "metadata": {
    "ExecuteTime": {
     "end_time": "2021-11-05T12:12:39.059945Z",
     "start_time": "2021-11-05T12:12:39.047372Z"
    },
    "executionInfo": {
     "elapsed": 6,
     "status": "ok",
     "timestamp": 1636122331820,
     "user": {
      "displayName": "Sergio Baldo Junior",
      "photoUrl": "https://lh3.googleusercontent.com/a-/AOh14Gi2otI0IZRjpoY3uoM55ZI_QS5wC4KGsRtL_Nle1A=s64",
      "userId": "10630088078956449092"
     },
     "user_tz": 180
    },
    "id": "current-limitation"
   },
   "outputs": [],
   "source": [
    "# Obter a classe dos dados\n",
    "Y = df_clean['income']\n",
    "\n",
    "# Obter somente os atributos\n",
    "df_X = df_clean.drop('income', axis=1)"
   ]
  },
  {
   "cell_type": "code",
   "execution_count": 47,
   "id": "ordered-today",
   "metadata": {
    "ExecuteTime": {
     "end_time": "2021-11-05T12:12:39.168562Z",
     "start_time": "2021-11-05T12:12:39.063541Z"
    },
    "executionInfo": {
     "elapsed": 2,
     "status": "ok",
     "timestamp": 1636122332741,
     "user": {
      "displayName": "Sergio Baldo Junior",
      "photoUrl": "https://lh3.googleusercontent.com/a-/AOh14Gi2otI0IZRjpoY3uoM55ZI_QS5wC4KGsRtL_Nle1A=s64",
      "userId": "10630088078956449092"
     },
     "user_tz": 180
    },
    "id": "ordered-today"
   },
   "outputs": [],
   "source": [
    "# Aplicar o Pipeline criado no conjunto de dados\n",
    "X = full_pipeline.fit_transform(df_X).toarray()\n",
    "\n",
    "# Realizar o LabelEncoder na classe\n",
    "label_encoder = LabelEncoder()\n",
    "Y = label_encoder.fit_transform(Y)"
   ]
  },
  {
   "cell_type": "code",
   "execution_count": 48,
   "id": "mature-difference",
   "metadata": {
    "ExecuteTime": {
     "end_time": "2021-11-05T12:12:39.174955Z",
     "start_time": "2021-11-05T12:12:39.170390Z"
    },
    "colab": {
     "base_uri": "https://localhost:8080/"
    },
    "executionInfo": {
     "elapsed": 16,
     "status": "ok",
     "timestamp": 1636122333503,
     "user": {
      "displayName": "Sergio Baldo Junior",
      "photoUrl": "https://lh3.googleusercontent.com/a-/AOh14Gi2otI0IZRjpoY3uoM55ZI_QS5wC4KGsRtL_Nle1A=s64",
      "userId": "10630088078956449092"
     },
     "user_tz": 180
    },
    "id": "mature-difference",
    "outputId": "c02a39af-39b6-4a83-d01c-7e9aa7f97cd2",
    "scrolled": true
   },
   "outputs": [
    {
     "name": "stdout",
     "output_type": "stream",
     "text": [
      "Exemplo 1:\n",
      " [0.45205479 0.04727738 0.8        0.         0.         0.12244898\n",
      " 0.         0.         0.         0.         1.         0.\n",
      " 0.         0.         0.         1.         0.         0.\n",
      " 0.         0.         0.         0.         0.         1.\n",
      " 0.         0.         0.         0.         0.         0.\n",
      " 0.         0.         0.         0.         1.         0.\n",
      " 0.         0.         0.         0.         0.         0.\n",
      " 0.         0.         1.         0.         1.         0.\n",
      " 0.         0.         0.         0.         0.         0.\n",
      " 0.         0.         0.         0.         0.         0.\n",
      " 0.         0.         0.         0.         0.         0.\n",
      " 0.         0.         0.         0.         0.         0.\n",
      " 0.         0.         0.         0.         0.         0.\n",
      " 0.         0.         0.         0.         0.         0.\n",
      " 0.         1.         0.         0.        ]\n"
     ]
    }
   ],
   "source": [
    "print(f'Exemplo 1:\\n {X[1]}')"
   ]
  },
  {
   "cell_type": "code",
   "execution_count": 49,
   "id": "formal-loading",
   "metadata": {
    "ExecuteTime": {
     "end_time": "2021-11-05T12:12:39.182668Z",
     "start_time": "2021-11-05T12:12:39.178090Z"
    },
    "colab": {
     "base_uri": "https://localhost:8080/"
    },
    "executionInfo": {
     "elapsed": 5,
     "status": "ok",
     "timestamp": 1636122335004,
     "user": {
      "displayName": "Sergio Baldo Junior",
      "photoUrl": "https://lh3.googleusercontent.com/a-/AOh14Gi2otI0IZRjpoY3uoM55ZI_QS5wC4KGsRtL_Nle1A=s64",
      "userId": "10630088078956449092"
     },
     "user_tz": 180
    },
    "id": "formal-loading",
    "outputId": "5747eace-5f06-4ecc-8899-b60d03d07e75"
   },
   "outputs": [
    {
     "name": "stdout",
     "output_type": "stream",
     "text": [
      "Clase do exemplo 1:\n",
      " 0\n"
     ]
    }
   ],
   "source": [
    "print(f'Clase do exemplo 1:\\n {Y[1]}')"
   ]
  },
  {
   "cell_type": "markdown",
   "id": "european-telling",
   "metadata": {
    "id": "european-telling"
   },
   "source": [
    "Para utilizar o método `cross_val_score` devemos passar como parâmtros o modelo de classificação usado, o conjunto de dados X e a classe Y e o número de fold que iremos utilizar na validação cruzada. Além disso, podemos passar o parâmetro `scoring` que irá definir quais métricas queremos calcular em cada interação."
   ]
  },
  {
   "cell_type": "code",
   "execution_count": 50,
   "id": "binding-release",
   "metadata": {
    "ExecuteTime": {
     "end_time": "2021-11-05T12:16:45.501221Z",
     "start_time": "2021-11-05T12:12:39.184759Z"
    },
    "executionInfo": {
     "elapsed": 252667,
     "status": "ok",
     "timestamp": 1636122588643,
     "user": {
      "displayName": "Sergio Baldo Junior",
      "photoUrl": "https://lh3.googleusercontent.com/a-/AOh14Gi2otI0IZRjpoY3uoM55ZI_QS5wC4KGsRtL_Nle1A=s64",
      "userId": "10630088078956449092"
     },
     "user_tz": 180
    },
    "id": "binding-release"
   },
   "outputs": [],
   "source": [
    "from sklearn.model_selection import cross_val_score\n",
    "\n",
    "mlp = MLPClassifier(max_iter=1000, solver='adam', hidden_layer_sizes= 106, \n",
    "                     activation='relu')\n",
    "\n",
    "scores = cross_val_score(mlp, X, Y, cv=5, scoring='accuracy')"
   ]
  },
  {
   "cell_type": "markdown",
   "id": "responsible-taxation",
   "metadata": {
    "id": "responsible-taxation"
   },
   "source": [
    "O método irá retornar todas as acurácias obtidas em cada fold da validação cruzada."
   ]
  },
  {
   "cell_type": "code",
   "execution_count": 51,
   "id": "surrounded-suffering",
   "metadata": {
    "ExecuteTime": {
     "end_time": "2021-11-05T12:16:57.459931Z",
     "start_time": "2021-11-05T12:16:57.455308Z"
    },
    "colab": {
     "base_uri": "https://localhost:8080/"
    },
    "executionInfo": {
     "elapsed": 23,
     "status": "ok",
     "timestamp": 1636122588650,
     "user": {
      "displayName": "Sergio Baldo Junior",
      "photoUrl": "https://lh3.googleusercontent.com/a-/AOh14Gi2otI0IZRjpoY3uoM55ZI_QS5wC4KGsRtL_Nle1A=s64",
      "userId": "10630088078956449092"
     },
     "user_tz": 180
    },
    "id": "surrounded-suffering",
    "outputId": "2105552a-50ed-49fc-ba2b-ed9d5733371a"
   },
   "outputs": [
    {
     "name": "stdout",
     "output_type": "stream",
     "text": [
      "Acurácias: [0.84286425 0.83540527 0.84101459 0.85013263 0.85344828]\n"
     ]
    }
   ],
   "source": [
    "print(f'Acurácias: {scores}')"
   ]
  },
  {
   "cell_type": "markdown",
   "id": "specific-prototype",
   "metadata": {
    "id": "specific-prototype"
   },
   "source": [
    "### Usando cross_val_score"
   ]
  },
  {
   "cell_type": "markdown",
   "id": "passing-initial",
   "metadata": {
    "id": "passing-initial"
   },
   "source": [
    "Outra forma de realizar a validação cruzada é gerando índices que podem ser usados para gerar divisões de conjuntos de dados de acordo com diferentes estratégias de validação cruzada. Essa estratégia é mais ampla e pode ser usada quando desejamos obter algumas métricas mais detalhadas do modelo em cada fold. \n",
    "\n",
    "Um dos métodos para realizar esse tipo de validação cruzada é utilizar o objeto `StratifiedKFold` presente no subpacote `sklearn.model_selection`. Esse método é uma variação de k-fold que retorna os dados estratificados: cada conjunto contém aproximadamente a mesma porcentagem de amostras de cada classe de destino que o conjunto original.\n",
    "\n",
    "O `StratifiedKFold` é semelhante ao método `StratifiedShuffleSplit` utilizado no início para gerar os conjuntos de validação e teste. A única diferença é que o método `StratifiedShuffleSplit` embaralha os dados sempre que irá realizar a divisão, já o método `StratifiedKFold` só embaralha os dados uma única vez."
   ]
  },
  {
   "cell_type": "code",
   "execution_count": 52,
   "id": "primary-polls",
   "metadata": {
    "ExecuteTime": {
     "end_time": "2021-11-05T12:36:55.899502Z",
     "start_time": "2021-11-05T12:26:45.307110Z"
    },
    "colab": {
     "base_uri": "https://localhost:8080/"
    },
    "executionInfo": {
     "elapsed": 680894,
     "status": "ok",
     "timestamp": 1636123269530,
     "user": {
      "displayName": "Sergio Baldo Junior",
      "photoUrl": "https://lh3.googleusercontent.com/a-/AOh14Gi2otI0IZRjpoY3uoM55ZI_QS5wC4KGsRtL_Nle1A=s64",
      "userId": "10630088078956449092"
     },
     "user_tz": 180
    },
    "id": "primary-polls",
    "outputId": "96f24fb2-936b-4679-f124-a65153d677eb"
   },
   "outputs": [
    {
     "name": "stdout",
     "output_type": "stream",
     "text": [
      "\n",
      "Métricas obtidas no Fold 0: \n",
      "\n",
      "Acurácia: 0.84\n",
      "Precisão: 0.70\n",
      "Recall: 0.61\n",
      "F1_score: 0.65\n",
      "\n",
      "Matriz de Confusão: \n",
      " [[2071  195]\n",
      " [ 294  457]]\n",
      "\n",
      "Métricas obtidas no Fold 1: \n",
      "\n",
      "Acurácia: 0.85\n",
      "Precisão: 0.71\n",
      "Recall: 0.66\n",
      "F1_score: 0.68\n",
      "\n",
      "Matriz de Confusão: \n",
      " [[2059  207]\n",
      " [ 253  498]]\n",
      "\n",
      "Métricas obtidas no Fold 2: \n",
      "\n",
      "Acurácia: 0.84\n",
      "Precisão: 0.69\n",
      "Recall: 0.68\n",
      "F1_score: 0.69\n",
      "\n",
      "Matriz de Confusão: \n",
      " [[2034  232]\n",
      " [ 238  512]]\n",
      "\n",
      "Métricas obtidas no Fold 3: \n",
      "\n",
      "Acurácia: 0.83\n",
      "Precisão: 0.67\n",
      "Recall: 0.65\n",
      "F1_score: 0.66\n",
      "\n",
      "Matriz de Confusão: \n",
      " [[2026  240]\n",
      " [ 260  490]]\n",
      "\n",
      "Métricas obtidas no Fold 4: \n",
      "\n",
      "Acurácia: 0.84\n",
      "Precisão: 0.69\n",
      "Recall: 0.67\n",
      "F1_score: 0.68\n",
      "\n",
      "Matriz de Confusão: \n",
      " [[2035  230]\n",
      " [ 248  503]]\n",
      "\n",
      "Métricas obtidas no Fold 5: \n",
      "\n",
      "Acurácia: 0.86\n",
      "Precisão: 0.76\n",
      "Recall: 0.60\n",
      "F1_score: 0.68\n",
      "\n",
      "Matriz de Confusão: \n",
      " [[2125  140]\n",
      " [ 297  454]]\n",
      "\n",
      "Métricas obtidas no Fold 6: \n",
      "\n",
      "Acurácia: 0.84\n",
      "Precisão: 0.70\n",
      "Recall: 0.62\n",
      "F1_score: 0.66\n",
      "\n",
      "Matriz de Confusão: \n",
      " [[2070  195]\n",
      " [ 285  466]]\n",
      "\n",
      "Métricas obtidas no Fold 7: \n",
      "\n",
      "Acurácia: 0.85\n",
      "Precisão: 0.73\n",
      "Recall: 0.66\n",
      "F1_score: 0.69\n",
      "\n",
      "Matriz de Confusão: \n",
      " [[2078  187]\n",
      " [ 255  496]]\n",
      "\n",
      "Métricas obtidas no Fold 8: \n",
      "\n",
      "Acurácia: 0.85\n",
      "Precisão: 0.74\n",
      "Recall: 0.62\n",
      "F1_score: 0.67\n",
      "\n",
      "Matriz de Confusão: \n",
      " [[2098  167]\n",
      " [ 285  466]]\n",
      "\n",
      "Métricas obtidas no Fold 9: \n",
      "\n",
      "Acurácia: 0.85\n",
      "Precisão: 0.74\n",
      "Recall: 0.61\n",
      "F1_score: 0.67\n",
      "\n",
      "Matriz de Confusão: \n",
      " [[2105  160]\n",
      " [ 296  455]]\n"
     ]
    }
   ],
   "source": [
    "from sklearn.model_selection import StratifiedKFold\n",
    "from sklearn.base import clone \n",
    "\n",
    "# Quando chamado o objeto devemos informar a quantidade de divisões que queremos\n",
    "skfolds = StratifiedKFold(n_splits=10)\n",
    "\n",
    "mlp = MLPClassifier(max_iter=1000, solver='adam', hidden_layer_sizes= 106, \n",
    "                     activation='relu')\n",
    "\n",
    "i = 0\n",
    "for train_index, test_index  in skfolds.split(X, Y):\n",
    "    clone_mlp = clone(mlp)\n",
    "    X_train = X[train_index]\n",
    "    y_train = Y[train_index]\n",
    "    X_test = X[test_index]\n",
    "    y_test = Y[test_index]\n",
    "    \n",
    "    clone_mlp.fit(X_train, y_train)\n",
    "    y_pred = clone_mlp.predict(X_test)\n",
    "    \n",
    "    print(f'\\nMétricas obtidas no Fold {i}: \\n')\n",
    "    i += 1 \n",
    "    evaluate_model(y_test, y_pred)"
   ]
  },
  {
   "cell_type": "markdown",
   "id": "large-finger",
   "metadata": {
    "id": "large-finger"
   },
   "source": [
    "## Lidando com os dados desbalanceados"
   ]
  },
  {
   "cell_type": "markdown",
   "id": "settled-float",
   "metadata": {
    "id": "settled-float"
   },
   "source": [
    "Existe algumas formas de lidar com um conjunto de dados desbalanceados:\n",
    "\n",
    "**Undersampling:** Esse método consiste em reduzir de forma aleatória os exemplos da classe majoritária. Para realizar essa técnica podemos utilizar o algoritmo `NearMiss` que consiste em reduzir de forma aleatória os exemplos da classe majoritária, porém ele seleciona os exemplos com base na distância. Esse método faz com que quando instâncias das duas classes estão muito próximas umas das outras, é removido as instâncias da classe majoritária para obter uma maior separabilidade entre as classes.\n",
    "\n",
    "**Oversampling:** Esse método consiste em replicar dados aleatórios da classe minoritária. Para realizar essa técnica podemos utilizar o método `Smote` que consiste em gerar dados sintéticos (não duplicados) da classe minoritária a partir de vizinhos. Esse método calcula quais são os vizinhos mais próximos e as características desses vizinhos para criar novos dados. Se o número de dados gerados for muito grande podemos ter um overfiting.\n",
    "**OBS:** Como esse método duplica os dados já existentes ele está propício a dar overfitting.\n",
    "\n"
   ]
  },
  {
   "cell_type": "code",
   "execution_count": 53,
   "id": "permanent-subscriber",
   "metadata": {
    "ExecuteTime": {
     "end_time": "2021-11-05T12:55:44.842249Z",
     "start_time": "2021-11-05T12:55:44.829971Z"
    },
    "colab": {
     "base_uri": "https://localhost:8080/"
    },
    "executionInfo": {
     "elapsed": 41,
     "status": "ok",
     "timestamp": 1636123269532,
     "user": {
      "displayName": "Sergio Baldo Junior",
      "photoUrl": "https://lh3.googleusercontent.com/a-/AOh14Gi2otI0IZRjpoY3uoM55ZI_QS5wC4KGsRtL_Nle1A=s64",
      "userId": "10630088078956449092"
     },
     "user_tz": 180
    },
    "id": "permanent-subscriber",
    "outputId": "45d2c336-c2d9-41a9-823c-696f0aa89734"
   },
   "outputs": [
    {
     "data": {
      "text/plain": [
       " <=50K    0.751078\n",
       " >50K     0.248922\n",
       "Name: income, dtype: float64"
      ]
     },
     "execution_count": 53,
     "metadata": {},
     "output_type": "execute_result"
    }
   ],
   "source": [
    "# Primeiro vamos ver a porcentagem de dados de cada classe\n",
    "df_clean['income'].value_counts() / len(df_clean)"
   ]
  },
  {
   "cell_type": "code",
   "execution_count": 54,
   "id": "adjacent-office",
   "metadata": {
    "ExecuteTime": {
     "end_time": "2021-11-05T12:55:45.581464Z",
     "start_time": "2021-11-05T12:55:45.393954Z"
    },
    "colab": {
     "base_uri": "https://localhost:8080/",
     "height": 286
    },
    "executionInfo": {
     "elapsed": 31,
     "status": "ok",
     "timestamp": 1636123269533,
     "user": {
      "displayName": "Sergio Baldo Junior",
      "photoUrl": "https://lh3.googleusercontent.com/a-/AOh14Gi2otI0IZRjpoY3uoM55ZI_QS5wC4KGsRtL_Nle1A=s64",
      "userId": "10630088078956449092"
     },
     "user_tz": 180
    },
    "id": "adjacent-office",
    "outputId": "f05a3fa5-d051-47c3-8902-94c9bdbfc885"
   },
   "outputs": [
    {
     "data": {
      "image/png": "[encoded data removed]",
      "text/plain": [
       "<Figure size 432x288 with 1 Axes>"
      ]
     },
     "metadata": {
      "needs_background": "light"
     },
     "output_type": "display_data"
    }
   ],
   "source": [
    "ax = sns.countplot(x=\"income\", data=df_clean)"
   ]
  },
  {
   "cell_type": "code",
   "execution_count": 55,
   "id": "stainless-riding",
   "metadata": {
    "ExecuteTime": {
     "end_time": "2021-11-05T12:55:46.319850Z",
     "start_time": "2021-11-05T12:55:46.190599Z"
    },
    "executionInfo": {
     "elapsed": 571,
     "status": "ok",
     "timestamp": 1636123270083,
     "user": {
      "displayName": "Sergio Baldo Junior",
      "photoUrl": "https://lh3.googleusercontent.com/a-/AOh14Gi2otI0IZRjpoY3uoM55ZI_QS5wC4KGsRtL_Nle1A=s64",
      "userId": "10630088078956449092"
     },
     "user_tz": 180
    },
    "id": "stainless-riding"
   },
   "outputs": [],
   "source": [
    "# Obter a classe dos dados\n",
    "Y = df_clean['income']\n",
    "\n",
    "# Obter somente os atributos\n",
    "df_X = df_clean.drop('income', axis=1)\n",
    "\n",
    "# Aplicar o Pipeline criado no conjunto de dados\n",
    "X = full_pipeline.fit_transform(df_X).toarray()\n",
    "\n",
    "# Realizar o LabelEncoder na classe\n",
    "label_encoder = LabelEncoder()\n",
    "Y = label_encoder.fit_transform(Y)"
   ]
  },
  {
   "cell_type": "markdown",
   "id": "spare-seafood",
   "metadata": {
    "id": "spare-seafood"
   },
   "source": [
    "Para aplicar as técnicas a biblioteca [imblearn-learn](https://pypi.org/project/imbalanced-learn/) deve ser instalada. "
   ]
  },
  {
   "cell_type": "markdown",
   "id": "driving-tuning",
   "metadata": {
    "ExecuteTime": {
     "end_time": "2021-11-05T12:36:55.907334Z",
     "start_time": "2021-11-05T12:36:55.903247Z"
    },
    "id": "driving-tuning"
   },
   "source": [
    "###  Aplicando a técnica `NearMiss`"
   ]
  },
  {
   "cell_type": "code",
   "execution_count": 56,
   "id": "aboriginal-specific",
   "metadata": {
    "ExecuteTime": {
     "end_time": "2021-11-05T12:55:49.063067Z",
     "start_time": "2021-11-05T12:55:49.060223Z"
    },
    "executionInfo": {
     "elapsed": 5,
     "status": "ok",
     "timestamp": 1636123270084,
     "user": {
      "displayName": "Sergio Baldo Junior",
      "photoUrl": "https://lh3.googleusercontent.com/a-/AOh14Gi2otI0IZRjpoY3uoM55ZI_QS5wC4KGsRtL_Nle1A=s64",
      "userId": "10630088078956449092"
     },
     "user_tz": 180
    },
    "id": "aboriginal-specific"
   },
   "outputs": [],
   "source": [
    "from imblearn.under_sampling import NearMiss"
   ]
  },
  {
   "cell_type": "code",
   "execution_count": 57,
   "id": "active-latex",
   "metadata": {
    "ExecuteTime": {
     "end_time": "2021-11-05T12:55:55.511682Z",
     "start_time": "2021-11-05T12:55:49.791644Z"
    },
    "executionInfo": {
     "elapsed": 22005,
     "status": "ok",
     "timestamp": 1636123292086,
     "user": {
      "displayName": "Sergio Baldo Junior",
      "photoUrl": "https://lh3.googleusercontent.com/a-/AOh14Gi2otI0IZRjpoY3uoM55ZI_QS5wC4KGsRtL_Nle1A=s64",
      "userId": "10630088078956449092"
     },
     "user_tz": 180
    },
    "id": "active-latex"
   },
   "outputs": [],
   "source": [
    "# Devemos instânciar o objeto \n",
    "# Alguns parâmetros pode ser configurado\n",
    "nr = NearMiss()\n",
    "\n",
    "# Aplicar a técnica \n",
    "X_new, y_new = nr.fit_resample(X, Y)"
   ]
  },
  {
   "cell_type": "code",
   "execution_count": 58,
   "id": "wicked-surfing",
   "metadata": {
    "ExecuteTime": {
     "end_time": "2021-11-05T12:56:05.198105Z",
     "start_time": "2021-11-05T12:56:04.769547Z"
    },
    "colab": {
     "base_uri": "https://localhost:8080/",
     "height": 268
    },
    "executionInfo": {
     "elapsed": 12,
     "status": "ok",
     "timestamp": 1636123292087,
     "user": {
      "displayName": "Sergio Baldo Junior",
      "photoUrl": "https://lh3.googleusercontent.com/a-/AOh14Gi2otI0IZRjpoY3uoM55ZI_QS5wC4KGsRtL_Nle1A=s64",
      "userId": "10630088078956449092"
     },
     "user_tz": 180
    },
    "id": "wicked-surfing",
    "outputId": "8a399901-a2e8-4ea4-a1dd-acd3806233a7"
   },
   "outputs": [
    {
     "data": {
      "image/png": "[encoded data removed]",
      "text/plain": [
       "<Figure size 432x288 with 1 Axes>"
      ]
     },
     "metadata": {
      "needs_background": "light"
     },
     "output_type": "display_data"
    }
   ],
   "source": [
    "ax = sns.countplot(x=y_new)"
   ]
  },
  {
   "cell_type": "markdown",
   "id": "fresh-spanking",
   "metadata": {
    "id": "fresh-spanking"
   },
   "source": [
    "### Aplicando a técnica  `Smote` (Synthetic Minority Over-sampling Technique)"
   ]
  },
  {
   "cell_type": "code",
   "execution_count": 59,
   "id": "fundamental-tennis",
   "metadata": {
    "ExecuteTime": {
     "end_time": "2021-11-05T12:56:09.729538Z",
     "start_time": "2021-11-05T12:56:09.726236Z"
    },
    "executionInfo": {
     "elapsed": 8,
     "status": "ok",
     "timestamp": 1636123292088,
     "user": {
      "displayName": "Sergio Baldo Junior",
      "photoUrl": "https://lh3.googleusercontent.com/a-/AOh14Gi2otI0IZRjpoY3uoM55ZI_QS5wC4KGsRtL_Nle1A=s64",
      "userId": "10630088078956449092"
     },
     "user_tz": 180
    },
    "id": "fundamental-tennis"
   },
   "outputs": [],
   "source": [
    "from imblearn.over_sampling import SMOTE"
   ]
  },
  {
   "cell_type": "code",
   "execution_count": 60,
   "id": "abstract-hello",
   "metadata": {
    "ExecuteTime": {
     "end_time": "2021-11-05T12:56:12.220655Z",
     "start_time": "2021-11-05T12:56:10.168517Z"
    },
    "executionInfo": {
     "elapsed": 6708,
     "status": "ok",
     "timestamp": 1636123298789,
     "user": {
      "displayName": "Sergio Baldo Junior",
      "photoUrl": "https://lh3.googleusercontent.com/a-/AOh14Gi2otI0IZRjpoY3uoM55ZI_QS5wC4KGsRtL_Nle1A=s64",
      "userId": "10630088078956449092"
     },
     "user_tz": 180
    },
    "id": "abstract-hello"
   },
   "outputs": [],
   "source": [
    "# Devemos instânciar o objeto \n",
    "# Essa técnica possui o parâmetro sampling_strategy que irá definir qual a porcentagem de dados sintéticos\n",
    "# iremos gerar.\n",
    "smt = SMOTE(sampling_strategy=0.7) # irá gerar 70% de dados sintéticos\n",
    "\n",
    "# Aplicar a técnica \n",
    "X_new, y_new = smt.fit_resample(X, Y)"
   ]
  },
  {
   "cell_type": "code",
   "execution_count": 61,
   "id": "naked-alert",
   "metadata": {
    "ExecuteTime": {
     "end_time": "2021-11-05T12:56:14.313287Z",
     "start_time": "2021-11-05T12:56:14.161001Z"
    },
    "colab": {
     "base_uri": "https://localhost:8080/",
     "height": 268
    },
    "executionInfo": {
     "elapsed": 13,
     "status": "ok",
     "timestamp": 1636123298790,
     "user": {
      "displayName": "Sergio Baldo Junior",
      "photoUrl": "https://lh3.googleusercontent.com/a-/AOh14Gi2otI0IZRjpoY3uoM55ZI_QS5wC4KGsRtL_Nle1A=s64",
      "userId": "10630088078956449092"
     },
     "user_tz": 180
    },
    "id": "naked-alert",
    "outputId": "c75c62f5-06b7-4615-8f1c-c79bdc6a5684"
   },
   "outputs": [
    {
     "data": {
      "image/png": "[encoded data removed]",
      "text/plain": [
       "<Figure size 432x288 with 1 Axes>"
      ]
     },
     "metadata": {
      "needs_background": "light"
     },
     "output_type": "display_data"
    }
   ],
   "source": [
    "ax = sns.countplot(x=y_new)"
   ]
  },
  {
   "cell_type": "markdown",
   "id": "consistent-emerald",
   "metadata": {
    "id": "consistent-emerald"
   },
   "source": [
    "## Referências"
   ]
  },
  {
   "cell_type": "markdown",
   "id": "corrected-laser",
   "metadata": {
    "id": "corrected-laser"
   },
   "source": [
    "Livro: Hands Machine Learning with Scikit-Learn, Keras & TensorFlow (2ed).\n",
    "\n",
    "Documentação oficial: [Scikit-learn](https://scikit-learn.org/stable/index.html)."
   ]
  }
 ],
 "metadata": {
  "colab": {
   "name": "Introdução ao Scikit-Learn.ipynb",
   "provenance": []
  },
  "kernelspec": {
   "display_name": "env_scikit_learn",
   "language": "python",
   "name": "env_scikit_learn"
  },
  "language_info": {
   "codemirror_mode": {
    "name": "ipython",
    "version": 3
   },
   "file_extension": ".py",
   "mimetype": "text/x-python",
   "name": "python",
   "nbconvert_exporter": "python",
   "pygments_lexer": "ipython3",
   "version": "3.8.5"
  },
  "toc": {
   "base_numbering": 1,
   "nav_menu": {},
   "number_sections": false,
   "sideBar": true,
   "skip_h1_title": false,
   "title_cell": "Table of Contents",
   "title_sidebar": "Contents",
   "toc_cell": false,
   "toc_position": {},
   "toc_section_display": true,
   "toc_window_display": false
  }
 },
 "nbformat": 4,
 "nbformat_minor": 5
}
